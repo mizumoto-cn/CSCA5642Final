{
 "cells": [
  {
   "cell_type": "markdown",
   "id": "ab1a3989",
   "metadata": {
    "papermill": {
     "duration": 0.010579,
     "end_time": "2024-04-29T11:58:53.824916",
     "exception": false,
     "start_time": "2024-04-29T11:58:53.814337",
     "status": "completed"
    },
    "tags": []
   },
   "source": [
    "https://github.com/mizumoto-cn/CSCA5642Final\n",
    "\n",
    "Dataset: https://www.kaggle.com/datasets/naveengowda16/credit-card-fraud-detection-analysis/data"
   ]
  },
  {
   "cell_type": "markdown",
   "id": "497d76cb",
   "metadata": {
    "papermill": {
     "duration": 0.009818,
     "end_time": "2024-04-29T11:58:53.845026",
     "exception": false,
     "start_time": "2024-04-29T11:58:53.835208",
     "status": "completed"
    },
    "tags": []
   },
   "source": [
    "# ANN Credit Card Fraud Detection\n",
    "\n",
    "## Introduction\n",
    "\n",
    "### What is credit card fraud?\n",
    "Credit card fraud is when someone uses another person's credit card or account information to make unauthorized purchases or obtain funds through cash withdrawals. Credit card fraud occurs not only online, but also in brick-and-mortar stores. As a merchant, you can avoid serious trouble and unwanted public attention by recognizing possible fraudulent credit card use in the payment environment.\n",
    "\n",
    "### Three Challenges to Credit Card Fraud\n",
    "It's not always easy to reach a consensus on what \"fraud\" means.\n",
    "No matter how you define fraud, the vast majority of transactions are not fraudulent.\n",
    "Most merchants are not very good at assessing the impact of fraud on their business.\n",
    "Problem Statement:\n",
    "The credit card fraud detection problem consists of modeling past credit card transaction data that includes transactions identified as fraudulent. The model is then used to identify a new transaction as fraudulent. Our goal is to detect 100% of fraudulent transactions while minimizing false fraud classification.\n",
    "\n",
    "### Observation.\n",
    "In practice, very few transactions are fraudulent (less than 1%). The dataset is highly skewed, with only 492 frauds out of a total of 284,807 observations. This results in only 0.172% of fraud cases. This skewed set is evidenced by the low number of fraudulent transactions.\n",
    "The dataset consists of the values of 28 'Principal Component Analysis (PCA)' transformed features, i.e., V1 to V28. In addition, no metadata on the original features was provided, so no pre-analysis or characterization could be performed.\n",
    "The 'Time' and 'Amount' features are unconverted data.\n",
    "There are no missing values in the dataset.\n",
    "\n",
    "### How does category imbalance affect model performance?\n",
    "Typically, we want to maximize recall while limiting FPR (false positive rate), but you can misclassify a lot of transactions and still keep FPR low because you have a large number of true negatives.\n",
    "This favors choosing relatively low thresholds, which leads to high recall but very low precision.\n",
    "\n",
    "### The problem?\n",
    "Training a model on a balanced dataset optimizes performance on validation data.\n",
    "However, the goal is to optimize performance on an unbalanced production dataset. You ultimately need to find the balance that works best in production.\n",
    "\n",
    "### One way to solve this problem is to:\n",
    "Use all fraudulent transactions, but subsample non-fraudulent transactions as needed to achieve our target rate.\n",
    "\n",
    "Since all features are anonymous, we will focus our analysis on non-anonymous features: __time, Amount__\n",
    "How different are the amounts used in different transaction categories?\n",
    "Do fraudulent transactions occur more frequently during certain time periods?\n",
    "In this notebook, we will use Artificial Neural Networks (ANN) to build a predictive model."
   ]
  },
  {
   "cell_type": "code",
   "execution_count": 1,
   "id": "72f41ce2",
   "metadata": {
    "execution": {
     "iopub.execute_input": "2024-04-29T11:58:53.866410Z",
     "iopub.status.busy": "2024-04-29T11:58:53.865844Z",
     "iopub.status.idle": "2024-04-29T11:58:55.821282Z",
     "shell.execute_reply": "2024-04-29T11:58:55.820386Z"
    },
    "metadata": {},
    "papermill": {
     "duration": 1.969047,
     "end_time": "2024-04-29T11:58:55.823935",
     "exception": false,
     "start_time": "2024-04-29T11:58:53.854888",
     "status": "completed"
    },
    "tags": []
   },
   "outputs": [],
   "source": [
    "import pandas as pd\n",
    "import numpy as np\n",
    "import matplotlib.pyplot as plt\n",
    "import seaborn as sns\n",
    "\n",
    "%matplotlib inline"
   ]
  },
  {
   "cell_type": "markdown",
   "id": "297dcff8",
   "metadata": {
    "papermill": {
     "duration": 0.010812,
     "end_time": "2024-04-29T11:58:55.845388",
     "exception": false,
     "start_time": "2024-04-29T11:58:55.834576",
     "status": "completed"
    },
    "tags": []
   },
   "source": [
    "## EDA\n",
    "\n"
   ]
  },
  {
   "cell_type": "code",
   "execution_count": 2,
   "id": "0871a086",
   "metadata": {
    "execution": {
     "iopub.execute_input": "2024-04-29T11:58:55.866875Z",
     "iopub.status.busy": "2024-04-29T11:58:55.866512Z",
     "iopub.status.idle": "2024-04-29T11:58:58.936332Z",
     "shell.execute_reply": "2024-04-29T11:58:58.935301Z"
    },
    "metadata": {},
    "papermill": {
     "duration": 3.083552,
     "end_time": "2024-04-29T11:58:58.938932",
     "exception": false,
     "start_time": "2024-04-29T11:58:55.855380",
     "status": "completed"
    },
    "tags": []
   },
   "outputs": [
    {
     "data": {
      "text/html": [
       "<div>\n",
       "<style scoped>\n",
       "    .dataframe tbody tr th:only-of-type {\n",
       "        vertical-align: middle;\n",
       "    }\n",
       "\n",
       "    .dataframe tbody tr th {\n",
       "        vertical-align: top;\n",
       "    }\n",
       "\n",
       "    .dataframe thead th {\n",
       "        text-align: right;\n",
       "    }\n",
       "</style>\n",
       "<table border=\"1\" class=\"dataframe\">\n",
       "  <thead>\n",
       "    <tr style=\"text-align: right;\">\n",
       "      <th></th>\n",
       "      <th>Time</th>\n",
       "      <th>V1</th>\n",
       "      <th>V2</th>\n",
       "      <th>V3</th>\n",
       "      <th>V4</th>\n",
       "      <th>V5</th>\n",
       "      <th>V6</th>\n",
       "      <th>V7</th>\n",
       "      <th>V8</th>\n",
       "      <th>V9</th>\n",
       "      <th>...</th>\n",
       "      <th>V21</th>\n",
       "      <th>V22</th>\n",
       "      <th>V23</th>\n",
       "      <th>V24</th>\n",
       "      <th>V25</th>\n",
       "      <th>V26</th>\n",
       "      <th>V27</th>\n",
       "      <th>V28</th>\n",
       "      <th>Amount</th>\n",
       "      <th>Class</th>\n",
       "    </tr>\n",
       "  </thead>\n",
       "  <tbody>\n",
       "    <tr>\n",
       "      <th>0</th>\n",
       "      <td>0.0</td>\n",
       "      <td>-1.359807</td>\n",
       "      <td>-0.072781</td>\n",
       "      <td>2.536347</td>\n",
       "      <td>1.378155</td>\n",
       "      <td>-0.338321</td>\n",
       "      <td>0.462388</td>\n",
       "      <td>0.239599</td>\n",
       "      <td>0.098698</td>\n",
       "      <td>0.363787</td>\n",
       "      <td>...</td>\n",
       "      <td>-0.018307</td>\n",
       "      <td>0.277838</td>\n",
       "      <td>-0.110474</td>\n",
       "      <td>0.066928</td>\n",
       "      <td>0.128539</td>\n",
       "      <td>-0.189115</td>\n",
       "      <td>0.133558</td>\n",
       "      <td>-0.021053</td>\n",
       "      <td>149.62</td>\n",
       "      <td>0</td>\n",
       "    </tr>\n",
       "    <tr>\n",
       "      <th>1</th>\n",
       "      <td>0.0</td>\n",
       "      <td>1.191857</td>\n",
       "      <td>0.266151</td>\n",
       "      <td>0.166480</td>\n",
       "      <td>0.448154</td>\n",
       "      <td>0.060018</td>\n",
       "      <td>-0.082361</td>\n",
       "      <td>-0.078803</td>\n",
       "      <td>0.085102</td>\n",
       "      <td>-0.255425</td>\n",
       "      <td>...</td>\n",
       "      <td>-0.225775</td>\n",
       "      <td>-0.638672</td>\n",
       "      <td>0.101288</td>\n",
       "      <td>-0.339846</td>\n",
       "      <td>0.167170</td>\n",
       "      <td>0.125895</td>\n",
       "      <td>-0.008983</td>\n",
       "      <td>0.014724</td>\n",
       "      <td>2.69</td>\n",
       "      <td>0</td>\n",
       "    </tr>\n",
       "    <tr>\n",
       "      <th>2</th>\n",
       "      <td>1.0</td>\n",
       "      <td>-1.358354</td>\n",
       "      <td>-1.340163</td>\n",
       "      <td>1.773209</td>\n",
       "      <td>0.379780</td>\n",
       "      <td>-0.503198</td>\n",
       "      <td>1.800499</td>\n",
       "      <td>0.791461</td>\n",
       "      <td>0.247676</td>\n",
       "      <td>-1.514654</td>\n",
       "      <td>...</td>\n",
       "      <td>0.247998</td>\n",
       "      <td>0.771679</td>\n",
       "      <td>0.909412</td>\n",
       "      <td>-0.689281</td>\n",
       "      <td>-0.327642</td>\n",
       "      <td>-0.139097</td>\n",
       "      <td>-0.055353</td>\n",
       "      <td>-0.059752</td>\n",
       "      <td>378.66</td>\n",
       "      <td>0</td>\n",
       "    </tr>\n",
       "    <tr>\n",
       "      <th>3</th>\n",
       "      <td>1.0</td>\n",
       "      <td>-0.966272</td>\n",
       "      <td>-0.185226</td>\n",
       "      <td>1.792993</td>\n",
       "      <td>-0.863291</td>\n",
       "      <td>-0.010309</td>\n",
       "      <td>1.247203</td>\n",
       "      <td>0.237609</td>\n",
       "      <td>0.377436</td>\n",
       "      <td>-1.387024</td>\n",
       "      <td>...</td>\n",
       "      <td>-0.108300</td>\n",
       "      <td>0.005274</td>\n",
       "      <td>-0.190321</td>\n",
       "      <td>-1.175575</td>\n",
       "      <td>0.647376</td>\n",
       "      <td>-0.221929</td>\n",
       "      <td>0.062723</td>\n",
       "      <td>0.061458</td>\n",
       "      <td>123.50</td>\n",
       "      <td>0</td>\n",
       "    </tr>\n",
       "    <tr>\n",
       "      <th>4</th>\n",
       "      <td>2.0</td>\n",
       "      <td>-1.158233</td>\n",
       "      <td>0.877737</td>\n",
       "      <td>1.548718</td>\n",
       "      <td>0.403034</td>\n",
       "      <td>-0.407193</td>\n",
       "      <td>0.095921</td>\n",
       "      <td>0.592941</td>\n",
       "      <td>-0.270533</td>\n",
       "      <td>0.817739</td>\n",
       "      <td>...</td>\n",
       "      <td>-0.009431</td>\n",
       "      <td>0.798278</td>\n",
       "      <td>-0.137458</td>\n",
       "      <td>0.141267</td>\n",
       "      <td>-0.206010</td>\n",
       "      <td>0.502292</td>\n",
       "      <td>0.219422</td>\n",
       "      <td>0.215153</td>\n",
       "      <td>69.99</td>\n",
       "      <td>0</td>\n",
       "    </tr>\n",
       "  </tbody>\n",
       "</table>\n",
       "<p>5 rows × 31 columns</p>\n",
       "</div>"
      ],
      "text/plain": [
       "   Time        V1        V2        V3        V4        V5        V6        V7  \\\n",
       "0   0.0 -1.359807 -0.072781  2.536347  1.378155 -0.338321  0.462388  0.239599   \n",
       "1   0.0  1.191857  0.266151  0.166480  0.448154  0.060018 -0.082361 -0.078803   \n",
       "2   1.0 -1.358354 -1.340163  1.773209  0.379780 -0.503198  1.800499  0.791461   \n",
       "3   1.0 -0.966272 -0.185226  1.792993 -0.863291 -0.010309  1.247203  0.237609   \n",
       "4   2.0 -1.158233  0.877737  1.548718  0.403034 -0.407193  0.095921  0.592941   \n",
       "\n",
       "         V8        V9  ...       V21       V22       V23       V24       V25  \\\n",
       "0  0.098698  0.363787  ... -0.018307  0.277838 -0.110474  0.066928  0.128539   \n",
       "1  0.085102 -0.255425  ... -0.225775 -0.638672  0.101288 -0.339846  0.167170   \n",
       "2  0.247676 -1.514654  ...  0.247998  0.771679  0.909412 -0.689281 -0.327642   \n",
       "3  0.377436 -1.387024  ... -0.108300  0.005274 -0.190321 -1.175575  0.647376   \n",
       "4 -0.270533  0.817739  ... -0.009431  0.798278 -0.137458  0.141267 -0.206010   \n",
       "\n",
       "        V26       V27       V28  Amount  Class  \n",
       "0 -0.189115  0.133558 -0.021053  149.62      0  \n",
       "1  0.125895 -0.008983  0.014724    2.69      0  \n",
       "2 -0.139097 -0.055353 -0.059752  378.66      0  \n",
       "3 -0.221929  0.062723  0.061458  123.50      0  \n",
       "4  0.502292  0.219422  0.215153   69.99      0  \n",
       "\n",
       "[5 rows x 31 columns]"
      ]
     },
     "execution_count": 2,
     "metadata": {},
     "output_type": "execute_result"
    }
   ],
   "source": [
    "data = pd.read_csv(\"../input/credit-card-fraud-detection-analysis/creditcard_data.csv\")\n",
    "data.head()"
   ]
  },
  {
   "cell_type": "markdown",
   "id": "591317e0",
   "metadata": {
    "papermill": {
     "duration": 0.01076,
     "end_time": "2024-04-29T11:58:58.961533",
     "exception": false,
     "start_time": "2024-04-29T11:58:58.950773",
     "status": "completed"
    },
    "tags": []
   },
   "source": [
    "We can see that there are 31 columns, Time, V1~V28, Amount, and Class. \n",
    "\n",
    "Features V1, V2, … V28 are the principal components obtained with PCA, the only features which have not been transformed with PCA are 'Time' and 'Amount'. \n",
    "\n",
    "Feature 'Time' contains the seconds elapsed between each transaction and the first transaction in the dataset. \n",
    "\n",
    "The feature 'Amount' is the transaction Amount, this feature can be used for example-dependant cost-sensitive learning. \n",
    "\n",
    "Feature 'Class' is the response variable and it takes value 1 in case of fraud and 0 otherwise."
   ]
  },
  {
   "cell_type": "code",
   "execution_count": 3,
   "id": "3e1d7413",
   "metadata": {
    "execution": {
     "iopub.execute_input": "2024-04-29T11:58:58.983217Z",
     "iopub.status.busy": "2024-04-29T11:58:58.982934Z",
     "iopub.status.idle": "2024-04-29T11:58:59.017911Z",
     "shell.execute_reply": "2024-04-29T11:58:59.016614Z"
    },
    "metadata": {},
    "papermill": {
     "duration": 0.048272,
     "end_time": "2024-04-29T11:58:59.020011",
     "exception": false,
     "start_time": "2024-04-29T11:58:58.971739",
     "status": "completed"
    },
    "tags": []
   },
   "outputs": [
    {
     "name": "stdout",
     "output_type": "stream",
     "text": [
      "<class 'pandas.core.frame.DataFrame'>\n",
      "RangeIndex: 284806 entries, 0 to 284805\n",
      "Data columns (total 31 columns):\n",
      " #   Column  Non-Null Count   Dtype  \n",
      "---  ------  --------------   -----  \n",
      " 0   Time    284806 non-null  float64\n",
      " 1   V1      284806 non-null  float64\n",
      " 2   V2      284806 non-null  float64\n",
      " 3   V3      284806 non-null  float64\n",
      " 4   V4      284806 non-null  float64\n",
      " 5   V5      284806 non-null  float64\n",
      " 6   V6      284806 non-null  float64\n",
      " 7   V7      284806 non-null  float64\n",
      " 8   V8      284806 non-null  float64\n",
      " 9   V9      284806 non-null  float64\n",
      " 10  V10     284806 non-null  float64\n",
      " 11  V11     284806 non-null  float64\n",
      " 12  V12     284806 non-null  float64\n",
      " 13  V13     284806 non-null  float64\n",
      " 14  V14     284806 non-null  float64\n",
      " 15  V15     284806 non-null  float64\n",
      " 16  V16     284806 non-null  float64\n",
      " 17  V17     284806 non-null  float64\n",
      " 18  V18     284806 non-null  float64\n",
      " 19  V19     284806 non-null  float64\n",
      " 20  V20     284806 non-null  float64\n",
      " 21  V21     284806 non-null  float64\n",
      " 22  V22     284806 non-null  float64\n",
      " 23  V23     284806 non-null  float64\n",
      " 24  V24     284806 non-null  float64\n",
      " 25  V25     284806 non-null  float64\n",
      " 26  V26     284806 non-null  float64\n",
      " 27  V27     284806 non-null  float64\n",
      " 28  V28     284806 non-null  float64\n",
      " 29  Amount  284806 non-null  float64\n",
      " 30  Class   284806 non-null  int64  \n",
      "dtypes: float64(30), int64(1)\n",
      "memory usage: 67.4 MB\n"
     ]
    }
   ],
   "source": [
    "data.info()"
   ]
  },
  {
   "cell_type": "code",
   "execution_count": 4,
   "id": "1c856a76",
   "metadata": {
    "execution": {
     "iopub.execute_input": "2024-04-29T11:58:59.042716Z",
     "iopub.status.busy": "2024-04-29T11:58:59.042429Z",
     "iopub.status.idle": "2024-04-29T11:58:59.405211Z",
     "shell.execute_reply": "2024-04-29T11:58:59.404181Z"
    },
    "metadata": {},
    "papermill": {
     "duration": 0.376954,
     "end_time": "2024-04-29T11:58:59.407540",
     "exception": false,
     "start_time": "2024-04-29T11:58:59.030586",
     "status": "completed"
    },
    "tags": []
   },
   "outputs": [
    {
     "data": {
      "text/html": [
       "<div>\n",
       "<style scoped>\n",
       "    .dataframe tbody tr th:only-of-type {\n",
       "        vertical-align: middle;\n",
       "    }\n",
       "\n",
       "    .dataframe tbody tr th {\n",
       "        vertical-align: top;\n",
       "    }\n",
       "\n",
       "    .dataframe thead th {\n",
       "        text-align: right;\n",
       "    }\n",
       "</style>\n",
       "<table border=\"1\" class=\"dataframe\">\n",
       "  <thead>\n",
       "    <tr style=\"text-align: right;\">\n",
       "      <th></th>\n",
       "      <th>Time</th>\n",
       "      <th>V1</th>\n",
       "      <th>V2</th>\n",
       "      <th>V3</th>\n",
       "      <th>V4</th>\n",
       "      <th>V5</th>\n",
       "      <th>V6</th>\n",
       "      <th>V7</th>\n",
       "      <th>V8</th>\n",
       "      <th>V9</th>\n",
       "      <th>...</th>\n",
       "      <th>V21</th>\n",
       "      <th>V22</th>\n",
       "      <th>V23</th>\n",
       "      <th>V24</th>\n",
       "      <th>V25</th>\n",
       "      <th>V26</th>\n",
       "      <th>V27</th>\n",
       "      <th>V28</th>\n",
       "      <th>Amount</th>\n",
       "      <th>Class</th>\n",
       "    </tr>\n",
       "  </thead>\n",
       "  <tbody>\n",
       "    <tr>\n",
       "      <th>count</th>\n",
       "      <td>284806.00</td>\n",
       "      <td>284806.00</td>\n",
       "      <td>284806.00</td>\n",
       "      <td>284806.00</td>\n",
       "      <td>284806.00</td>\n",
       "      <td>284806.00</td>\n",
       "      <td>284806.00</td>\n",
       "      <td>284806.00</td>\n",
       "      <td>284806.00</td>\n",
       "      <td>284806.00</td>\n",
       "      <td>...</td>\n",
       "      <td>284806.00</td>\n",
       "      <td>284806.00</td>\n",
       "      <td>284806.00</td>\n",
       "      <td>284806.00</td>\n",
       "      <td>284806.00</td>\n",
       "      <td>284806.00</td>\n",
       "      <td>284806.00</td>\n",
       "      <td>284806.00</td>\n",
       "      <td>284806.00</td>\n",
       "      <td>284806.00</td>\n",
       "    </tr>\n",
       "    <tr>\n",
       "      <th>mean</th>\n",
       "      <td>94813.59</td>\n",
       "      <td>0.00</td>\n",
       "      <td>0.00</td>\n",
       "      <td>-0.00</td>\n",
       "      <td>0.00</td>\n",
       "      <td>0.00</td>\n",
       "      <td>0.00</td>\n",
       "      <td>-0.00</td>\n",
       "      <td>0.00</td>\n",
       "      <td>-0.00</td>\n",
       "      <td>...</td>\n",
       "      <td>-0.00</td>\n",
       "      <td>-0.00</td>\n",
       "      <td>-0.00</td>\n",
       "      <td>-0.00</td>\n",
       "      <td>0.00</td>\n",
       "      <td>0.00</td>\n",
       "      <td>0.00</td>\n",
       "      <td>-0.00</td>\n",
       "      <td>88.35</td>\n",
       "      <td>0.00</td>\n",
       "    </tr>\n",
       "    <tr>\n",
       "      <th>std</th>\n",
       "      <td>47488.00</td>\n",
       "      <td>1.96</td>\n",
       "      <td>1.65</td>\n",
       "      <td>1.52</td>\n",
       "      <td>1.42</td>\n",
       "      <td>1.38</td>\n",
       "      <td>1.33</td>\n",
       "      <td>1.24</td>\n",
       "      <td>1.19</td>\n",
       "      <td>1.10</td>\n",
       "      <td>...</td>\n",
       "      <td>0.73</td>\n",
       "      <td>0.73</td>\n",
       "      <td>0.62</td>\n",
       "      <td>0.61</td>\n",
       "      <td>0.52</td>\n",
       "      <td>0.48</td>\n",
       "      <td>0.40</td>\n",
       "      <td>0.33</td>\n",
       "      <td>250.12</td>\n",
       "      <td>0.04</td>\n",
       "    </tr>\n",
       "    <tr>\n",
       "      <th>min</th>\n",
       "      <td>0.00</td>\n",
       "      <td>-56.41</td>\n",
       "      <td>-72.72</td>\n",
       "      <td>-48.33</td>\n",
       "      <td>-5.68</td>\n",
       "      <td>-113.74</td>\n",
       "      <td>-26.16</td>\n",
       "      <td>-43.56</td>\n",
       "      <td>-73.22</td>\n",
       "      <td>-13.43</td>\n",
       "      <td>...</td>\n",
       "      <td>-34.83</td>\n",
       "      <td>-10.93</td>\n",
       "      <td>-44.81</td>\n",
       "      <td>-2.84</td>\n",
       "      <td>-10.30</td>\n",
       "      <td>-2.60</td>\n",
       "      <td>-22.57</td>\n",
       "      <td>-15.43</td>\n",
       "      <td>0.00</td>\n",
       "      <td>0.00</td>\n",
       "    </tr>\n",
       "    <tr>\n",
       "      <th>25%</th>\n",
       "      <td>54201.25</td>\n",
       "      <td>-0.92</td>\n",
       "      <td>-0.60</td>\n",
       "      <td>-0.89</td>\n",
       "      <td>-0.85</td>\n",
       "      <td>-0.69</td>\n",
       "      <td>-0.77</td>\n",
       "      <td>-0.55</td>\n",
       "      <td>-0.21</td>\n",
       "      <td>-0.64</td>\n",
       "      <td>...</td>\n",
       "      <td>-0.23</td>\n",
       "      <td>-0.54</td>\n",
       "      <td>-0.16</td>\n",
       "      <td>-0.35</td>\n",
       "      <td>-0.32</td>\n",
       "      <td>-0.33</td>\n",
       "      <td>-0.07</td>\n",
       "      <td>-0.05</td>\n",
       "      <td>5.60</td>\n",
       "      <td>0.00</td>\n",
       "    </tr>\n",
       "    <tr>\n",
       "      <th>50%</th>\n",
       "      <td>84691.50</td>\n",
       "      <td>0.02</td>\n",
       "      <td>0.07</td>\n",
       "      <td>0.18</td>\n",
       "      <td>-0.02</td>\n",
       "      <td>-0.05</td>\n",
       "      <td>-0.27</td>\n",
       "      <td>0.04</td>\n",
       "      <td>0.02</td>\n",
       "      <td>-0.05</td>\n",
       "      <td>...</td>\n",
       "      <td>-0.03</td>\n",
       "      <td>0.01</td>\n",
       "      <td>-0.01</td>\n",
       "      <td>0.04</td>\n",
       "      <td>0.02</td>\n",
       "      <td>-0.05</td>\n",
       "      <td>0.00</td>\n",
       "      <td>0.01</td>\n",
       "      <td>22.00</td>\n",
       "      <td>0.00</td>\n",
       "    </tr>\n",
       "    <tr>\n",
       "      <th>75%</th>\n",
       "      <td>139320.00</td>\n",
       "      <td>1.32</td>\n",
       "      <td>0.80</td>\n",
       "      <td>1.03</td>\n",
       "      <td>0.74</td>\n",
       "      <td>0.61</td>\n",
       "      <td>0.40</td>\n",
       "      <td>0.57</td>\n",
       "      <td>0.33</td>\n",
       "      <td>0.60</td>\n",
       "      <td>...</td>\n",
       "      <td>0.19</td>\n",
       "      <td>0.53</td>\n",
       "      <td>0.15</td>\n",
       "      <td>0.44</td>\n",
       "      <td>0.35</td>\n",
       "      <td>0.24</td>\n",
       "      <td>0.09</td>\n",
       "      <td>0.08</td>\n",
       "      <td>77.16</td>\n",
       "      <td>0.00</td>\n",
       "    </tr>\n",
       "    <tr>\n",
       "      <th>max</th>\n",
       "      <td>172788.00</td>\n",
       "      <td>2.45</td>\n",
       "      <td>22.06</td>\n",
       "      <td>9.38</td>\n",
       "      <td>16.88</td>\n",
       "      <td>34.80</td>\n",
       "      <td>73.30</td>\n",
       "      <td>120.59</td>\n",
       "      <td>20.01</td>\n",
       "      <td>15.59</td>\n",
       "      <td>...</td>\n",
       "      <td>27.20</td>\n",
       "      <td>10.50</td>\n",
       "      <td>22.53</td>\n",
       "      <td>4.58</td>\n",
       "      <td>7.52</td>\n",
       "      <td>3.52</td>\n",
       "      <td>31.61</td>\n",
       "      <td>33.85</td>\n",
       "      <td>25691.16</td>\n",
       "      <td>1.00</td>\n",
       "    </tr>\n",
       "  </tbody>\n",
       "</table>\n",
       "<p>8 rows × 31 columns</p>\n",
       "</div>"
      ],
      "text/plain": [
       "           Time        V1        V2        V3        V4        V5        V6  \\\n",
       "count 284806.00 284806.00 284806.00 284806.00 284806.00 284806.00 284806.00   \n",
       "mean   94813.59      0.00      0.00     -0.00      0.00      0.00      0.00   \n",
       "std    47488.00      1.96      1.65      1.52      1.42      1.38      1.33   \n",
       "min        0.00    -56.41    -72.72    -48.33     -5.68   -113.74    -26.16   \n",
       "25%    54201.25     -0.92     -0.60     -0.89     -0.85     -0.69     -0.77   \n",
       "50%    84691.50      0.02      0.07      0.18     -0.02     -0.05     -0.27   \n",
       "75%   139320.00      1.32      0.80      1.03      0.74      0.61      0.40   \n",
       "max   172788.00      2.45     22.06      9.38     16.88     34.80     73.30   \n",
       "\n",
       "             V7        V8        V9  ...       V21       V22       V23  \\\n",
       "count 284806.00 284806.00 284806.00  ... 284806.00 284806.00 284806.00   \n",
       "mean      -0.00      0.00     -0.00  ...     -0.00     -0.00     -0.00   \n",
       "std        1.24      1.19      1.10  ...      0.73      0.73      0.62   \n",
       "min      -43.56    -73.22    -13.43  ...    -34.83    -10.93    -44.81   \n",
       "25%       -0.55     -0.21     -0.64  ...     -0.23     -0.54     -0.16   \n",
       "50%        0.04      0.02     -0.05  ...     -0.03      0.01     -0.01   \n",
       "75%        0.57      0.33      0.60  ...      0.19      0.53      0.15   \n",
       "max      120.59     20.01     15.59  ...     27.20     10.50     22.53   \n",
       "\n",
       "            V24       V25       V26       V27       V28    Amount     Class  \n",
       "count 284806.00 284806.00 284806.00 284806.00 284806.00 284806.00 284806.00  \n",
       "mean      -0.00      0.00      0.00      0.00     -0.00     88.35      0.00  \n",
       "std        0.61      0.52      0.48      0.40      0.33    250.12      0.04  \n",
       "min       -2.84    -10.30     -2.60    -22.57    -15.43      0.00      0.00  \n",
       "25%       -0.35     -0.32     -0.33     -0.07     -0.05      5.60      0.00  \n",
       "50%        0.04      0.02     -0.05      0.00      0.01     22.00      0.00  \n",
       "75%        0.44      0.35      0.24      0.09      0.08     77.16      0.00  \n",
       "max        4.58      7.52      3.52     31.61     33.85  25691.16      1.00  \n",
       "\n",
       "[8 rows x 31 columns]"
      ]
     },
     "execution_count": 4,
     "metadata": {},
     "output_type": "execute_result"
    }
   ],
   "source": [
    "pd.set_option(\"display.float\", \"{:.2f}\".format)\n",
    "data.describe()"
   ]
  },
  {
   "cell_type": "markdown",
   "id": "4282c04c",
   "metadata": {
    "papermill": {
     "duration": 0.011074,
     "end_time": "2024-04-29T11:58:59.430211",
     "exception": false,
     "start_time": "2024-04-29T11:58:59.419137",
     "status": "completed"
    },
    "tags": []
   },
   "source": [
    "Let us now check the missing values in the dataset\n",
    "\n"
   ]
  },
  {
   "cell_type": "code",
   "execution_count": 5,
   "id": "b8fbcd63",
   "metadata": {
    "execution": {
     "iopub.execute_input": "2024-04-29T11:58:59.453942Z",
     "iopub.status.busy": "2024-04-29T11:58:59.453219Z",
     "iopub.status.idle": "2024-04-29T11:58:59.470171Z",
     "shell.execute_reply": "2024-04-29T11:58:59.469397Z"
    },
    "metadata": {},
    "papermill": {
     "duration": 0.030811,
     "end_time": "2024-04-29T11:58:59.472169",
     "exception": false,
     "start_time": "2024-04-29T11:58:59.441358",
     "status": "completed"
    },
    "tags": []
   },
   "outputs": [
    {
     "data": {
      "text/plain": [
       "0"
      ]
     },
     "execution_count": 5,
     "metadata": {},
     "output_type": "execute_result"
    }
   ],
   "source": [
    "data.isnull().sum().sum()"
   ]
  },
  {
   "cell_type": "markdown",
   "id": "7a51822d",
   "metadata": {
    "papermill": {
     "duration": 0.011314,
     "end_time": "2024-04-29T11:58:59.494552",
     "exception": false,
     "start_time": "2024-04-29T11:58:59.483238",
     "status": "completed"
    },
    "tags": []
   },
   "source": [
    "There are no missing values in the dataset."
   ]
  },
  {
   "cell_type": "code",
   "execution_count": 6,
   "id": "653f8148",
   "metadata": {
    "execution": {
     "iopub.execute_input": "2024-04-29T11:58:59.518059Z",
     "iopub.status.busy": "2024-04-29T11:58:59.517746Z",
     "iopub.status.idle": "2024-04-29T11:58:59.523809Z",
     "shell.execute_reply": "2024-04-29T11:58:59.522871Z"
    },
    "metadata": {},
    "papermill": {
     "duration": 0.020235,
     "end_time": "2024-04-29T11:58:59.526024",
     "exception": false,
     "start_time": "2024-04-29T11:58:59.505789",
     "status": "completed"
    },
    "tags": []
   },
   "outputs": [
    {
     "data": {
      "text/plain": [
       "Index(['Time', 'V1', 'V2', 'V3', 'V4', 'V5', 'V6', 'V7', 'V8', 'V9', 'V10',\n",
       "       'V11', 'V12', 'V13', 'V14', 'V15', 'V16', 'V17', 'V18', 'V19', 'V20',\n",
       "       'V21', 'V22', 'V23', 'V24', 'V25', 'V26', 'V27', 'V28', 'Amount',\n",
       "       'Class'],\n",
       "      dtype='object')"
      ]
     },
     "execution_count": 6,
     "metadata": {},
     "output_type": "execute_result"
    }
   ],
   "source": [
    "data.columns\n"
   ]
  },
  {
   "cell_type": "markdown",
   "id": "8f474f96",
   "metadata": {
    "papermill": {
     "duration": 0.010972,
     "end_time": "2024-04-29T11:58:59.548022",
     "exception": false,
     "start_time": "2024-04-29T11:58:59.537050",
     "status": "completed"
    },
    "tags": []
   },
   "source": [
    "The only non-transformed variables to work with are:\n",
    "- Time\n",
    "- Amount\n",
    "- Class\n",
    "\n",
    "Noted that the dataset is highly imbalanced, with the majority of transactions being non-fraudulent (99.83%, class=0) and a small fraction of transactions being fraudulent (0.17%, class=1)."
   ]
  },
  {
   "cell_type": "markdown",
   "id": "a7c7af04",
   "metadata": {
    "papermill": {
     "duration": 0.011037,
     "end_time": "2024-04-29T11:58:59.570488",
     "exception": false,
     "start_time": "2024-04-29T11:58:59.559451",
     "status": "completed"
    },
    "tags": []
   },
   "source": [
    "We can make a plot to show the distribution of the target variable."
   ]
  },
  {
   "cell_type": "code",
   "execution_count": 7,
   "id": "f6b48296",
   "metadata": {
    "execution": {
     "iopub.execute_input": "2024-04-29T11:58:59.594077Z",
     "iopub.status.busy": "2024-04-29T11:58:59.593612Z",
     "iopub.status.idle": "2024-04-29T11:58:59.853516Z",
     "shell.execute_reply": "2024-04-29T11:58:59.852579Z"
    },
    "metadata": {},
    "papermill": {
     "duration": 0.274003,
     "end_time": "2024-04-29T11:58:59.855474",
     "exception": false,
     "start_time": "2024-04-29T11:58:59.581471",
     "status": "completed"
    },
    "tags": []
   },
   "outputs": [
    {
     "data": {
      "image/png": "[encoded data removed]",
      "text/plain": [
       "<Figure size 640x480 with 1 Axes>"
      ]
     },
     "metadata": {},
     "output_type": "display_data"
    }
   ],
   "source": [
    "Labels = [\"Valid\", \"Fraud\"]\n",
    "count_classes = data[\"Class\"].value_counts()\n",
    "count_classes.plot(kind = \"bar\")\n",
    "plt.title(\"Class Distribution\")\n",
    "plt.xlabel(\"Class\")\n",
    "plt.ylabel(\"Frequency\")\n",
    "plt.show()"
   ]
  },
  {
   "cell_type": "code",
   "execution_count": 8,
   "id": "93ad4b12",
   "metadata": {
    "execution": {
     "iopub.execute_input": "2024-04-29T11:58:59.879799Z",
     "iopub.status.busy": "2024-04-29T11:58:59.879517Z",
     "iopub.status.idle": "2024-04-29T11:58:59.888440Z",
     "shell.execute_reply": "2024-04-29T11:58:59.887476Z"
    },
    "metadata": {},
    "papermill": {
     "duration": 0.023304,
     "end_time": "2024-04-29T11:58:59.890421",
     "exception": false,
     "start_time": "2024-04-29T11:58:59.867117",
     "status": "completed"
    },
    "tags": []
   },
   "outputs": [
    {
     "data": {
      "text/plain": [
       "Class\n",
       "0    284314\n",
       "1       492\n",
       "Name: count, dtype: int64"
      ]
     },
     "execution_count": 8,
     "metadata": {},
     "output_type": "execute_result"
    }
   ],
   "source": [
    "data[\"Class\"].value_counts()"
   ]
  },
  {
   "cell_type": "markdown",
   "id": "b2d3483c",
   "metadata": {
    "papermill": {
     "duration": 0.011453,
     "end_time": "2024-04-29T11:58:59.913717",
     "exception": false,
     "start_time": "2024-04-29T11:58:59.902264",
     "status": "completed"
    },
    "tags": []
   },
   "source": [
    "See! The dataset is highly imbalanced, with the majority of transactions being non-fraudulent (99.83%, class=0) and a small fraction of transactions being fraudulent (0.17%, class=1).\n",
    "\n",
    "So we cannot use the whole dataset directly to train the model, otherwise the model will be over-fitting and will predict all the transactions as non-fraudulent."
   ]
  },
  {
   "cell_type": "code",
   "execution_count": 9,
   "id": "d2ec936b",
   "metadata": {
    "execution": {
     "iopub.execute_input": "2024-04-29T11:58:59.938051Z",
     "iopub.status.busy": "2024-04-29T11:58:59.937798Z",
     "iopub.status.idle": "2024-04-29T11:58:59.972772Z",
     "shell.execute_reply": "2024-04-29T11:58:59.971813Z"
    },
    "metadata": {},
    "papermill": {
     "duration": 0.049505,
     "end_time": "2024-04-29T11:58:59.974886",
     "exception": false,
     "start_time": "2024-04-29T11:58:59.925381",
     "status": "completed"
    },
    "tags": []
   },
   "outputs": [
    {
     "name": "stdout",
     "output_type": "stream",
     "text": [
      "Fraud Transactions Shape: (492, 31)\n",
      "Normal Transactions Shape: (284314, 31)\n"
     ]
    }
   ],
   "source": [
    "fraud = data[data['Class']==1]\n",
    "normal = data[data['Class']==0]\n",
    "\n",
    "print(f'Fraud Transactions Shape: {fraud.shape}')\n",
    "print(f'Normal Transactions Shape: {normal.shape}')"
   ]
  },
  {
   "cell_type": "markdown",
   "id": "b22e2878",
   "metadata": {
    "papermill": {
     "duration": 0.011673,
     "end_time": "2024-04-29T11:58:59.998806",
     "exception": false,
     "start_time": "2024-04-29T11:58:59.987133",
     "status": "completed"
    },
    "tags": []
   },
   "source": [
    "And there are some other differences between the fraudulent and non-fraudulent transactions."
   ]
  },
  {
   "cell_type": "code",
   "execution_count": 10,
   "id": "e544fb8b",
   "metadata": {
    "execution": {
     "iopub.execute_input": "2024-04-29T11:59:00.023586Z",
     "iopub.status.busy": "2024-04-29T11:59:00.023275Z",
     "iopub.status.idle": "2024-04-29T11:59:00.046349Z",
     "shell.execute_reply": "2024-04-29T11:59:00.045476Z"
    },
    "metadata": {},
    "papermill": {
     "duration": 0.037731,
     "end_time": "2024-04-29T11:59:00.048408",
     "exception": false,
     "start_time": "2024-04-29T11:59:00.010677",
     "status": "completed"
    },
    "tags": []
   },
   "outputs": [
    {
     "data": {
      "text/html": [
       "<div>\n",
       "<style scoped>\n",
       "    .dataframe tbody tr th:only-of-type {\n",
       "        vertical-align: middle;\n",
       "    }\n",
       "\n",
       "    .dataframe tbody tr th {\n",
       "        vertical-align: top;\n",
       "    }\n",
       "\n",
       "    .dataframe thead th {\n",
       "        text-align: right;\n",
       "    }\n",
       "</style>\n",
       "<table border=\"1\" class=\"dataframe\">\n",
       "  <thead>\n",
       "    <tr style=\"text-align: right;\">\n",
       "      <th></th>\n",
       "      <th>Amount</th>\n",
       "      <th>Amount</th>\n",
       "    </tr>\n",
       "  </thead>\n",
       "  <tbody>\n",
       "    <tr>\n",
       "      <th>count</th>\n",
       "      <td>492.00</td>\n",
       "      <td>284314.00</td>\n",
       "    </tr>\n",
       "    <tr>\n",
       "      <th>mean</th>\n",
       "      <td>122.21</td>\n",
       "      <td>88.29</td>\n",
       "    </tr>\n",
       "    <tr>\n",
       "      <th>std</th>\n",
       "      <td>256.68</td>\n",
       "      <td>250.11</td>\n",
       "    </tr>\n",
       "    <tr>\n",
       "      <th>min</th>\n",
       "      <td>0.00</td>\n",
       "      <td>0.00</td>\n",
       "    </tr>\n",
       "    <tr>\n",
       "      <th>25%</th>\n",
       "      <td>1.00</td>\n",
       "      <td>5.65</td>\n",
       "    </tr>\n",
       "    <tr>\n",
       "      <th>50%</th>\n",
       "      <td>9.25</td>\n",
       "      <td>22.00</td>\n",
       "    </tr>\n",
       "    <tr>\n",
       "      <th>75%</th>\n",
       "      <td>105.89</td>\n",
       "      <td>77.05</td>\n",
       "    </tr>\n",
       "    <tr>\n",
       "      <th>max</th>\n",
       "      <td>2125.87</td>\n",
       "      <td>25691.16</td>\n",
       "    </tr>\n",
       "  </tbody>\n",
       "</table>\n",
       "</div>"
      ],
      "text/plain": [
       "       Amount    Amount\n",
       "count  492.00 284314.00\n",
       "mean   122.21     88.29\n",
       "std    256.68    250.11\n",
       "min      0.00      0.00\n",
       "25%      1.00      5.65\n",
       "50%      9.25     22.00\n",
       "75%    105.89     77.05\n",
       "max   2125.87  25691.16"
      ]
     },
     "execution_count": 10,
     "metadata": {},
     "output_type": "execute_result"
    }
   ],
   "source": [
    "pd.set_option(\"display.float\", \"{:.2f}\".format)\n",
    "pd.concat([fraud.Amount.describe(), normal.Amount.describe()], axis=1)"
   ]
  },
  {
   "cell_type": "markdown",
   "id": "f7ca7f33",
   "metadata": {
    "papermill": {
     "duration": 0.011458,
     "end_time": "2024-04-29T11:59:00.071984",
     "exception": false,
     "start_time": "2024-04-29T11:59:00.060526",
     "status": "completed"
    },
    "tags": []
   },
   "source": [
    "How abot timespan? Do fraudulent transactions occur more frequently during certain time periods?"
   ]
  },
  {
   "cell_type": "code",
   "execution_count": 11,
   "id": "653ba975",
   "metadata": {
    "execution": {
     "iopub.execute_input": "2024-04-29T11:59:00.096446Z",
     "iopub.status.busy": "2024-04-29T11:59:00.096157Z",
     "iopub.status.idle": "2024-04-29T11:59:00.113229Z",
     "shell.execute_reply": "2024-04-29T11:59:00.112353Z"
    },
    "metadata": {},
    "papermill": {
     "duration": 0.031372,
     "end_time": "2024-04-29T11:59:00.115075",
     "exception": false,
     "start_time": "2024-04-29T11:59:00.083703",
     "status": "completed"
    },
    "tags": []
   },
   "outputs": [
    {
     "data": {
      "text/html": [
       "<div>\n",
       "<style scoped>\n",
       "    .dataframe tbody tr th:only-of-type {\n",
       "        vertical-align: middle;\n",
       "    }\n",
       "\n",
       "    .dataframe tbody tr th {\n",
       "        vertical-align: top;\n",
       "    }\n",
       "\n",
       "    .dataframe thead th {\n",
       "        text-align: right;\n",
       "    }\n",
       "</style>\n",
       "<table border=\"1\" class=\"dataframe\">\n",
       "  <thead>\n",
       "    <tr style=\"text-align: right;\">\n",
       "      <th></th>\n",
       "      <th>Time</th>\n",
       "      <th>Time</th>\n",
       "    </tr>\n",
       "  </thead>\n",
       "  <tbody>\n",
       "    <tr>\n",
       "      <th>count</th>\n",
       "      <td>492.00</td>\n",
       "      <td>284314.00</td>\n",
       "    </tr>\n",
       "    <tr>\n",
       "      <th>mean</th>\n",
       "      <td>80746.81</td>\n",
       "      <td>94837.93</td>\n",
       "    </tr>\n",
       "    <tr>\n",
       "      <th>std</th>\n",
       "      <td>47835.37</td>\n",
       "      <td>47483.87</td>\n",
       "    </tr>\n",
       "    <tr>\n",
       "      <th>min</th>\n",
       "      <td>406.00</td>\n",
       "      <td>0.00</td>\n",
       "    </tr>\n",
       "    <tr>\n",
       "      <th>25%</th>\n",
       "      <td>41241.50</td>\n",
       "      <td>54230.00</td>\n",
       "    </tr>\n",
       "    <tr>\n",
       "      <th>50%</th>\n",
       "      <td>75568.50</td>\n",
       "      <td>84711.00</td>\n",
       "    </tr>\n",
       "    <tr>\n",
       "      <th>75%</th>\n",
       "      <td>128483.00</td>\n",
       "      <td>139333.00</td>\n",
       "    </tr>\n",
       "    <tr>\n",
       "      <th>max</th>\n",
       "      <td>170348.00</td>\n",
       "      <td>172788.00</td>\n",
       "    </tr>\n",
       "  </tbody>\n",
       "</table>\n",
       "</div>"
      ],
      "text/plain": [
       "           Time      Time\n",
       "count    492.00 284314.00\n",
       "mean   80746.81  94837.93\n",
       "std    47835.37  47483.87\n",
       "min      406.00      0.00\n",
       "25%    41241.50  54230.00\n",
       "50%    75568.50  84711.00\n",
       "75%   128483.00 139333.00\n",
       "max   170348.00 172788.00"
      ]
     },
     "execution_count": 11,
     "metadata": {},
     "output_type": "execute_result"
    }
   ],
   "source": [
    "pd.concat([fraud.Time.describe(), normal.Time.describe()], axis=1)"
   ]
  },
  {
   "cell_type": "code",
   "execution_count": 12,
   "id": "042a3182",
   "metadata": {
    "execution": {
     "iopub.execute_input": "2024-04-29T11:59:00.140431Z",
     "iopub.status.busy": "2024-04-29T11:59:00.140141Z",
     "iopub.status.idle": "2024-04-29T11:59:00.984883Z",
     "shell.execute_reply": "2024-04-29T11:59:00.983955Z"
    },
    "metadata": {},
    "papermill": {
     "duration": 0.859428,
     "end_time": "2024-04-29T11:59:00.986833",
     "exception": false,
     "start_time": "2024-04-29T11:59:00.127405",
     "status": "completed"
    },
    "tags": []
   },
   "outputs": [
    {
     "name": "stderr",
     "output_type": "stream",
     "text": [
      "/opt/conda/lib/python3.10/site-packages/seaborn/_oldcore.py:1119: FutureWarning: use_inf_as_na option is deprecated and will be removed in a future version. Convert inf values to NaN before operating instead.\n",
      "  with pd.option_context('mode.use_inf_as_na', True):\n",
      "/opt/conda/lib/python3.10/site-packages/seaborn/_oldcore.py:1119: FutureWarning: use_inf_as_na option is deprecated and will be removed in a future version. Convert inf values to NaN before operating instead.\n",
      "  with pd.option_context('mode.use_inf_as_na', True):\n"
     ]
    },
    {
     "data": {
      "image/png": "[encoded data removed]",
      "text/plain": [
       "<Figure size 1200x900 with 2 Axes>"
      ]
     },
     "metadata": {},
     "output_type": "display_data"
    }
   ],
   "source": [
    "# plot time feature of fraud and normal transactions\n",
    "plt.figure(figsize=(12, 9))\n",
    "plt.subplot(2, 1, 1)\n",
    "plt.title('Fraud Transactions')\n",
    "sns.histplot(fraud.Time, bins=50)\n",
    "plt.xlabel('Time (s)')\n",
    "plt.ylabel('Frequency')\n",
    "\n",
    "plt.subplot(2, 1, 2)\n",
    "plt.title('Normal Transactions')\n",
    "sns.histplot(normal.Time, bins=50)\n",
    "plt.xlabel('Time (s)')\n",
    "plt.ylabel('Frequency')\n",
    "\n",
    "plt.show()"
   ]
  },
  {
   "cell_type": "markdown",
   "id": "233fb4aa",
   "metadata": {
    "papermill": {
     "duration": 0.012671,
     "end_time": "2024-04-29T11:59:01.013257",
     "exception": false,
     "start_time": "2024-04-29T11:59:01.000586",
     "status": "completed"
    },
    "tags": []
   },
   "source": [
    "It seems that fraudulent transactions are more uniformly distributed over time or a little more active when non-fraudulent transactions are less active.\n",
    "\n",
    "But anyway, time seems not that important to predict the fraudulent transactions."
   ]
  },
  {
   "cell_type": "markdown",
   "id": "6f209fe9",
   "metadata": {
    "papermill": {
     "duration": 0.012592,
     "end_time": "2024-04-29T11:59:01.038725",
     "exception": false,
     "start_time": "2024-04-29T11:59:01.026133",
     "status": "completed"
    },
    "tags": []
   },
   "source": [
    "Next we can try find out some correlations between the features."
   ]
  },
  {
   "cell_type": "code",
   "execution_count": 13,
   "id": "d5280018",
   "metadata": {
    "execution": {
     "iopub.execute_input": "2024-04-29T11:59:01.065533Z",
     "iopub.status.busy": "2024-04-29T11:59:01.065205Z",
     "iopub.status.idle": "2024-04-29T11:59:02.348323Z",
     "shell.execute_reply": "2024-04-29T11:59:02.347369Z"
    },
    "metadata": {},
    "papermill": {
     "duration": 1.298851,
     "end_time": "2024-04-29T11:59:02.350305",
     "exception": false,
     "start_time": "2024-04-29T11:59:01.051454",
     "status": "completed"
    },
    "tags": []
   },
   "outputs": [
    {
     "data": {
      "image/png": "[encoded data removed]",
      "text/plain": [
       "<Figure size 1000x1000 with 2 Axes>"
      ]
     },
     "metadata": {},
     "output_type": "display_data"
    }
   ],
   "source": [
    "plt.figure(figsize=(10,10))\n",
    "sns.heatmap(data=data.corr(), cmap=\"seismic\")\n",
    "plt.show();"
   ]
  },
  {
   "cell_type": "markdown",
   "id": "a1ce77c8",
   "metadata": {
    "papermill": {
     "duration": 0.013787,
     "end_time": "2024-04-29T11:59:02.378636",
     "exception": false,
     "start_time": "2024-04-29T11:59:02.364849",
     "status": "completed"
    },
    "tags": []
   },
   "source": [
    "From the heatmap, we can see that there are some correlations between the features, especially\n",
    "- Time & V3\n",
    "- Amount & V2\n",
    "- Amount & V4\n",
    "\n",
    "Though there are some correlations between the features, we can still use all the features to train the model, since there seems not to have much risk of multicollinearity."
   ]
  },
  {
   "cell_type": "markdown",
   "id": "1f030c63",
   "metadata": {
    "papermill": {
     "duration": 0.013657,
     "end_time": "2024-04-29T11:59:02.406581",
     "exception": false,
     "start_time": "2024-04-29T11:59:02.392924",
     "status": "completed"
    },
    "tags": []
   },
   "source": [
    "### Data Preprocessing"
   ]
  },
  {
   "cell_type": "code",
   "execution_count": 14,
   "id": "b521a3d6",
   "metadata": {
    "execution": {
     "iopub.execute_input": "2024-04-29T11:59:02.435527Z",
     "iopub.status.busy": "2024-04-29T11:59:02.435131Z",
     "iopub.status.idle": "2024-04-29T11:59:02.937999Z",
     "shell.execute_reply": "2024-04-29T11:59:02.936988Z"
    },
    "metadata": {},
    "papermill": {
     "duration": 0.520217,
     "end_time": "2024-04-29T11:59:02.940521",
     "exception": false,
     "start_time": "2024-04-29T11:59:02.420304",
     "status": "completed"
    },
    "tags": []
   },
   "outputs": [
    {
     "name": "stdout",
     "output_type": "stream",
     "text": [
      "Fraudulant transaction weight: 0.0017681248471700598\n",
      "Non-Fraudulant transaction weight: 0.99823187515283\n"
     ]
    }
   ],
   "source": [
    "from sklearn.model_selection import train_test_split\n",
    "from sklearn.preprocessing import StandardScaler\n",
    "\n",
    "scalar = StandardScaler()\n",
    "\n",
    "X = data.drop('Class', axis=1)\n",
    "y = data.Class\n",
    "\n",
    "X_train_v, X_test, y_train_v, y_test = train_test_split(X, y, \n",
    "                                                    test_size=0.3, random_state=42)\n",
    "X_train, X_validate, y_train, y_validate = train_test_split(X_train_v, y_train_v, \n",
    "                                                            test_size=0.2, random_state=42)\n",
    "\n",
    "X_train = scalar.fit_transform(X_train)\n",
    "X_validate = scalar.transform(X_validate)\n",
    "X_test = scalar.transform(X_test)\n",
    "\n",
    "w_p = y_train.value_counts()[0] / len(y_train)\n",
    "w_n = y_train.value_counts()[1] / len(y_train)\n",
    "\n",
    "print(f\"Fraudulant transaction weight: {w_n}\")\n",
    "print(f\"Non-Fraudulant transaction weight: {w_p}\")"
   ]
  },
  {
   "cell_type": "code",
   "execution_count": 15,
   "id": "328a9266",
   "metadata": {
    "execution": {
     "iopub.execute_input": "2024-04-29T11:59:02.973291Z",
     "iopub.status.busy": "2024-04-29T11:59:02.972594Z",
     "iopub.status.idle": "2024-04-29T11:59:02.978570Z",
     "shell.execute_reply": "2024-04-29T11:59:02.977356Z"
    },
    "metadata": {},
    "papermill": {
     "duration": 0.024668,
     "end_time": "2024-04-29T11:59:02.980868",
     "exception": false,
     "start_time": "2024-04-29T11:59:02.956200",
     "status": "completed"
    },
    "tags": []
   },
   "outputs": [
    {
     "name": "stdout",
     "output_type": "stream",
     "text": [
      "X Train shape: (159491, 30), Y Train shape: (159491,)\n",
      "X Validation shape: (39873, 30), Y Validation shape: (39873,)\n",
      "X Test shape: (85442, 30), Y Test shape: (85442,)\n"
     ]
    }
   ],
   "source": [
    "print(f\"X Train shape: {X_train.shape}, Y Train shape: {y_train.shape}\")\n",
    "print(f\"X Validation shape: {X_validate.shape}, Y Validation shape: {y_validate.shape}\")\n",
    "print(f\"X Test shape: {X_test.shape}, Y Test shape: {y_test.shape}\")\n"
   ]
  },
  {
   "cell_type": "code",
   "execution_count": 16,
   "id": "632c9ea3",
   "metadata": {
    "execution": {
     "iopub.execute_input": "2024-04-29T11:59:03.055558Z",
     "iopub.status.busy": "2024-04-29T11:59:03.055177Z",
     "iopub.status.idle": "2024-04-29T11:59:03.063305Z",
     "shell.execute_reply": "2024-04-29T11:59:03.062365Z"
    },
    "metadata": {},
    "papermill": {
     "duration": 0.069546,
     "end_time": "2024-04-29T11:59:03.065692",
     "exception": false,
     "start_time": "2024-04-29T11:59:02.996146",
     "status": "completed"
    },
    "tags": []
   },
   "outputs": [],
   "source": [
    "from sklearn.metrics import accuracy_score, confusion_matrix, classification_report, f1_score\n",
    "\n",
    "def print_score(label, prediction, train=True):\n",
    "    if train:\n",
    "        clf_report = pd.DataFrame(classification_report(label, prediction, output_dict=True))\n",
    "        print(f\"Train Result:\\n Accuracy Score: {accuracy_score(label, prediction) * 100:.2f}%\")\n",
    "        print(f\"_______________________________________________\")\n",
    "        print(f\"Classification Report:\\n{clf_report}\")\n",
    "        print(f\"_______________________________________________\")\n",
    "        print(f\"Confusion Matrix: \\n {confusion_matrix(label, prediction)}\\n\")\n",
    "    elif train==False:\n",
    "        clf_report = pd.DataFrame(classification_report(label, prediction, output_dict=True))\n",
    "        print(f\"Test Result:\\n Accuracy Score: {accuracy_score(label, prediction) * 100:.2f}%\")\n",
    "        print(f\"_______________________________________________\")\n",
    "        print(f\"Classification Report:\\n{clf_report}\")\n",
    "        print(f\"_______________________________________________\")\n",
    "        print(f\"Confusion Matrix: \\n {confusion_matrix(label, prediction)}\\n\")\n",
    "        "
   ]
  },
  {
   "cell_type": "markdown",
   "id": "e2c576b1",
   "metadata": {
    "papermill": {
     "duration": 0.01658,
     "end_time": "2024-04-29T11:59:03.098443",
     "exception": false,
     "start_time": "2024-04-29T11:59:03.081863",
     "status": "completed"
    },
    "tags": []
   },
   "source": [
    "The above code performs the following steps:\n",
    "\n",
    "- Data Preprocessing.\n",
    "  - Use the train_test_split function to divide the dataset into a training set and a test set, where the test set accounts for 30% of the total data.\n",
    "  - Use train_test_split again to divide the training set into a training set and a validation set, where the validation set accounts for 20% of the remaining training data.\n",
    "  - The features of the training set, validation set and test set are normalized using StandardScaler to ensure better learning and generalization of the model.\n",
    "- Calculate Category Weights.\n",
    "    -Calculate the weights of each category in the training set, which is particularly useful for dealing with unbalanced datasets. Here, weights are calculated for fraudulent and non-fraudulent transactions.\n",
    "- Define Evaluation Functions.\n",
    "  - A function called print_score is defined to print the evaluation results of the model's performance on the training or test set. This includes accuracy, classification reports (precision, recall, F1 score, etc.) and confusion matrix. This function can decide whether to print the results of the training set or the test set based on the incoming TRAIN parameter.\n",
    "\n",
    "Overall, this code covers the key steps of data preprocessing, category imbalance handling, and model evaluation in a machine learning project."
   ]
  },
  {
   "cell_type": "markdown",
   "id": "c9a0ddea",
   "metadata": {
    "papermill": {
     "duration": 0.013595,
     "end_time": "2024-04-29T11:59:03.127852",
     "exception": false,
     "start_time": "2024-04-29T11:59:03.114257",
     "status": "completed"
    },
    "tags": []
   },
   "source": [
    "## Model Building\n",
    "\n",
    "### Model Architecture (ANNs)\n",
    "\n",
    "The model is supposed to be a ANN network designed for binary classification. The model consists of the following layers:\n",
    "\n",
    "- Input Layer: The input layer is a Dense layer with 256 units and the ReLU activation function.\n",
    "- Hidden Layers: \n",
    "  - 2 completely same hidden layers, each with 256 units and the ReLU activation function.\n",
    "  - A BatchNormalization layer, for the acceleration of the training process and the reduction of initial weight dependence.\n",
    "  - A Dropout layer, for the regularization of the model and the prevention of over-fitting, with a dropout rate of 0.3.\n",
    "- Output Layer: The output layer is a Dense layer with 1 unit and the Sigmoid activation function.\n",
    "  - Used for binary classification result output.\n",
    "\n",
    "\n"
   ]
  },
  {
   "cell_type": "code",
   "execution_count": 17,
   "id": "4f9c319b",
   "metadata": {
    "execution": {
     "iopub.execute_input": "2024-04-29T11:59:03.156828Z",
     "iopub.status.busy": "2024-04-29T11:59:03.156518Z",
     "iopub.status.idle": "2024-04-29T11:59:15.565688Z",
     "shell.execute_reply": "2024-04-29T11:59:15.564735Z"
    },
    "metadata": {},
    "papermill": {
     "duration": 12.425883,
     "end_time": "2024-04-29T11:59:15.567607",
     "exception": false,
     "start_time": "2024-04-29T11:59:03.141724",
     "status": "completed"
    },
    "tags": []
   },
   "outputs": [
    {
     "name": "stderr",
     "output_type": "stream",
     "text": [
      "2024-04-29 11:59:05.052947: E external/local_xla/xla/stream_executor/cuda/cuda_dnn.cc:9261] Unable to register cuDNN factory: Attempting to register factory for plugin cuDNN when one has already been registered\n",
      "2024-04-29 11:59:05.053050: E external/local_xla/xla/stream_executor/cuda/cuda_fft.cc:607] Unable to register cuFFT factory: Attempting to register factory for plugin cuFFT when one has already been registered\n",
      "2024-04-29 11:59:05.202843: E external/local_xla/xla/stream_executor/cuda/cuda_blas.cc:1515] Unable to register cuBLAS factory: Attempting to register factory for plugin cuBLAS when one has already been registered\n",
      "/opt/conda/lib/python3.10/site-packages/keras/src/layers/core/dense.py:86: UserWarning: Do not pass an `input_shape`/`input_dim` argument to a layer. When using Sequential models, prefer using an `Input(shape)` object as the first layer in the model instead.\n",
      "  super().__init__(activity_regularizer=activity_regularizer, **kwargs)\n"
     ]
    },
    {
     "data": {
      "text/html": [
       "<pre style=\"white-space:pre;overflow-x:auto;line-height:normal;font-family:Menlo,'DejaVu Sans Mono',consolas,'Courier New',monospace\"><span style=\"font-weight: bold\">Model: \"sequential\"</span>\n",
       "</pre>\n"
      ],
      "text/plain": [
       "\u001b[1mModel: \"sequential\"\u001b[0m\n"
      ]
     },
     "metadata": {},
     "output_type": "display_data"
    },
    {
     "data": {
      "text/html": [
       "<pre style=\"white-space:pre;overflow-x:auto;line-height:normal;font-family:Menlo,'DejaVu Sans Mono',consolas,'Courier New',monospace\">┏━━━━━━━━━━━━━━━━━━━━━━━━━━━━━━━━━┳━━━━━━━━━━━━━━━━━━━━━━━━┳━━━━━━━━━━━━━━━┓\n",
       "┃<span style=\"font-weight: bold\"> Layer (type)                    </span>┃<span style=\"font-weight: bold\"> Output Shape           </span>┃<span style=\"font-weight: bold\">       Param # </span>┃\n",
       "┡━━━━━━━━━━━━━━━━━━━━━━━━━━━━━━━━━╇━━━━━━━━━━━━━━━━━━━━━━━━╇━━━━━━━━━━━━━━━┩\n",
       "│ dense (<span style=\"color: #0087ff; text-decoration-color: #0087ff\">Dense</span>)                   │ (<span style=\"color: #00d7ff; text-decoration-color: #00d7ff\">None</span>, <span style=\"color: #00af00; text-decoration-color: #00af00\">256</span>)            │         <span style=\"color: #00af00; text-decoration-color: #00af00\">7,936</span> │\n",
       "├─────────────────────────────────┼────────────────────────┼───────────────┤\n",
       "│ batch_normalization             │ (<span style=\"color: #00d7ff; text-decoration-color: #00d7ff\">None</span>, <span style=\"color: #00af00; text-decoration-color: #00af00\">256</span>)            │         <span style=\"color: #00af00; text-decoration-color: #00af00\">1,024</span> │\n",
       "│ (<span style=\"color: #0087ff; text-decoration-color: #0087ff\">BatchNormalization</span>)            │                        │               │\n",
       "├─────────────────────────────────┼────────────────────────┼───────────────┤\n",
       "│ dropout (<span style=\"color: #0087ff; text-decoration-color: #0087ff\">Dropout</span>)               │ (<span style=\"color: #00d7ff; text-decoration-color: #00d7ff\">None</span>, <span style=\"color: #00af00; text-decoration-color: #00af00\">256</span>)            │             <span style=\"color: #00af00; text-decoration-color: #00af00\">0</span> │\n",
       "├─────────────────────────────────┼────────────────────────┼───────────────┤\n",
       "│ dense_1 (<span style=\"color: #0087ff; text-decoration-color: #0087ff\">Dense</span>)                 │ (<span style=\"color: #00d7ff; text-decoration-color: #00d7ff\">None</span>, <span style=\"color: #00af00; text-decoration-color: #00af00\">256</span>)            │        <span style=\"color: #00af00; text-decoration-color: #00af00\">65,792</span> │\n",
       "├─────────────────────────────────┼────────────────────────┼───────────────┤\n",
       "│ batch_normalization_1           │ (<span style=\"color: #00d7ff; text-decoration-color: #00d7ff\">None</span>, <span style=\"color: #00af00; text-decoration-color: #00af00\">256</span>)            │         <span style=\"color: #00af00; text-decoration-color: #00af00\">1,024</span> │\n",
       "│ (<span style=\"color: #0087ff; text-decoration-color: #0087ff\">BatchNormalization</span>)            │                        │               │\n",
       "├─────────────────────────────────┼────────────────────────┼───────────────┤\n",
       "│ dropout_1 (<span style=\"color: #0087ff; text-decoration-color: #0087ff\">Dropout</span>)             │ (<span style=\"color: #00d7ff; text-decoration-color: #00d7ff\">None</span>, <span style=\"color: #00af00; text-decoration-color: #00af00\">256</span>)            │             <span style=\"color: #00af00; text-decoration-color: #00af00\">0</span> │\n",
       "├─────────────────────────────────┼────────────────────────┼───────────────┤\n",
       "│ dense_2 (<span style=\"color: #0087ff; text-decoration-color: #0087ff\">Dense</span>)                 │ (<span style=\"color: #00d7ff; text-decoration-color: #00d7ff\">None</span>, <span style=\"color: #00af00; text-decoration-color: #00af00\">256</span>)            │        <span style=\"color: #00af00; text-decoration-color: #00af00\">65,792</span> │\n",
       "├─────────────────────────────────┼────────────────────────┼───────────────┤\n",
       "│ batch_normalization_2           │ (<span style=\"color: #00d7ff; text-decoration-color: #00d7ff\">None</span>, <span style=\"color: #00af00; text-decoration-color: #00af00\">256</span>)            │         <span style=\"color: #00af00; text-decoration-color: #00af00\">1,024</span> │\n",
       "│ (<span style=\"color: #0087ff; text-decoration-color: #0087ff\">BatchNormalization</span>)            │                        │               │\n",
       "├─────────────────────────────────┼────────────────────────┼───────────────┤\n",
       "│ dropout_2 (<span style=\"color: #0087ff; text-decoration-color: #0087ff\">Dropout</span>)             │ (<span style=\"color: #00d7ff; text-decoration-color: #00d7ff\">None</span>, <span style=\"color: #00af00; text-decoration-color: #00af00\">256</span>)            │             <span style=\"color: #00af00; text-decoration-color: #00af00\">0</span> │\n",
       "├─────────────────────────────────┼────────────────────────┼───────────────┤\n",
       "│ dense_3 (<span style=\"color: #0087ff; text-decoration-color: #0087ff\">Dense</span>)                 │ (<span style=\"color: #00d7ff; text-decoration-color: #00d7ff\">None</span>, <span style=\"color: #00af00; text-decoration-color: #00af00\">1</span>)              │           <span style=\"color: #00af00; text-decoration-color: #00af00\">257</span> │\n",
       "└─────────────────────────────────┴────────────────────────┴───────────────┘\n",
       "</pre>\n"
      ],
      "text/plain": [
       "┏━━━━━━━━━━━━━━━━━━━━━━━━━━━━━━━━━┳━━━━━━━━━━━━━━━━━━━━━━━━┳━━━━━━━━━━━━━━━┓\n",
       "┃\u001b[1m \u001b[0m\u001b[1mLayer (type)                   \u001b[0m\u001b[1m \u001b[0m┃\u001b[1m \u001b[0m\u001b[1mOutput Shape          \u001b[0m\u001b[1m \u001b[0m┃\u001b[1m \u001b[0m\u001b[1m      Param #\u001b[0m\u001b[1m \u001b[0m┃\n",
       "┡━━━━━━━━━━━━━━━━━━━━━━━━━━━━━━━━━╇━━━━━━━━━━━━━━━━━━━━━━━━╇━━━━━━━━━━━━━━━┩\n",
       "│ dense (\u001b[38;5;33mDense\u001b[0m)                   │ (\u001b[38;5;45mNone\u001b[0m, \u001b[38;5;34m256\u001b[0m)            │         \u001b[38;5;34m7,936\u001b[0m │\n",
       "├─────────────────────────────────┼────────────────────────┼───────────────┤\n",
       "│ batch_normalization             │ (\u001b[38;5;45mNone\u001b[0m, \u001b[38;5;34m256\u001b[0m)            │         \u001b[38;5;34m1,024\u001b[0m │\n",
       "│ (\u001b[38;5;33mBatchNormalization\u001b[0m)            │                        │               │\n",
       "├─────────────────────────────────┼────────────────────────┼───────────────┤\n",
       "│ dropout (\u001b[38;5;33mDropout\u001b[0m)               │ (\u001b[38;5;45mNone\u001b[0m, \u001b[38;5;34m256\u001b[0m)            │             \u001b[38;5;34m0\u001b[0m │\n",
       "├─────────────────────────────────┼────────────────────────┼───────────────┤\n",
       "│ dense_1 (\u001b[38;5;33mDense\u001b[0m)                 │ (\u001b[38;5;45mNone\u001b[0m, \u001b[38;5;34m256\u001b[0m)            │        \u001b[38;5;34m65,792\u001b[0m │\n",
       "├─────────────────────────────────┼────────────────────────┼───────────────┤\n",
       "│ batch_normalization_1           │ (\u001b[38;5;45mNone\u001b[0m, \u001b[38;5;34m256\u001b[0m)            │         \u001b[38;5;34m1,024\u001b[0m │\n",
       "│ (\u001b[38;5;33mBatchNormalization\u001b[0m)            │                        │               │\n",
       "├─────────────────────────────────┼────────────────────────┼───────────────┤\n",
       "│ dropout_1 (\u001b[38;5;33mDropout\u001b[0m)             │ (\u001b[38;5;45mNone\u001b[0m, \u001b[38;5;34m256\u001b[0m)            │             \u001b[38;5;34m0\u001b[0m │\n",
       "├─────────────────────────────────┼────────────────────────┼───────────────┤\n",
       "│ dense_2 (\u001b[38;5;33mDense\u001b[0m)                 │ (\u001b[38;5;45mNone\u001b[0m, \u001b[38;5;34m256\u001b[0m)            │        \u001b[38;5;34m65,792\u001b[0m │\n",
       "├─────────────────────────────────┼────────────────────────┼───────────────┤\n",
       "│ batch_normalization_2           │ (\u001b[38;5;45mNone\u001b[0m, \u001b[38;5;34m256\u001b[0m)            │         \u001b[38;5;34m1,024\u001b[0m │\n",
       "│ (\u001b[38;5;33mBatchNormalization\u001b[0m)            │                        │               │\n",
       "├─────────────────────────────────┼────────────────────────┼───────────────┤\n",
       "│ dropout_2 (\u001b[38;5;33mDropout\u001b[0m)             │ (\u001b[38;5;45mNone\u001b[0m, \u001b[38;5;34m256\u001b[0m)            │             \u001b[38;5;34m0\u001b[0m │\n",
       "├─────────────────────────────────┼────────────────────────┼───────────────┤\n",
       "│ dense_3 (\u001b[38;5;33mDense\u001b[0m)                 │ (\u001b[38;5;45mNone\u001b[0m, \u001b[38;5;34m1\u001b[0m)              │           \u001b[38;5;34m257\u001b[0m │\n",
       "└─────────────────────────────────┴────────────────────────┴───────────────┘\n"
      ]
     },
     "metadata": {},
     "output_type": "display_data"
    },
    {
     "data": {
      "text/html": [
       "<pre style=\"white-space:pre;overflow-x:auto;line-height:normal;font-family:Menlo,'DejaVu Sans Mono',consolas,'Courier New',monospace\"><span style=\"font-weight: bold\"> Total params: </span><span style=\"color: #00af00; text-decoration-color: #00af00\">142,849</span> (558.00 KB)\n",
       "</pre>\n"
      ],
      "text/plain": [
       "\u001b[1m Total params: \u001b[0m\u001b[38;5;34m142,849\u001b[0m (558.00 KB)\n"
      ]
     },
     "metadata": {},
     "output_type": "display_data"
    },
    {
     "data": {
      "text/html": [
       "<pre style=\"white-space:pre;overflow-x:auto;line-height:normal;font-family:Menlo,'DejaVu Sans Mono',consolas,'Courier New',monospace\"><span style=\"font-weight: bold\"> Trainable params: </span><span style=\"color: #00af00; text-decoration-color: #00af00\">141,313</span> (552.00 KB)\n",
       "</pre>\n"
      ],
      "text/plain": [
       "\u001b[1m Trainable params: \u001b[0m\u001b[38;5;34m141,313\u001b[0m (552.00 KB)\n"
      ]
     },
     "metadata": {},
     "output_type": "display_data"
    },
    {
     "data": {
      "text/html": [
       "<pre style=\"white-space:pre;overflow-x:auto;line-height:normal;font-family:Menlo,'DejaVu Sans Mono',consolas,'Courier New',monospace\"><span style=\"font-weight: bold\"> Non-trainable params: </span><span style=\"color: #00af00; text-decoration-color: #00af00\">1,536</span> (6.00 KB)\n",
       "</pre>\n"
      ],
      "text/plain": [
       "\u001b[1m Non-trainable params: \u001b[0m\u001b[38;5;34m1,536\u001b[0m (6.00 KB)\n"
      ]
     },
     "metadata": {},
     "output_type": "display_data"
    }
   ],
   "source": [
    "from tensorflow import keras\n",
    "\n",
    "model = keras.Sequential([\n",
    "    keras.layers.Dense(256, activation='relu', input_shape=(X_train.shape[-1],)),\n",
    "    keras.layers.BatchNormalization(),\n",
    "    keras.layers.Dropout(0.3),\n",
    "    keras.layers.Dense(256, activation='relu'),\n",
    "    keras.layers.BatchNormalization(),\n",
    "    keras.layers.Dropout(0.3),\n",
    "    keras.layers.Dense(256, activation='relu'),\n",
    "    keras.layers.BatchNormalization(),\n",
    "    keras.layers.Dropout(0.3),\n",
    "    keras.layers.Dense(1, activation='sigmoid'),\n",
    "])\n",
    "\n",
    "model.summary()"
   ]
  },
  {
   "cell_type": "code",
   "execution_count": 18,
   "id": "73f41fb3",
   "metadata": {
    "_kg_hide-output": true,
    "execution": {
     "iopub.execute_input": "2024-04-29T11:59:15.599086Z",
     "iopub.status.busy": "2024-04-29T11:59:15.598581Z",
     "iopub.status.idle": "2024-04-29T12:01:31.040288Z",
     "shell.execute_reply": "2024-04-29T12:01:31.039372Z"
    },
    "papermill": {
     "duration": 135.459655,
     "end_time": "2024-04-29T12:01:31.042548",
     "exception": false,
     "start_time": "2024-04-29T11:59:15.582893",
     "status": "completed"
    },
    "tags": []
   },
   "outputs": [
    {
     "name": "stdout",
     "output_type": "stream",
     "text": [
      "Epoch 1/300\n",
      "\u001b[1m48/78\u001b[0m \u001b[32m━━━━━━━━━━━━\u001b[0m\u001b[37m━━━━━━━━\u001b[0m \u001b[1m0s\u001b[0m 3ms/step - fn: 28.1250 - fp: 24488.9785 - loss: 0.8718 - precision: 0.0021 - recall: 0.6369 - tn: 25600.3125 - tp: 58.5833"
     ]
    },
    {
     "name": "stderr",
     "output_type": "stream",
     "text": [
      "WARNING: All log messages before absl::InitializeLog() is called are written to STDERR\n",
      "I0000 00:00:1714391964.753294      68 device_compiler.h:186] Compiled cluster using XLA!  This line is logged at most once for the lifetime of the process.\n",
      "W0000 00:00:1714391964.774219      68 graph_launch.cc:671] Fallback to op-by-op mode because memset node breaks graph update\n"
     ]
    },
    {
     "name": "stdout",
     "output_type": "stream",
     "text": [
      "\u001b[1m78/78\u001b[0m \u001b[32m━━━━━━━━━━━━━━━━━━━━\u001b[0m\u001b[37m\u001b[0m \u001b[1m0s\u001b[0m 66ms/step - fn: 39.2436 - fp: 38594.5273 - loss: 0.8507 - precision: 0.0024 - recall: 0.6814 - tn: 42155.6172 - tp: 103.3718"
     ]
    },
    {
     "name": "stderr",
     "output_type": "stream",
     "text": [
      "W0000 00:00:1714391969.892082      66 graph_launch.cc:671] Fallback to op-by-op mode because memset node breaks graph update\n"
     ]
    },
    {
     "name": "stdout",
     "output_type": "stream",
     "text": [
      "\u001b[1m78/78\u001b[0m \u001b[32m━━━━━━━━━━━━━━━━━━━━\u001b[0m\u001b[37m\u001b[0m \u001b[1m16s\u001b[0m 90ms/step - fn: 39.5570 - fp: 39042.9609 - loss: 0.8501 - precision: 0.0024 - recall: 0.6826 - tn: 42700.3281 - tp: 104.8228 - val_fn: 9.0000 - val_fp: 12374.0000 - val_loss: 0.6779 - val_precision: 0.0052 - val_recall: 0.8784 - val_tn: 27425.0000 - val_tp: 65.0000\n",
      "Epoch 2/300\n",
      "\u001b[1m78/78\u001b[0m \u001b[32m━━━━━━━━━━━━━━━━━━━━\u001b[0m\u001b[37m\u001b[0m \u001b[1m0s\u001b[0m 5ms/step - fn: 18.0759 - fp: 32725.7207 - loss: 0.7115 - precision: 0.0039 - recall: 0.8751 - tn: 49012.7969 - tp: 131.0759 - val_fn: 13.0000 - val_fp: 3237.0000 - val_loss: 0.6076 - val_precision: 0.0185 - val_recall: 0.8243 - val_tn: 36562.0000 - val_tp: 61.0000\n",
      "Epoch 3/300\n",
      "\u001b[1m78/78\u001b[0m \u001b[32m━━━━━━━━━━━━━━━━━━━━\u001b[0m\u001b[37m\u001b[0m \u001b[1m0s\u001b[0m 5ms/step - fn: 23.9873 - fp: 26135.2031 - loss: 0.6304 - precision: 0.0046 - recall: 0.8327 - tn: 55606.6211 - tp: 121.8608 - val_fn: 17.0000 - val_fp: 1075.0000 - val_loss: 0.5308 - val_precision: 0.0504 - val_recall: 0.7703 - val_tn: 38724.0000 - val_tp: 57.0000\n",
      "Epoch 4/300\n",
      "\u001b[1m78/78\u001b[0m \u001b[32m━━━━━━━━━━━━━━━━━━━━\u001b[0m\u001b[37m\u001b[0m \u001b[1m0s\u001b[0m 5ms/step - fn: 25.5190 - fp: 19099.1641 - loss: 0.5573 - precision: 0.0061 - recall: 0.8221 - tn: 62643.4297 - tp: 119.5570 - val_fn: 17.0000 - val_fp: 371.0000 - val_loss: 0.4786 - val_precision: 0.1332 - val_recall: 0.7703 - val_tn: 39428.0000 - val_tp: 57.0000\n",
      "Epoch 5/300\n",
      "\u001b[1m78/78\u001b[0m \u001b[32m━━━━━━━━━━━━━━━━━━━━\u001b[0m\u001b[37m\u001b[0m \u001b[1m0s\u001b[0m 5ms/step - fn: 21.1266 - fp: 13057.0381 - loss: 0.4923 - precision: 0.0095 - recall: 0.8681 - tn: 68684.2812 - tp: 125.2279 - val_fn: 19.0000 - val_fp: 49.0000 - val_loss: 0.4353 - val_precision: 0.5288 - val_recall: 0.7432 - val_tn: 39750.0000 - val_tp: 55.0000\n",
      "Epoch 6/300\n",
      "\u001b[1m78/78\u001b[0m \u001b[32m━━━━━━━━━━━━━━━━━━━━\u001b[0m\u001b[37m\u001b[0m \u001b[1m0s\u001b[0m 5ms/step - fn: 22.5316 - fp: 8358.7725 - loss: 0.4315 - precision: 0.0136 - recall: 0.8432 - tn: 73384.9375 - tp: 121.4304 - val_fn: 19.0000 - val_fp: 26.0000 - val_loss: 0.3592 - val_precision: 0.6790 - val_recall: 0.7432 - val_tn: 39773.0000 - val_tp: 55.0000\n",
      "Epoch 7/300\n",
      "\u001b[1m78/78\u001b[0m \u001b[32m━━━━━━━━━━━━━━━━━━━━\u001b[0m\u001b[37m\u001b[0m \u001b[1m0s\u001b[0m 5ms/step - fn: 21.2532 - fp: 5004.8481 - loss: 0.3723 - precision: 0.0221 - recall: 0.8478 - tn: 76741.2500 - tp: 120.3165 - val_fn: 19.0000 - val_fp: 15.0000 - val_loss: 0.3144 - val_precision: 0.7857 - val_recall: 0.7432 - val_tn: 39784.0000 - val_tp: 55.0000\n",
      "Epoch 8/300\n",
      "\u001b[1m78/78\u001b[0m \u001b[32m━━━━━━━━━━━━━━━━━━━━\u001b[0m\u001b[37m\u001b[0m \u001b[1m0s\u001b[0m 5ms/step - fn: 27.8734 - fp: 2837.5569 - loss: 0.3146 - precision: 0.0420 - recall: 0.8137 - tn: 78897.2656 - tp: 124.9747 - val_fn: 19.0000 - val_fp: 15.0000 - val_loss: 0.2719 - val_precision: 0.7857 - val_recall: 0.7432 - val_tn: 39784.0000 - val_tp: 55.0000\n",
      "Epoch 9/300\n",
      "\u001b[1m78/78\u001b[0m \u001b[32m━━━━━━━━━━━━━━━━━━━━\u001b[0m\u001b[37m\u001b[0m \u001b[1m0s\u001b[0m 5ms/step - fn: 21.4557 - fp: 1654.6836 - loss: 0.2624 - precision: 0.0766 - recall: 0.8921 - tn: 80085.4062 - tp: 126.1266 - val_fn: 19.0000 - val_fp: 15.0000 - val_loss: 0.2282 - val_precision: 0.7857 - val_recall: 0.7432 - val_tn: 39784.0000 - val_tp: 55.0000\n",
      "Epoch 10/300\n",
      "\u001b[1m78/78\u001b[0m \u001b[32m━━━━━━━━━━━━━━━━━━━━\u001b[0m\u001b[37m\u001b[0m \u001b[1m0s\u001b[0m 5ms/step - fn: 39.2911 - fp: 990.3418 - loss: 0.2222 - precision: 0.1075 - recall: 0.7362 - tn: 80744.8984 - tp: 113.1392 - val_fn: 19.0000 - val_fp: 15.0000 - val_loss: 0.1817 - val_precision: 0.7857 - val_recall: 0.7432 - val_tn: 39784.0000 - val_tp: 55.0000\n",
      "Epoch 11/300\n",
      "\u001b[1m78/78\u001b[0m \u001b[32m━━━━━━━━━━━━━━━━━━━━\u001b[0m\u001b[37m\u001b[0m \u001b[1m0s\u001b[0m 5ms/step - fn: 34.8734 - fp: 607.5443 - loss: 0.1829 - precision: 0.1602 - recall: 0.7788 - tn: 81127.0781 - tp: 118.1772 - val_fn: 19.0000 - val_fp: 15.0000 - val_loss: 0.1540 - val_precision: 0.7857 - val_recall: 0.7432 - val_tn: 39784.0000 - val_tp: 55.0000\n",
      "Epoch 12/300\n",
      "\u001b[1m78/78\u001b[0m \u001b[32m━━━━━━━━━━━━━━━━━━━━\u001b[0m\u001b[37m\u001b[0m \u001b[1m0s\u001b[0m 5ms/step - fn: 34.0000 - fp: 447.1013 - loss: 0.1533 - precision: 0.1981 - recall: 0.7674 - tn: 81300.6953 - tp: 105.8734 - val_fn: 19.0000 - val_fp: 15.0000 - val_loss: 0.1285 - val_precision: 0.7857 - val_recall: 0.7432 - val_tn: 39784.0000 - val_tp: 55.0000\n",
      "Epoch 13/300\n",
      "\u001b[1m78/78\u001b[0m \u001b[32m━━━━━━━━━━━━━━━━━━━━\u001b[0m\u001b[37m\u001b[0m \u001b[1m0s\u001b[0m 5ms/step - fn: 45.3544 - fp: 368.1139 - loss: 0.1319 - precision: 0.2168 - recall: 0.6945 - tn: 81372.0000 - tp: 102.2025 - val_fn: 19.0000 - val_fp: 15.0000 - val_loss: 0.1080 - val_precision: 0.7857 - val_recall: 0.7432 - val_tn: 39784.0000 - val_tp: 55.0000\n",
      "Epoch 14/300\n",
      "\u001b[1m78/78\u001b[0m \u001b[32m━━━━━━━━━━━━━━━━━━━━\u001b[0m\u001b[37m\u001b[0m \u001b[1m0s\u001b[0m 5ms/step - fn: 42.2152 - fp: 304.2152 - loss: 0.1121 - precision: 0.2439 - recall: 0.7338 - tn: 81439.8750 - tp: 101.3671 - val_fn: 19.0000 - val_fp: 15.0000 - val_loss: 0.0908 - val_precision: 0.7857 - val_recall: 0.7432 - val_tn: 39784.0000 - val_tp: 55.0000\n",
      "Epoch 15/300\n",
      "\u001b[1m78/78\u001b[0m \u001b[32m━━━━━━━━━━━━━━━━━━━━\u001b[0m\u001b[37m\u001b[0m \u001b[1m0s\u001b[0m 5ms/step - fn: 38.3418 - fp: 218.8101 - loss: 0.0954 - precision: 0.2977 - recall: 0.7347 - tn: 81525.8594 - tp: 104.6582 - val_fn: 19.0000 - val_fp: 15.0000 - val_loss: 0.0781 - val_precision: 0.7857 - val_recall: 0.7432 - val_tn: 39784.0000 - val_tp: 55.0000\n",
      "Epoch 16/300\n",
      "\u001b[1m78/78\u001b[0m \u001b[32m━━━━━━━━━━━━━━━━━━━━\u001b[0m\u001b[37m\u001b[0m \u001b[1m0s\u001b[0m 5ms/step - fn: 37.2532 - fp: 211.2405 - loss: 0.0812 - precision: 0.2920 - recall: 0.7513 - tn: 81540.6797 - tp: 98.4937 - val_fn: 19.0000 - val_fp: 15.0000 - val_loss: 0.0671 - val_precision: 0.7857 - val_recall: 0.7432 - val_tn: 39784.0000 - val_tp: 55.0000\n",
      "Epoch 17/300\n",
      "\u001b[1m78/78\u001b[0m \u001b[32m━━━━━━━━━━━━━━━━━━━━\u001b[0m\u001b[37m\u001b[0m \u001b[1m0s\u001b[0m 5ms/step - fn: 33.4937 - fp: 167.0000 - loss: 0.0713 - precision: 0.3765 - recall: 0.7706 - tn: 81582.1484 - tp: 105.0253 - val_fn: 19.0000 - val_fp: 15.0000 - val_loss: 0.0605 - val_precision: 0.7857 - val_recall: 0.7432 - val_tn: 39784.0000 - val_tp: 55.0000\n",
      "Epoch 18/300\n",
      "\u001b[1m78/78\u001b[0m \u001b[32m━━━━━━━━━━━━━━━━━━━━\u001b[0m\u001b[37m\u001b[0m \u001b[1m0s\u001b[0m 5ms/step - fn: 38.6835 - fp: 120.1646 - loss: 0.0605 - precision: 0.4838 - recall: 0.7431 - tn: 81621.2266 - tp: 107.5949 - val_fn: 19.0000 - val_fp: 15.0000 - val_loss: 0.0524 - val_precision: 0.7857 - val_recall: 0.7432 - val_tn: 39784.0000 - val_tp: 55.0000\n",
      "Epoch 19/300\n",
      "\u001b[1m78/78\u001b[0m \u001b[32m━━━━━━━━━━━━━━━━━━━━\u001b[0m\u001b[37m\u001b[0m \u001b[1m0s\u001b[0m 5ms/step - fn: 40.3165 - fp: 123.7342 - loss: 0.0532 - precision: 0.4461 - recall: 0.7224 - tn: 81621.4922 - tp: 102.1266 - val_fn: 19.0000 - val_fp: 15.0000 - val_loss: 0.0465 - val_precision: 0.7857 - val_recall: 0.7432 - val_tn: 39784.0000 - val_tp: 55.0000\n",
      "Epoch 20/300\n",
      "\u001b[1m78/78\u001b[0m \u001b[32m━━━━━━━━━━━━━━━━━━━━\u001b[0m\u001b[37m\u001b[0m \u001b[1m0s\u001b[0m 5ms/step - fn: 49.3291 - fp: 115.6962 - loss: 0.0497 - precision: 0.5028 - recall: 0.6715 - tn: 81620.7109 - tp: 101.9367 - val_fn: 19.0000 - val_fp: 15.0000 - val_loss: 0.0419 - val_precision: 0.7857 - val_recall: 0.7432 - val_tn: 39784.0000 - val_tp: 55.0000\n",
      "Epoch 21/300\n",
      "\u001b[1m78/78\u001b[0m \u001b[32m━━━━━━━━━━━━━━━━━━━━\u001b[0m\u001b[37m\u001b[0m \u001b[1m0s\u001b[0m 5ms/step - fn: 40.3924 - fp: 79.3544 - loss: 0.0425 - precision: 0.5823 - recall: 0.7353 - tn: 81663.2031 - tp: 104.7215 - val_fn: 19.0000 - val_fp: 15.0000 - val_loss: 0.0401 - val_precision: 0.7857 - val_recall: 0.7432 - val_tn: 39784.0000 - val_tp: 55.0000\n",
      "Epoch 22/300\n",
      "\u001b[1m78/78\u001b[0m \u001b[32m━━━━━━━━━━━━━━━━━━━━\u001b[0m\u001b[37m\u001b[0m \u001b[1m0s\u001b[0m 5ms/step - fn: 44.5190 - fp: 76.9494 - loss: 0.0425 - precision: 0.5384 - recall: 0.6839 - tn: 81670.6953 - tp: 95.5063 - val_fn: 19.0000 - val_fp: 15.0000 - val_loss: 0.0370 - val_precision: 0.7857 - val_recall: 0.7432 - val_tn: 39784.0000 - val_tp: 55.0000\n",
      "Epoch 23/300\n",
      "\u001b[1m78/78\u001b[0m \u001b[32m━━━━━━━━━━━━━━━━━━━━\u001b[0m\u001b[37m\u001b[0m \u001b[1m0s\u001b[0m 4ms/step - fn: 42.0127 - fp: 76.7089 - loss: 0.0366 - precision: 0.5939 - recall: 0.7245 - tn: 81665.7734 - tp: 103.1772 - val_fn: 19.0000 - val_fp: 15.0000 - val_loss: 0.0325 - val_precision: 0.7857 - val_recall: 0.7432 - val_tn: 39784.0000 - val_tp: 55.0000\n",
      "Epoch 24/300\n",
      "\u001b[1m78/78\u001b[0m \u001b[32m━━━━━━━━━━━━━━━━━━━━\u001b[0m\u001b[37m\u001b[0m \u001b[1m0s\u001b[0m 4ms/step - fn: 43.9114 - fp: 75.9240 - loss: 0.0374 - precision: 0.5819 - recall: 0.6918 - tn: 81665.9141 - tp: 101.9240 - val_fn: 19.0000 - val_fp: 15.0000 - val_loss: 0.0292 - val_precision: 0.7857 - val_recall: 0.7432 - val_tn: 39784.0000 - val_tp: 55.0000\n",
      "Epoch 25/300\n",
      "\u001b[1m78/78\u001b[0m \u001b[32m━━━━━━━━━━━━━━━━━━━━\u001b[0m\u001b[37m\u001b[0m \u001b[1m0s\u001b[0m 5ms/step - fn: 43.6203 - fp: 58.6835 - loss: 0.0329 - precision: 0.6354 - recall: 0.7188 - tn: 81679.1484 - tp: 106.2152 - val_fn: 19.0000 - val_fp: 15.0000 - val_loss: 0.0281 - val_precision: 0.7857 - val_recall: 0.7432 - val_tn: 39784.0000 - val_tp: 55.0000\n",
      "Epoch 26/300\n",
      "\u001b[1m78/78\u001b[0m \u001b[32m━━━━━━━━━━━━━━━━━━━━\u001b[0m\u001b[37m\u001b[0m \u001b[1m0s\u001b[0m 5ms/step - fn: 51.8101 - fp: 56.4557 - loss: 0.0312 - precision: 0.6666 - recall: 0.6479 - tn: 81676.0156 - tp: 103.3924 - val_fn: 19.0000 - val_fp: 15.0000 - val_loss: 0.0259 - val_precision: 0.7857 - val_recall: 0.7432 - val_tn: 39784.0000 - val_tp: 55.0000\n",
      "Epoch 27/300\n",
      "\u001b[1m78/78\u001b[0m \u001b[32m━━━━━━━━━━━━━━━━━━━━\u001b[0m\u001b[37m\u001b[0m \u001b[1m0s\u001b[0m 5ms/step - fn: 44.5696 - fp: 49.1139 - loss: 0.0280 - precision: 0.7043 - recall: 0.7242 - tn: 81686.9844 - tp: 107.0000 - val_fn: 19.0000 - val_fp: 15.0000 - val_loss: 0.0261 - val_precision: 0.7857 - val_recall: 0.7432 - val_tn: 39784.0000 - val_tp: 55.0000\n",
      "Epoch 28/300\n",
      "\u001b[1m78/78\u001b[0m \u001b[32m━━━━━━━━━━━━━━━━━━━━\u001b[0m\u001b[37m\u001b[0m \u001b[1m0s\u001b[0m 5ms/step - fn: 43.7468 - fp: 49.8354 - loss: 0.0257 - precision: 0.6883 - recall: 0.7131 - tn: 81689.6328 - tp: 104.4557 - val_fn: 19.0000 - val_fp: 15.0000 - val_loss: 0.0245 - val_precision: 0.7857 - val_recall: 0.7432 - val_tn: 39784.0000 - val_tp: 55.0000\n",
      "Epoch 29/300\n",
      "\u001b[1m78/78\u001b[0m \u001b[32m━━━━━━━━━━━━━━━━━━━━\u001b[0m\u001b[37m\u001b[0m \u001b[1m0s\u001b[0m 5ms/step - fn: 46.4557 - fp: 50.7215 - loss: 0.0250 - precision: 0.6935 - recall: 0.7077 - tn: 81682.3906 - tp: 108.1013 - val_fn: 19.0000 - val_fp: 15.0000 - val_loss: 0.0231 - val_precision: 0.7857 - val_recall: 0.7432 - val_tn: 39784.0000 - val_tp: 55.0000\n",
      "Epoch 30/300\n",
      "\u001b[1m78/78\u001b[0m \u001b[32m━━━━━━━━━━━━━━━━━━━━\u001b[0m\u001b[37m\u001b[0m \u001b[1m0s\u001b[0m 5ms/step - fn: 43.3165 - fp: 53.1519 - loss: 0.0240 - precision: 0.6942 - recall: 0.7047 - tn: 81682.3828 - tp: 108.8228 - val_fn: 19.0000 - val_fp: 15.0000 - val_loss: 0.0234 - val_precision: 0.7857 - val_recall: 0.7432 - val_tn: 39784.0000 - val_tp: 55.0000\n",
      "Epoch 31/300\n",
      "\u001b[1m78/78\u001b[0m \u001b[32m━━━━━━━━━━━━━━━━━━━━\u001b[0m\u001b[37m\u001b[0m \u001b[1m0s\u001b[0m 5ms/step - fn: 36.3291 - fp: 47.1392 - loss: 0.0239 - precision: 0.6892 - recall: 0.7304 - tn: 81694.4688 - tp: 109.7342 - val_fn: 19.0000 - val_fp: 15.0000 - val_loss: 0.0186 - val_precision: 0.7857 - val_recall: 0.7432 - val_tn: 39784.0000 - val_tp: 55.0000\n",
      "Epoch 32/300\n",
      "\u001b[1m78/78\u001b[0m \u001b[32m━━━━━━━━━━━━━━━━━━━━\u001b[0m\u001b[37m\u001b[0m \u001b[1m0s\u001b[0m 5ms/step - fn: 40.5190 - fp: 37.9620 - loss: 0.0207 - precision: 0.7545 - recall: 0.7121 - tn: 81702.7500 - tp: 106.4430 - val_fn: 19.0000 - val_fp: 15.0000 - val_loss: 0.0186 - val_precision: 0.7857 - val_recall: 0.7432 - val_tn: 39784.0000 - val_tp: 55.0000\n",
      "Epoch 33/300\n",
      "\u001b[1m78/78\u001b[0m \u001b[32m━━━━━━━━━━━━━━━━━━━━\u001b[0m\u001b[37m\u001b[0m \u001b[1m0s\u001b[0m 5ms/step - fn: 45.1139 - fp: 33.7595 - loss: 0.0208 - precision: 0.7392 - recall: 0.6596 - tn: 81710.2891 - tp: 98.5063 - val_fn: 19.0000 - val_fp: 15.0000 - val_loss: 0.0188 - val_precision: 0.7857 - val_recall: 0.7432 - val_tn: 39784.0000 - val_tp: 55.0000\n",
      "Epoch 34/300\n",
      "\u001b[1m78/78\u001b[0m \u001b[32m━━━━━━━━━━━━━━━━━━━━\u001b[0m\u001b[37m\u001b[0m \u001b[1m0s\u001b[0m 5ms/step - fn: 43.0127 - fp: 42.1392 - loss: 0.0221 - precision: 0.7071 - recall: 0.6926 - tn: 81704.2188 - tp: 98.3038 - val_fn: 19.0000 - val_fp: 15.0000 - val_loss: 0.0196 - val_precision: 0.7857 - val_recall: 0.7432 - val_tn: 39784.0000 - val_tp: 55.0000\n",
      "Epoch 35/300\n",
      "\u001b[1m78/78\u001b[0m \u001b[32m━━━━━━━━━━━━━━━━━━━━\u001b[0m\u001b[37m\u001b[0m \u001b[1m0s\u001b[0m 5ms/step - fn: 40.5063 - fp: 34.5823 - loss: 0.0182 - precision: 0.7632 - recall: 0.7141 - tn: 81705.1484 - tp: 107.4304 - val_fn: 19.0000 - val_fp: 15.0000 - val_loss: 0.0174 - val_precision: 0.7857 - val_recall: 0.7432 - val_tn: 39784.0000 - val_tp: 55.0000\n",
      "Epoch 36/300\n",
      "\u001b[1m78/78\u001b[0m \u001b[32m━━━━━━━━━━━━━━━━━━━━\u001b[0m\u001b[37m\u001b[0m \u001b[1m0s\u001b[0m 5ms/step - fn: 40.0886 - fp: 43.9114 - loss: 0.0157 - precision: 0.7189 - recall: 0.7263 - tn: 81701.6953 - tp: 101.9747 - val_fn: 19.0000 - val_fp: 15.0000 - val_loss: 0.0172 - val_precision: 0.7857 - val_recall: 0.7432 - val_tn: 39784.0000 - val_tp: 55.0000\n",
      "Epoch 37/300\n",
      "\u001b[1m78/78\u001b[0m \u001b[32m━━━━━━━━━━━━━━━━━━━━\u001b[0m\u001b[37m\u001b[0m \u001b[1m0s\u001b[0m 5ms/step - fn: 46.4430 - fp: 30.1772 - loss: 0.0189 - precision: 0.7681 - recall: 0.6792 - tn: 81709.7812 - tp: 101.2658 - val_fn: 19.0000 - val_fp: 15.0000 - val_loss: 0.0166 - val_precision: 0.7857 - val_recall: 0.7432 - val_tn: 39784.0000 - val_tp: 55.0000\n",
      "Epoch 38/300\n",
      "\u001b[1m78/78\u001b[0m \u001b[32m━━━━━━━━━━━━━━━━━━━━\u001b[0m\u001b[37m\u001b[0m \u001b[1m0s\u001b[0m 4ms/step - fn: 43.4557 - fp: 31.8987 - loss: 0.0159 - precision: 0.7583 - recall: 0.7163 - tn: 81707.7578 - tp: 104.5570 - val_fn: 19.0000 - val_fp: 15.0000 - val_loss: 0.0140 - val_precision: 0.7857 - val_recall: 0.7432 - val_tn: 39784.0000 - val_tp: 55.0000\n",
      "Epoch 39/300\n",
      "\u001b[1m78/78\u001b[0m \u001b[32m━━━━━━━━━━━━━━━━━━━━\u001b[0m\u001b[37m\u001b[0m \u001b[1m0s\u001b[0m 5ms/step - fn: 47.1392 - fp: 37.8354 - loss: 0.0156 - precision: 0.7016 - recall: 0.6724 - tn: 81706.5703 - tp: 96.1266 - val_fn: 19.0000 - val_fp: 15.0000 - val_loss: 0.0156 - val_precision: 0.7857 - val_recall: 0.7432 - val_tn: 39784.0000 - val_tp: 55.0000\n",
      "Epoch 40/300\n",
      "\u001b[1m78/78\u001b[0m \u001b[32m━━━━━━━━━━━━━━━━━━━━\u001b[0m\u001b[37m\u001b[0m \u001b[1m0s\u001b[0m 5ms/step - fn: 36.0506 - fp: 29.1899 - loss: 0.0127 - precision: 0.8218 - recall: 0.7830 - tn: 81711.9375 - tp: 110.4937 - val_fn: 19.0000 - val_fp: 15.0000 - val_loss: 0.0148 - val_precision: 0.7857 - val_recall: 0.7432 - val_tn: 39784.0000 - val_tp: 55.0000\n",
      "Epoch 41/300\n",
      "\u001b[1m78/78\u001b[0m \u001b[32m━━━━━━━━━━━━━━━━━━━━\u001b[0m\u001b[37m\u001b[0m \u001b[1m0s\u001b[0m 5ms/step - fn: 42.8481 - fp: 28.5190 - loss: 0.0151 - precision: 0.7589 - recall: 0.7240 - tn: 81717.2266 - tp: 99.0760 - val_fn: 19.0000 - val_fp: 15.0000 - val_loss: 0.0129 - val_precision: 0.7857 - val_recall: 0.7432 - val_tn: 39784.0000 - val_tp: 55.0000\n",
      "Epoch 42/300\n",
      "\u001b[1m78/78\u001b[0m \u001b[32m━━━━━━━━━━━━━━━━━━━━\u001b[0m\u001b[37m\u001b[0m \u001b[1m0s\u001b[0m 5ms/step - fn: 50.1013 - fp: 35.6076 - loss: 0.0145 - precision: 0.7004 - recall: 0.6588 - tn: 81707.3672 - tp: 94.5949 - val_fn: 19.0000 - val_fp: 15.0000 - val_loss: 0.0164 - val_precision: 0.7857 - val_recall: 0.7432 - val_tn: 39784.0000 - val_tp: 55.0000\n",
      "Epoch 43/300\n",
      "\u001b[1m78/78\u001b[0m \u001b[32m━━━━━━━━━━━━━━━━━━━━\u001b[0m\u001b[37m\u001b[0m \u001b[1m0s\u001b[0m 5ms/step - fn: 39.8228 - fp: 31.0380 - loss: 0.0132 - precision: 0.7775 - recall: 0.7326 - tn: 81711.0859 - tp: 105.7215 - val_fn: 19.0000 - val_fp: 15.0000 - val_loss: 0.0142 - val_precision: 0.7857 - val_recall: 0.7432 - val_tn: 39784.0000 - val_tp: 55.0000\n",
      "Epoch 44/300\n",
      "\u001b[1m78/78\u001b[0m \u001b[32m━━━━━━━━━━━━━━━━━━━━\u001b[0m\u001b[37m\u001b[0m \u001b[1m0s\u001b[0m 5ms/step - fn: 39.4304 - fp: 27.7722 - loss: 0.0130 - precision: 0.8136 - recall: 0.7282 - tn: 81714.0000 - tp: 106.4684 - val_fn: 19.0000 - val_fp: 15.0000 - val_loss: 0.0126 - val_precision: 0.7857 - val_recall: 0.7432 - val_tn: 39784.0000 - val_tp: 55.0000\n",
      "Epoch 45/300\n",
      "\u001b[1m78/78\u001b[0m \u001b[32m━━━━━━━━━━━━━━━━━━━━\u001b[0m\u001b[37m\u001b[0m \u001b[1m0s\u001b[0m 5ms/step - fn: 40.4684 - fp: 28.7342 - loss: 0.0123 - precision: 0.7931 - recall: 0.7299 - tn: 81712.2656 - tp: 106.2025 - val_fn: 19.0000 - val_fp: 15.0000 - val_loss: 0.0115 - val_precision: 0.7857 - val_recall: 0.7432 - val_tn: 39784.0000 - val_tp: 55.0000\n",
      "Epoch 46/300\n",
      "\u001b[1m78/78\u001b[0m \u001b[32m━━━━━━━━━━━━━━━━━━━━\u001b[0m\u001b[37m\u001b[0m \u001b[1m0s\u001b[0m 5ms/step - fn: 46.5823 - fp: 27.6203 - loss: 0.0130 - precision: 0.7663 - recall: 0.6691 - tn: 81710.2266 - tp: 103.2405 - val_fn: 19.0000 - val_fp: 15.0000 - val_loss: 0.0139 - val_precision: 0.7857 - val_recall: 0.7432 - val_tn: 39784.0000 - val_tp: 55.0000\n",
      "Epoch 47/300\n",
      "\u001b[1m78/78\u001b[0m \u001b[32m━━━━━━━━━━━━━━━━━━━━\u001b[0m\u001b[37m\u001b[0m \u001b[1m0s\u001b[0m 4ms/step - fn: 40.8354 - fp: 29.2405 - loss: 0.0120 - precision: 0.7887 - recall: 0.6988 - tn: 81713.7344 - tp: 103.8608 - val_fn: 19.0000 - val_fp: 15.0000 - val_loss: 0.0126 - val_precision: 0.7857 - val_recall: 0.7432 - val_tn: 39784.0000 - val_tp: 55.0000\n",
      "Epoch 48/300\n",
      "\u001b[1m78/78\u001b[0m \u001b[32m━━━━━━━━━━━━━━━━━━━━\u001b[0m\u001b[37m\u001b[0m \u001b[1m0s\u001b[0m 5ms/step - fn: 38.8101 - fp: 24.9241 - loss: 0.0116 - precision: 0.8105 - recall: 0.7370 - tn: 81721.1172 - tp: 102.8228 - val_fn: 19.0000 - val_fp: 15.0000 - val_loss: 0.0122 - val_precision: 0.7857 - val_recall: 0.7432 - val_tn: 39784.0000 - val_tp: 55.0000\n",
      "Epoch 49/300\n",
      "\u001b[1m78/78\u001b[0m \u001b[32m━━━━━━━━━━━━━━━━━━━━\u001b[0m\u001b[37m\u001b[0m \u001b[1m0s\u001b[0m 5ms/step - fn: 41.8101 - fp: 27.5316 - loss: 0.0109 - precision: 0.7929 - recall: 0.6997 - tn: 81712.8516 - tp: 105.4810 - val_fn: 19.0000 - val_fp: 15.0000 - val_loss: 0.0123 - val_precision: 0.7857 - val_recall: 0.7432 - val_tn: 39784.0000 - val_tp: 55.0000\n",
      "Epoch 50/300\n",
      "\u001b[1m78/78\u001b[0m \u001b[32m━━━━━━━━━━━━━━━━━━━━\u001b[0m\u001b[37m\u001b[0m \u001b[1m0s\u001b[0m 5ms/step - fn: 40.0886 - fp: 28.5949 - loss: 0.0109 - precision: 0.7983 - recall: 0.7394 - tn: 81710.3281 - tp: 108.6582 - val_fn: 19.0000 - val_fp: 15.0000 - val_loss: 0.0101 - val_precision: 0.7857 - val_recall: 0.7432 - val_tn: 39784.0000 - val_tp: 55.0000\n",
      "Epoch 51/300\n",
      "\u001b[1m78/78\u001b[0m \u001b[32m━━━━━━━━━━━━━━━━━━━━\u001b[0m\u001b[37m\u001b[0m \u001b[1m0s\u001b[0m 5ms/step - fn: 39.2152 - fp: 24.6076 - loss: 0.0105 - precision: 0.8003 - recall: 0.6844 - tn: 81722.7500 - tp: 101.1013 - val_fn: 19.0000 - val_fp: 15.0000 - val_loss: 0.0117 - val_precision: 0.7857 - val_recall: 0.7432 - val_tn: 39784.0000 - val_tp: 55.0000\n",
      "Epoch 52/300\n",
      "\u001b[1m78/78\u001b[0m \u001b[32m━━━━━━━━━━━━━━━━━━━━\u001b[0m\u001b[37m\u001b[0m \u001b[1m1s\u001b[0m 5ms/step - fn: 38.9240 - fp: 25.8987 - loss: 0.0114 - precision: 0.8087 - recall: 0.7372 - tn: 81714.0391 - tp: 108.8101 - val_fn: 19.0000 - val_fp: 15.0000 - val_loss: 0.0086 - val_precision: 0.7857 - val_recall: 0.7432 - val_tn: 39784.0000 - val_tp: 55.0000\n",
      "Epoch 53/300\n",
      "\u001b[1m78/78\u001b[0m \u001b[32m━━━━━━━━━━━━━━━━━━━━\u001b[0m\u001b[37m\u001b[0m \u001b[1m0s\u001b[0m 5ms/step - fn: 48.4177 - fp: 21.1772 - loss: 0.0112 - precision: 0.8001 - recall: 0.6427 - tn: 81731.1797 - tp: 86.8987 - val_fn: 19.0000 - val_fp: 15.0000 - val_loss: 0.0108 - val_precision: 0.7857 - val_recall: 0.7432 - val_tn: 39784.0000 - val_tp: 55.0000\n",
      "Epoch 54/300\n",
      "\u001b[1m78/78\u001b[0m \u001b[32m━━━━━━━━━━━━━━━━━━━━\u001b[0m\u001b[37m\u001b[0m \u001b[1m0s\u001b[0m 5ms/step - fn: 32.1266 - fp: 26.0380 - loss: 0.0090 - precision: 0.8101 - recall: 0.7617 - tn: 81723.8594 - tp: 105.6456 - val_fn: 19.0000 - val_fp: 15.0000 - val_loss: 0.0082 - val_precision: 0.7857 - val_recall: 0.7432 - val_tn: 39784.0000 - val_tp: 55.0000\n",
      "Epoch 55/300\n",
      "\u001b[1m78/78\u001b[0m \u001b[32m━━━━━━━━━━━━━━━━━━━━\u001b[0m\u001b[37m\u001b[0m \u001b[1m0s\u001b[0m 5ms/step - fn: 53.2405 - fp: 25.2025 - loss: 0.0108 - precision: 0.7983 - recall: 0.6369 - tn: 81707.2891 - tp: 101.9367 - val_fn: 19.0000 - val_fp: 15.0000 - val_loss: 0.0090 - val_precision: 0.7857 - val_recall: 0.7432 - val_tn: 39784.0000 - val_tp: 55.0000\n",
      "Epoch 56/300\n",
      "\u001b[1m78/78\u001b[0m \u001b[32m━━━━━━━━━━━━━━━━━━━━\u001b[0m\u001b[37m\u001b[0m \u001b[1m0s\u001b[0m 5ms/step - fn: 41.0633 - fp: 28.8987 - loss: 0.0095 - precision: 0.7833 - recall: 0.7291 - tn: 81711.6172 - tp: 106.0886 - val_fn: 19.0000 - val_fp: 13.0000 - val_loss: 0.0072 - val_precision: 0.8088 - val_recall: 0.7432 - val_tn: 39786.0000 - val_tp: 55.0000\n",
      "Epoch 57/300\n",
      "\u001b[1m78/78\u001b[0m \u001b[32m━━━━━━━━━━━━━━━━━━━━\u001b[0m\u001b[37m\u001b[0m \u001b[1m0s\u001b[0m 5ms/step - fn: 47.2911 - fp: 20.3924 - loss: 0.0083 - precision: 0.8325 - recall: 0.6802 - tn: 81718.7500 - tp: 101.2405 - val_fn: 19.0000 - val_fp: 14.0000 - val_loss: 0.0080 - val_precision: 0.7971 - val_recall: 0.7432 - val_tn: 39785.0000 - val_tp: 55.0000\n",
      "Epoch 58/300\n",
      "\u001b[1m78/78\u001b[0m \u001b[32m━━━━━━━━━━━━━━━━━━━━\u001b[0m\u001b[37m\u001b[0m \u001b[1m0s\u001b[0m 5ms/step - fn: 36.5823 - fp: 16.4304 - loss: 0.0077 - precision: 0.8693 - recall: 0.7472 - tn: 81730.8203 - tp: 103.8354 - val_fn: 19.0000 - val_fp: 14.0000 - val_loss: 0.0077 - val_precision: 0.7971 - val_recall: 0.7432 - val_tn: 39785.0000 - val_tp: 55.0000\n",
      "Epoch 59/300\n",
      "\u001b[1m78/78\u001b[0m \u001b[32m━━━━━━━━━━━━━━━━━━━━\u001b[0m\u001b[37m\u001b[0m \u001b[1m0s\u001b[0m 5ms/step - fn: 42.9367 - fp: 22.5443 - loss: 0.0086 - precision: 0.8087 - recall: 0.7085 - tn: 81720.5938 - tp: 101.5949 - val_fn: 19.0000 - val_fp: 15.0000 - val_loss: 0.0085 - val_precision: 0.7857 - val_recall: 0.7432 - val_tn: 39784.0000 - val_tp: 55.0000\n",
      "Epoch 60/300\n",
      "\u001b[1m78/78\u001b[0m \u001b[32m━━━━━━━━━━━━━━━━━━━━\u001b[0m\u001b[37m\u001b[0m \u001b[1m0s\u001b[0m 5ms/step - fn: 40.8354 - fp: 27.8861 - loss: 0.0075 - precision: 0.8122 - recall: 0.7495 - tn: 81705.7578 - tp: 113.1899 - val_fn: 24.0000 - val_fp: 10.0000 - val_loss: 0.0063 - val_precision: 0.8333 - val_recall: 0.6757 - val_tn: 39789.0000 - val_tp: 50.0000\n",
      "Epoch 61/300\n",
      "\u001b[1m78/78\u001b[0m \u001b[32m━━━━━━━━━━━━━━━━━━━━\u001b[0m\u001b[37m\u001b[0m \u001b[1m0s\u001b[0m 5ms/step - fn: 44.2785 - fp: 19.0253 - loss: 0.0082 - precision: 0.8422 - recall: 0.6978 - tn: 81717.3047 - tp: 107.0633 - val_fn: 24.0000 - val_fp: 10.0000 - val_loss: 0.0062 - val_precision: 0.8333 - val_recall: 0.6757 - val_tn: 39789.0000 - val_tp: 50.0000\n",
      "Epoch 62/300\n",
      "\u001b[1m78/78\u001b[0m \u001b[32m━━━━━━━━━━━━━━━━━━━━\u001b[0m\u001b[37m\u001b[0m \u001b[1m0s\u001b[0m 5ms/step - fn: 42.6076 - fp: 17.9873 - loss: 0.0083 - precision: 0.8268 - recall: 0.6722 - tn: 81732.8125 - tp: 94.2658 - val_fn: 19.0000 - val_fp: 14.0000 - val_loss: 0.0071 - val_precision: 0.7971 - val_recall: 0.7432 - val_tn: 39785.0000 - val_tp: 55.0000\n",
      "Epoch 63/300\n",
      "\u001b[1m78/78\u001b[0m \u001b[32m━━━━━━━━━━━━━━━━━━━━\u001b[0m\u001b[37m\u001b[0m \u001b[1m1s\u001b[0m 5ms/step - fn: 46.5823 - fp: 26.4304 - loss: 0.0071 - precision: 0.7806 - recall: 0.6889 - tn: 81715.3203 - tp: 99.3418 - val_fn: 19.0000 - val_fp: 14.0000 - val_loss: 0.0070 - val_precision: 0.7971 - val_recall: 0.7432 - val_tn: 39785.0000 - val_tp: 55.0000\n",
      "Epoch 64/300\n",
      "\u001b[1m78/78\u001b[0m \u001b[32m━━━━━━━━━━━━━━━━━━━━\u001b[0m\u001b[37m\u001b[0m \u001b[1m0s\u001b[0m 5ms/step - fn: 38.0760 - fp: 15.3418 - loss: 0.0058 - precision: 0.9034 - recall: 0.7193 - tn: 81724.8203 - tp: 109.4304 - val_fn: 19.0000 - val_fp: 14.0000 - val_loss: 0.0063 - val_precision: 0.7971 - val_recall: 0.7432 - val_tn: 39785.0000 - val_tp: 55.0000\n",
      "Epoch 65/300\n",
      "\u001b[1m78/78\u001b[0m \u001b[32m━━━━━━━━━━━━━━━━━━━━\u001b[0m\u001b[37m\u001b[0m \u001b[1m0s\u001b[0m 5ms/step - fn: 42.2405 - fp: 16.5190 - loss: 0.0060 - precision: 0.8553 - recall: 0.6877 - tn: 81728.1016 - tp: 100.8101 - val_fn: 25.0000 - val_fp: 11.0000 - val_loss: 0.0057 - val_precision: 0.8167 - val_recall: 0.6622 - val_tn: 39788.0000 - val_tp: 49.0000\n",
      "Epoch 66/300\n",
      "\u001b[1m78/78\u001b[0m \u001b[32m━━━━━━━━━━━━━━━━━━━━\u001b[0m\u001b[37m\u001b[0m \u001b[1m0s\u001b[0m 5ms/step - fn: 42.5949 - fp: 22.8101 - loss: 0.0066 - precision: 0.8105 - recall: 0.6843 - tn: 81724.3906 - tp: 97.8734 - val_fn: 18.0000 - val_fp: 14.0000 - val_loss: 0.0067 - val_precision: 0.8000 - val_recall: 0.7568 - val_tn: 39785.0000 - val_tp: 56.0000\n",
      "Epoch 67/300\n",
      "\u001b[1m78/78\u001b[0m \u001b[32m━━━━━━━━━━━━━━━━━━━━\u001b[0m\u001b[37m\u001b[0m \u001b[1m0s\u001b[0m 5ms/step - fn: 35.1899 - fp: 18.0886 - loss: 0.0060 - precision: 0.8636 - recall: 0.7644 - tn: 81726.7812 - tp: 107.6076 - val_fn: 20.0000 - val_fp: 14.0000 - val_loss: 0.0061 - val_precision: 0.7941 - val_recall: 0.7297 - val_tn: 39785.0000 - val_tp: 54.0000\n",
      "Epoch 68/300\n",
      "\u001b[1m78/78\u001b[0m \u001b[32m━━━━━━━━━━━━━━━━━━━━\u001b[0m\u001b[37m\u001b[0m \u001b[1m0s\u001b[0m 5ms/step - fn: 43.0760 - fp: 16.8481 - loss: 0.0061 - precision: 0.8553 - recall: 0.7176 - tn: 81727.7500 - tp: 100.0000 - val_fn: 18.0000 - val_fp: 14.0000 - val_loss: 0.0064 - val_precision: 0.8000 - val_recall: 0.7568 - val_tn: 39785.0000 - val_tp: 56.0000\n",
      "Epoch 69/300\n",
      "\u001b[1m78/78\u001b[0m \u001b[32m━━━━━━━━━━━━━━━━━━━━\u001b[0m\u001b[37m\u001b[0m \u001b[1m0s\u001b[0m 4ms/step - fn: 39.7722 - fp: 14.8734 - loss: 0.0059 - precision: 0.8663 - recall: 0.7226 - tn: 81730.4062 - tp: 102.6203 - val_fn: 20.0000 - val_fp: 14.0000 - val_loss: 0.0060 - val_precision: 0.7941 - val_recall: 0.7297 - val_tn: 39785.0000 - val_tp: 54.0000\n",
      "Epoch 70/300\n",
      "\u001b[1m78/78\u001b[0m \u001b[32m━━━━━━━━━━━━━━━━━━━━\u001b[0m\u001b[37m\u001b[0m \u001b[1m0s\u001b[0m 5ms/step - fn: 46.2658 - fp: 17.2405 - loss: 0.0077 - precision: 0.8118 - recall: 0.6312 - tn: 81732.7109 - tp: 91.4557 - val_fn: 20.0000 - val_fp: 14.0000 - val_loss: 0.0066 - val_precision: 0.7941 - val_recall: 0.7297 - val_tn: 39785.0000 - val_tp: 54.0000\n",
      "Epoch 71/300\n",
      "\u001b[1m78/78\u001b[0m \u001b[32m━━━━━━━━━━━━━━━━━━━━\u001b[0m\u001b[37m\u001b[0m \u001b[1m0s\u001b[0m 5ms/step - fn: 37.2152 - fp: 19.1772 - loss: 0.0050 - precision: 0.8621 - recall: 0.7326 - tn: 81726.2500 - tp: 105.0253 - val_fn: 22.0000 - val_fp: 9.0000 - val_loss: 0.0052 - val_precision: 0.8525 - val_recall: 0.7027 - val_tn: 39790.0000 - val_tp: 52.0000\n",
      "Epoch 72/300\n",
      "\u001b[1m78/78\u001b[0m \u001b[32m━━━━━━━━━━━━━━━━━━━━\u001b[0m\u001b[37m\u001b[0m \u001b[1m0s\u001b[0m 5ms/step - fn: 44.8987 - fp: 15.2532 - loss: 0.0059 - precision: 0.8354 - recall: 0.6928 - tn: 81731.1250 - tp: 96.3924 - val_fn: 19.0000 - val_fp: 14.0000 - val_loss: 0.0063 - val_precision: 0.7971 - val_recall: 0.7432 - val_tn: 39785.0000 - val_tp: 55.0000\n",
      "Epoch 73/300\n",
      "\u001b[1m78/78\u001b[0m \u001b[32m━━━━━━━━━━━━━━━━━━━━\u001b[0m\u001b[37m\u001b[0m \u001b[1m0s\u001b[0m 5ms/step - fn: 37.0506 - fp: 17.1013 - loss: 0.0053 - precision: 0.8646 - recall: 0.7464 - tn: 81725.6719 - tp: 107.8481 - val_fn: 19.0000 - val_fp: 14.0000 - val_loss: 0.0060 - val_precision: 0.7971 - val_recall: 0.7432 - val_tn: 39785.0000 - val_tp: 55.0000\n",
      "Epoch 74/300\n",
      "\u001b[1m78/78\u001b[0m \u001b[32m━━━━━━━━━━━━━━━━━━━━\u001b[0m\u001b[37m\u001b[0m \u001b[1m0s\u001b[0m 5ms/step - fn: 35.5190 - fp: 16.5443 - loss: 0.0047 - precision: 0.8651 - recall: 0.7592 - tn: 81727.8828 - tp: 107.7215 - val_fn: 20.0000 - val_fp: 11.0000 - val_loss: 0.0055 - val_precision: 0.8308 - val_recall: 0.7297 - val_tn: 39788.0000 - val_tp: 54.0000\n",
      "Epoch 75/300\n",
      "\u001b[1m78/78\u001b[0m \u001b[32m━━━━━━━━━━━━━━━━━━━━\u001b[0m\u001b[37m\u001b[0m \u001b[1m0s\u001b[0m 5ms/step - fn: 40.3924 - fp: 13.8354 - loss: 0.0050 - precision: 0.8797 - recall: 0.7164 - tn: 81730.0156 - tp: 103.4304 - val_fn: 19.0000 - val_fp: 10.0000 - val_loss: 0.0052 - val_precision: 0.8462 - val_recall: 0.7432 - val_tn: 39789.0000 - val_tp: 55.0000\n",
      "Epoch 76/300\n",
      "\u001b[1m78/78\u001b[0m \u001b[32m━━━━━━━━━━━━━━━━━━━━\u001b[0m\u001b[37m\u001b[0m \u001b[1m0s\u001b[0m 5ms/step - fn: 41.8354 - fp: 19.0506 - loss: 0.0049 - precision: 0.8356 - recall: 0.7000 - tn: 81726.5312 - tp: 100.2532 - val_fn: 19.0000 - val_fp: 10.0000 - val_loss: 0.0052 - val_precision: 0.8462 - val_recall: 0.7432 - val_tn: 39789.0000 - val_tp: 55.0000\n",
      "Epoch 77/300\n",
      "\u001b[1m78/78\u001b[0m \u001b[32m━━━━━━━━━━━━━━━━━━━━\u001b[0m\u001b[37m\u001b[0m \u001b[1m0s\u001b[0m 4ms/step - fn: 38.8734 - fp: 14.4557 - loss: 0.0038 - precision: 0.8890 - recall: 0.7419 - tn: 81732.2031 - tp: 102.1392 - val_fn: 20.0000 - val_fp: 9.0000 - val_loss: 0.0050 - val_precision: 0.8571 - val_recall: 0.7297 - val_tn: 39790.0000 - val_tp: 54.0000\n",
      "Epoch 78/300\n",
      "\u001b[1m78/78\u001b[0m \u001b[32m━━━━━━━━━━━━━━━━━━━━\u001b[0m\u001b[37m\u001b[0m \u001b[1m0s\u001b[0m 5ms/step - fn: 41.8481 - fp: 13.0633 - loss: 0.0045 - precision: 0.8883 - recall: 0.7381 - tn: 81720.4922 - tp: 112.2658 - val_fn: 19.0000 - val_fp: 11.0000 - val_loss: 0.0051 - val_precision: 0.8333 - val_recall: 0.7432 - val_tn: 39788.0000 - val_tp: 55.0000\n",
      "Epoch 79/300\n",
      "\u001b[1m78/78\u001b[0m \u001b[32m━━━━━━━━━━━━━━━━━━━━\u001b[0m\u001b[37m\u001b[0m \u001b[1m0s\u001b[0m 5ms/step - fn: 35.8608 - fp: 17.6203 - loss: 0.0044 - precision: 0.8685 - recall: 0.7610 - tn: 81724.0156 - tp: 110.1772 - val_fn: 19.0000 - val_fp: 9.0000 - val_loss: 0.0050 - val_precision: 0.8594 - val_recall: 0.7432 - val_tn: 39790.0000 - val_tp: 55.0000\n",
      "Epoch 80/300\n",
      "\u001b[1m78/78\u001b[0m \u001b[32m━━━━━━━━━━━━━━━━━━━━\u001b[0m\u001b[37m\u001b[0m \u001b[1m0s\u001b[0m 5ms/step - fn: 38.9494 - fp: 15.9873 - loss: 0.0047 - precision: 0.8509 - recall: 0.7396 - tn: 81728.7812 - tp: 103.9494 - val_fn: 19.0000 - val_fp: 9.0000 - val_loss: 0.0049 - val_precision: 0.8594 - val_recall: 0.7432 - val_tn: 39790.0000 - val_tp: 55.0000\n",
      "Epoch 81/300\n",
      "\u001b[1m78/78\u001b[0m \u001b[32m━━━━━━━━━━━━━━━━━━━━\u001b[0m\u001b[37m\u001b[0m \u001b[1m0s\u001b[0m 5ms/step - fn: 42.2785 - fp: 20.9747 - loss: 0.0054 - precision: 0.8135 - recall: 0.6925 - tn: 81718.8125 - tp: 105.6076 - val_fn: 19.0000 - val_fp: 10.0000 - val_loss: 0.0049 - val_precision: 0.8462 - val_recall: 0.7432 - val_tn: 39789.0000 - val_tp: 55.0000\n",
      "Epoch 82/300\n",
      "\u001b[1m78/78\u001b[0m \u001b[32m━━━━━━━━━━━━━━━━━━━━\u001b[0m\u001b[37m\u001b[0m \u001b[1m0s\u001b[0m 4ms/step - fn: 40.0760 - fp: 12.4810 - loss: 0.0046 - precision: 0.8597 - recall: 0.7035 - tn: 81736.3906 - tp: 98.7215 - val_fn: 20.0000 - val_fp: 11.0000 - val_loss: 0.0053 - val_precision: 0.8308 - val_recall: 0.7297 - val_tn: 39788.0000 - val_tp: 54.0000\n",
      "Epoch 83/300\n",
      "\u001b[1m78/78\u001b[0m \u001b[32m━━━━━━━━━━━━━━━━━━━━\u001b[0m\u001b[37m\u001b[0m \u001b[1m0s\u001b[0m 5ms/step - fn: 37.2785 - fp: 10.0759 - loss: 0.0045 - precision: 0.9230 - recall: 0.7461 - tn: 81729.0625 - tp: 111.2532 - val_fn: 19.0000 - val_fp: 10.0000 - val_loss: 0.0049 - val_precision: 0.8462 - val_recall: 0.7432 - val_tn: 39789.0000 - val_tp: 55.0000\n",
      "Epoch 84/300\n",
      "\u001b[1m78/78\u001b[0m \u001b[32m━━━━━━━━━━━━━━━━━━━━\u001b[0m\u001b[37m\u001b[0m \u001b[1m0s\u001b[0m 4ms/step - fn: 37.8101 - fp: 14.5696 - loss: 0.0047 - precision: 0.8835 - recall: 0.7410 - tn: 81732.5469 - tp: 102.7468 - val_fn: 20.0000 - val_fp: 10.0000 - val_loss: 0.0048 - val_precision: 0.8438 - val_recall: 0.7297 - val_tn: 39789.0000 - val_tp: 54.0000\n",
      "Epoch 85/300\n",
      "\u001b[1m78/78\u001b[0m \u001b[32m━━━━━━━━━━━━━━━━━━━━\u001b[0m\u001b[37m\u001b[0m \u001b[1m0s\u001b[0m 5ms/step - fn: 37.0000 - fp: 11.5063 - loss: 0.0044 - precision: 0.9074 - recall: 0.7535 - tn: 81734.6797 - tp: 104.4810 - val_fn: 19.0000 - val_fp: 8.0000 - val_loss: 0.0047 - val_precision: 0.8730 - val_recall: 0.7432 - val_tn: 39791.0000 - val_tp: 55.0000\n",
      "Epoch 86/300\n",
      "\u001b[1m78/78\u001b[0m \u001b[32m━━━━━━━━━━━━━━━━━━━━\u001b[0m\u001b[37m\u001b[0m \u001b[1m0s\u001b[0m 5ms/step - fn: 39.5823 - fp: 11.6456 - loss: 0.0045 - precision: 0.9101 - recall: 0.7368 - tn: 81725.5156 - tp: 110.9240 - val_fn: 19.0000 - val_fp: 8.0000 - val_loss: 0.0045 - val_precision: 0.8730 - val_recall: 0.7432 - val_tn: 39791.0000 - val_tp: 55.0000\n",
      "Epoch 87/300\n",
      "\u001b[1m78/78\u001b[0m \u001b[32m━━━━━━━━━━━━━━━━━━━━\u001b[0m\u001b[37m\u001b[0m \u001b[1m0s\u001b[0m 5ms/step - fn: 41.1772 - fp: 10.1139 - loss: 0.0038 - precision: 0.9179 - recall: 0.7132 - tn: 81729.2812 - tp: 107.1013 - val_fn: 19.0000 - val_fp: 8.0000 - val_loss: 0.0045 - val_precision: 0.8730 - val_recall: 0.7432 - val_tn: 39791.0000 - val_tp: 55.0000\n",
      "Epoch 88/300\n",
      "\u001b[1m78/78\u001b[0m \u001b[32m━━━━━━━━━━━━━━━━━━━━\u001b[0m\u001b[37m\u001b[0m \u001b[1m0s\u001b[0m 5ms/step - fn: 44.4810 - fp: 14.0000 - loss: 0.0044 - precision: 0.8690 - recall: 0.6769 - tn: 81727.7969 - tp: 101.3924 - val_fn: 19.0000 - val_fp: 8.0000 - val_loss: 0.0046 - val_precision: 0.8730 - val_recall: 0.7432 - val_tn: 39791.0000 - val_tp: 55.0000\n",
      "Epoch 89/300\n",
      "\u001b[1m78/78\u001b[0m \u001b[32m━━━━━━━━━━━━━━━━━━━━\u001b[0m\u001b[37m\u001b[0m \u001b[1m0s\u001b[0m 4ms/step - fn: 45.2152 - fp: 15.1646 - loss: 0.0045 - precision: 0.8884 - recall: 0.7111 - tn: 81715.7109 - tp: 111.5823 - val_fn: 19.0000 - val_fp: 10.0000 - val_loss: 0.0049 - val_precision: 0.8462 - val_recall: 0.7432 - val_tn: 39789.0000 - val_tp: 55.0000\n",
      "Epoch 90/300\n",
      "\u001b[1m78/78\u001b[0m \u001b[32m━━━━━━━━━━━━━━━━━━━━\u001b[0m\u001b[37m\u001b[0m \u001b[1m0s\u001b[0m 5ms/step - fn: 36.0380 - fp: 10.0380 - loss: 0.0041 - precision: 0.9218 - recall: 0.7556 - tn: 81730.2500 - tp: 111.3418 - val_fn: 19.0000 - val_fp: 8.0000 - val_loss: 0.0045 - val_precision: 0.8730 - val_recall: 0.7432 - val_tn: 39791.0000 - val_tp: 55.0000\n",
      "Epoch 91/300\n",
      "\u001b[1m78/78\u001b[0m \u001b[32m━━━━━━━━━━━━━━━━━━━━\u001b[0m\u001b[37m\u001b[0m \u001b[1m0s\u001b[0m 5ms/step - fn: 39.7342 - fp: 12.1899 - loss: 0.0045 - precision: 0.8952 - recall: 0.7049 - tn: 81730.2891 - tp: 105.4557 - val_fn: 19.0000 - val_fp: 9.0000 - val_loss: 0.0049 - val_precision: 0.8594 - val_recall: 0.7432 - val_tn: 39790.0000 - val_tp: 55.0000\n",
      "Epoch 92/300\n",
      "\u001b[1m78/78\u001b[0m \u001b[32m━━━━━━━━━━━━━━━━━━━━\u001b[0m\u001b[37m\u001b[0m \u001b[1m0s\u001b[0m 5ms/step - fn: 30.8101 - fp: 14.3797 - loss: 0.0034 - precision: 0.8895 - recall: 0.7883 - tn: 81730.8203 - tp: 111.6582 - val_fn: 19.0000 - val_fp: 8.0000 - val_loss: 0.0043 - val_precision: 0.8730 - val_recall: 0.7432 - val_tn: 39791.0000 - val_tp: 55.0000\n",
      "Epoch 93/300\n",
      "\u001b[1m78/78\u001b[0m \u001b[32m━━━━━━━━━━━━━━━━━━━━\u001b[0m\u001b[37m\u001b[0m \u001b[1m0s\u001b[0m 5ms/step - fn: 32.2532 - fp: 8.1392 - loss: 0.0031 - precision: 0.9430 - recall: 0.7803 - tn: 81732.5312 - tp: 114.7468 - val_fn: 19.0000 - val_fp: 8.0000 - val_loss: 0.0047 - val_precision: 0.8730 - val_recall: 0.7432 - val_tn: 39791.0000 - val_tp: 55.0000\n",
      "Epoch 94/300\n",
      "\u001b[1m78/78\u001b[0m \u001b[32m━━━━━━━━━━━━━━━━━━━━\u001b[0m\u001b[37m\u001b[0m \u001b[1m0s\u001b[0m 5ms/step - fn: 39.8987 - fp: 14.4557 - loss: 0.0035 - precision: 0.8769 - recall: 0.7079 - tn: 81735.3516 - tp: 97.9620 - val_fn: 19.0000 - val_fp: 8.0000 - val_loss: 0.0046 - val_precision: 0.8730 - val_recall: 0.7432 - val_tn: 39791.0000 - val_tp: 55.0000\n",
      "Epoch 95/300\n",
      "\u001b[1m78/78\u001b[0m \u001b[32m━━━━━━━━━━━━━━━━━━━━\u001b[0m\u001b[37m\u001b[0m \u001b[1m0s\u001b[0m 5ms/step - fn: 41.2785 - fp: 8.0886 - loss: 0.0033 - precision: 0.9417 - recall: 0.7136 - tn: 81732.8203 - tp: 105.4810 - val_fn: 19.0000 - val_fp: 8.0000 - val_loss: 0.0046 - val_precision: 0.8730 - val_recall: 0.7432 - val_tn: 39791.0000 - val_tp: 55.0000\n",
      "Epoch 96/300\n",
      "\u001b[1m78/78\u001b[0m \u001b[32m━━━━━━━━━━━━━━━━━━━━\u001b[0m\u001b[37m\u001b[0m \u001b[1m0s\u001b[0m 5ms/step - fn: 36.8228 - fp: 14.4684 - loss: 0.0036 - precision: 0.8775 - recall: 0.7591 - tn: 81731.8750 - tp: 104.5063 - val_fn: 19.0000 - val_fp: 8.0000 - val_loss: 0.0042 - val_precision: 0.8730 - val_recall: 0.7432 - val_tn: 39791.0000 - val_tp: 55.0000\n",
      "Epoch 97/300\n",
      "\u001b[1m78/78\u001b[0m \u001b[32m━━━━━━━━━━━━━━━━━━━━\u001b[0m\u001b[37m\u001b[0m \u001b[1m0s\u001b[0m 5ms/step - fn: 35.4810 - fp: 13.2785 - loss: 0.0035 - precision: 0.8837 - recall: 0.7299 - tn: 81740.7734 - tp: 98.1392 - val_fn: 19.0000 - val_fp: 9.0000 - val_loss: 0.0045 - val_precision: 0.8594 - val_recall: 0.7432 - val_tn: 39790.0000 - val_tp: 55.0000\n",
      "Epoch 98/300\n",
      "\u001b[1m78/78\u001b[0m \u001b[32m━━━━━━━━━━━━━━━━━━━━\u001b[0m\u001b[37m\u001b[0m \u001b[1m0s\u001b[0m 5ms/step - fn: 37.7848 - fp: 12.2532 - loss: 0.0033 - precision: 0.8656 - recall: 0.7146 - tn: 81734.9219 - tp: 102.7089 - val_fn: 19.0000 - val_fp: 10.0000 - val_loss: 0.0047 - val_precision: 0.8462 - val_recall: 0.7432 - val_tn: 39789.0000 - val_tp: 55.0000\n",
      "Epoch 99/300\n",
      "\u001b[1m78/78\u001b[0m \u001b[32m━━━━━━━━━━━━━━━━━━━━\u001b[0m\u001b[37m\u001b[0m \u001b[1m0s\u001b[0m 5ms/step - fn: 33.6076 - fp: 14.0633 - loss: 0.0033 - precision: 0.8714 - recall: 0.7933 - tn: 81726.4688 - tp: 113.5316 - val_fn: 19.0000 - val_fp: 10.0000 - val_loss: 0.0049 - val_precision: 0.8462 - val_recall: 0.7432 - val_tn: 39789.0000 - val_tp: 55.0000\n",
      "Epoch 100/300\n",
      "\u001b[1m78/78\u001b[0m \u001b[32m━━━━━━━━━━━━━━━━━━━━\u001b[0m\u001b[37m\u001b[0m \u001b[1m0s\u001b[0m 4ms/step - fn: 37.0506 - fp: 11.2025 - loss: 0.0031 - precision: 0.9139 - recall: 0.7745 - tn: 81724.1797 - tp: 115.2405 - val_fn: 19.0000 - val_fp: 8.0000 - val_loss: 0.0044 - val_precision: 0.8730 - val_recall: 0.7432 - val_tn: 39791.0000 - val_tp: 55.0000\n",
      "Epoch 101/300\n",
      "\u001b[1m78/78\u001b[0m \u001b[32m━━━━━━━━━━━━━━━━━━━━\u001b[0m\u001b[37m\u001b[0m \u001b[1m0s\u001b[0m 5ms/step - fn: 29.6835 - fp: 5.9114 - loss: 0.0023 - precision: 0.9418 - recall: 0.7781 - tn: 81741.8125 - tp: 110.2658 - val_fn: 19.0000 - val_fp: 9.0000 - val_loss: 0.0045 - val_precision: 0.8594 - val_recall: 0.7432 - val_tn: 39790.0000 - val_tp: 55.0000\n",
      "Epoch 102/300\n",
      "\u001b[1m78/78\u001b[0m \u001b[32m━━━━━━━━━━━━━━━━━━━━\u001b[0m\u001b[37m\u001b[0m \u001b[1m0s\u001b[0m 5ms/step - fn: 35.2785 - fp: 10.9747 - loss: 0.0030 - precision: 0.9025 - recall: 0.7672 - tn: 81729.9219 - tp: 111.4937 - val_fn: 19.0000 - val_fp: 9.0000 - val_loss: 0.0045 - val_precision: 0.8594 - val_recall: 0.7432 - val_tn: 39790.0000 - val_tp: 55.0000\n",
      "Epoch 103/300\n",
      "\u001b[1m78/78\u001b[0m \u001b[32m━━━━━━━━━━━━━━━━━━━━\u001b[0m\u001b[37m\u001b[0m \u001b[1m0s\u001b[0m 5ms/step - fn: 34.0760 - fp: 12.5949 - loss: 0.0028 - precision: 0.8890 - recall: 0.7582 - tn: 81733.4922 - tp: 107.5063 - val_fn: 19.0000 - val_fp: 8.0000 - val_loss: 0.0043 - val_precision: 0.8730 - val_recall: 0.7432 - val_tn: 39791.0000 - val_tp: 55.0000\n",
      "Epoch 104/300\n",
      "\u001b[1m78/78\u001b[0m \u001b[32m━━━━━━━━━━━━━━━━━━━━\u001b[0m\u001b[37m\u001b[0m \u001b[1m0s\u001b[0m 5ms/step - fn: 41.0127 - fp: 10.5190 - loss: 0.0031 - precision: 0.9027 - recall: 0.7057 - tn: 81734.5703 - tp: 101.5696 - val_fn: 19.0000 - val_fp: 8.0000 - val_loss: 0.0042 - val_precision: 0.8730 - val_recall: 0.7432 - val_tn: 39791.0000 - val_tp: 55.0000\n",
      "Epoch 105/300\n",
      "\u001b[1m78/78\u001b[0m \u001b[32m━━━━━━━━━━━━━━━━━━━━\u001b[0m\u001b[37m\u001b[0m \u001b[1m0s\u001b[0m 5ms/step - fn: 35.6456 - fp: 13.0127 - loss: 0.0031 - precision: 0.9066 - recall: 0.7749 - tn: 81726.2656 - tp: 112.7468 - val_fn: 19.0000 - val_fp: 8.0000 - val_loss: 0.0043 - val_precision: 0.8730 - val_recall: 0.7432 - val_tn: 39791.0000 - val_tp: 55.0000\n",
      "Epoch 106/300\n",
      "\u001b[1m78/78\u001b[0m \u001b[32m━━━━━━━━━━━━━━━━━━━━\u001b[0m\u001b[37m\u001b[0m \u001b[1m0s\u001b[0m 5ms/step - fn: 33.9114 - fp: 9.2911 - loss: 0.0032 - precision: 0.9369 - recall: 0.7503 - tn: 81727.7500 - tp: 116.7215 - val_fn: 19.0000 - val_fp: 8.0000 - val_loss: 0.0043 - val_precision: 0.8730 - val_recall: 0.7432 - val_tn: 39791.0000 - val_tp: 55.0000\n",
      "Epoch 107/300\n",
      "\u001b[1m78/78\u001b[0m \u001b[32m━━━━━━━━━━━━━━━━━━━━\u001b[0m\u001b[37m\u001b[0m \u001b[1m0s\u001b[0m 5ms/step - fn: 31.5949 - fp: 10.8608 - loss: 0.0028 - precision: 0.9145 - recall: 0.8025 - tn: 81731.3672 - tp: 113.8481 - val_fn: 20.0000 - val_fp: 6.0000 - val_loss: 0.0040 - val_precision: 0.9000 - val_recall: 0.7297 - val_tn: 39793.0000 - val_tp: 54.0000\n",
      "Epoch 108/300\n",
      "\u001b[1m78/78\u001b[0m \u001b[32m━━━━━━━━━━━━━━━━━━━━\u001b[0m\u001b[37m\u001b[0m \u001b[1m0s\u001b[0m 5ms/step - fn: 34.3544 - fp: 8.1899 - loss: 0.0028 - precision: 0.9101 - recall: 0.7497 - tn: 81739.6094 - tp: 105.5190 - val_fn: 19.0000 - val_fp: 10.0000 - val_loss: 0.0045 - val_precision: 0.8462 - val_recall: 0.7432 - val_tn: 39789.0000 - val_tp: 55.0000\n",
      "Epoch 109/300\n",
      "\u001b[1m78/78\u001b[0m \u001b[32m━━━━━━━━━━━━━━━━━━━━\u001b[0m\u001b[37m\u001b[0m \u001b[1m0s\u001b[0m 5ms/step - fn: 31.4430 - fp: 9.7848 - loss: 0.0028 - precision: 0.9107 - recall: 0.7699 - tn: 81737.1641 - tp: 109.2785 - val_fn: 19.0000 - val_fp: 10.0000 - val_loss: 0.0044 - val_precision: 0.8462 - val_recall: 0.7432 - val_tn: 39789.0000 - val_tp: 55.0000\n",
      "Epoch 110/300\n",
      "\u001b[1m78/78\u001b[0m \u001b[32m━━━━━━━━━━━━━━━━━━━━\u001b[0m\u001b[37m\u001b[0m \u001b[1m0s\u001b[0m 5ms/step - fn: 28.3291 - fp: 9.8608 - loss: 0.0027 - precision: 0.9043 - recall: 0.8064 - tn: 81741.9219 - tp: 107.5570 - val_fn: 19.0000 - val_fp: 9.0000 - val_loss: 0.0044 - val_precision: 0.8594 - val_recall: 0.7432 - val_tn: 39790.0000 - val_tp: 55.0000\n",
      "Epoch 111/300\n",
      "\u001b[1m78/78\u001b[0m \u001b[32m━━━━━━━━━━━━━━━━━━━━\u001b[0m\u001b[37m\u001b[0m \u001b[1m0s\u001b[0m 5ms/step - fn: 31.8987 - fp: 10.1013 - loss: 0.0026 - precision: 0.9102 - recall: 0.7901 - tn: 81735.5859 - tp: 110.0886 - val_fn: 19.0000 - val_fp: 9.0000 - val_loss: 0.0045 - val_precision: 0.8594 - val_recall: 0.7432 - val_tn: 39790.0000 - val_tp: 55.0000\n",
      "Epoch 112/300\n",
      "\u001b[1m78/78\u001b[0m \u001b[32m━━━━━━━━━━━━━━━━━━━━\u001b[0m\u001b[37m\u001b[0m \u001b[1m0s\u001b[0m 5ms/step - fn: 34.2278 - fp: 14.1392 - loss: 0.0028 - precision: 0.8923 - recall: 0.7789 - tn: 81728.9609 - tp: 110.3418 - val_fn: 19.0000 - val_fp: 8.0000 - val_loss: 0.0044 - val_precision: 0.8730 - val_recall: 0.7432 - val_tn: 39791.0000 - val_tp: 55.0000\n",
      "Epoch 113/300\n",
      "\u001b[1m78/78\u001b[0m \u001b[32m━━━━━━━━━━━━━━━━━━━━\u001b[0m\u001b[37m\u001b[0m \u001b[1m0s\u001b[0m 5ms/step - fn: 35.0253 - fp: 7.5316 - loss: 0.0030 - precision: 0.9513 - recall: 0.7549 - tn: 81726.0391 - tp: 119.0760 - val_fn: 19.0000 - val_fp: 9.0000 - val_loss: 0.0046 - val_precision: 0.8594 - val_recall: 0.7432 - val_tn: 39790.0000 - val_tp: 55.0000\n",
      "Epoch 114/300\n",
      "\u001b[1m78/78\u001b[0m \u001b[32m━━━━━━━━━━━━━━━━━━━━\u001b[0m\u001b[37m\u001b[0m \u001b[1m0s\u001b[0m 5ms/step - fn: 34.2658 - fp: 9.7975 - loss: 0.0031 - precision: 0.9287 - recall: 0.7710 - tn: 81728.3828 - tp: 115.2279 - val_fn: 19.0000 - val_fp: 10.0000 - val_loss: 0.0048 - val_precision: 0.8462 - val_recall: 0.7432 - val_tn: 39789.0000 - val_tp: 55.0000\n",
      "Epoch 115/300\n",
      "\u001b[1m78/78\u001b[0m \u001b[32m━━━━━━━━━━━━━━━━━━━━\u001b[0m\u001b[37m\u001b[0m \u001b[1m0s\u001b[0m 5ms/step - fn: 32.2152 - fp: 13.0000 - loss: 0.0027 - precision: 0.8802 - recall: 0.7596 - tn: 81736.8984 - tp: 105.5570 - val_fn: 19.0000 - val_fp: 7.0000 - val_loss: 0.0042 - val_precision: 0.8871 - val_recall: 0.7432 - val_tn: 39792.0000 - val_tp: 55.0000\n",
      "Epoch 116/300\n",
      "\u001b[1m78/78\u001b[0m \u001b[32m━━━━━━━━━━━━━━━━━━━━\u001b[0m\u001b[37m\u001b[0m \u001b[1m0s\u001b[0m 5ms/step - fn: 32.6076 - fp: 7.1519 - loss: 0.0025 - precision: 0.9594 - recall: 0.7879 - tn: 81726.6094 - tp: 121.3038 - val_fn: 19.0000 - val_fp: 9.0000 - val_loss: 0.0045 - val_precision: 0.8594 - val_recall: 0.7432 - val_tn: 39790.0000 - val_tp: 55.0000\n",
      "Epoch 117/300\n",
      "\u001b[1m78/78\u001b[0m \u001b[32m━━━━━━━━━━━━━━━━━━━━\u001b[0m\u001b[37m\u001b[0m \u001b[1m0s\u001b[0m 5ms/step - fn: 26.6329 - fp: 7.0380 - loss: 0.0020 - precision: 0.9454 - recall: 0.8483 - tn: 81735.6953 - tp: 118.3038 - val_fn: 19.0000 - val_fp: 9.0000 - val_loss: 0.0043 - val_precision: 0.8594 - val_recall: 0.7432 - val_tn: 39790.0000 - val_tp: 55.0000\n",
      "Epoch 118/300\n",
      "\u001b[1m78/78\u001b[0m \u001b[32m━━━━━━━━━━━━━━━━━━━━\u001b[0m\u001b[37m\u001b[0m \u001b[1m0s\u001b[0m 5ms/step - fn: 26.5823 - fp: 7.7089 - loss: 0.0024 - precision: 0.9417 - recall: 0.8201 - tn: 81729.8828 - tp: 123.4937 - val_fn: 19.0000 - val_fp: 7.0000 - val_loss: 0.0041 - val_precision: 0.8871 - val_recall: 0.7432 - val_tn: 39792.0000 - val_tp: 55.0000\n",
      "Epoch 119/300\n",
      "\u001b[1m78/78\u001b[0m \u001b[32m━━━━━━━━━━━━━━━━━━━━\u001b[0m\u001b[37m\u001b[0m \u001b[1m0s\u001b[0m 5ms/step - fn: 33.3418 - fp: 10.8101 - loss: 0.0025 - precision: 0.8967 - recall: 0.7410 - tn: 81736.0859 - tp: 107.4304 - val_fn: 19.0000 - val_fp: 8.0000 - val_loss: 0.0042 - val_precision: 0.8730 - val_recall: 0.7432 - val_tn: 39791.0000 - val_tp: 55.0000\n",
      "Epoch 120/300\n",
      "\u001b[1m78/78\u001b[0m \u001b[32m━━━━━━━━━━━━━━━━━━━━\u001b[0m\u001b[37m\u001b[0m \u001b[1m0s\u001b[0m 5ms/step - fn: 38.7215 - fp: 9.5063 - loss: 0.0033 - precision: 0.9298 - recall: 0.7257 - tn: 81724.7188 - tp: 114.7215 - val_fn: 19.0000 - val_fp: 7.0000 - val_loss: 0.0042 - val_precision: 0.8871 - val_recall: 0.7432 - val_tn: 39792.0000 - val_tp: 55.0000\n",
      "Epoch 121/300\n",
      "\u001b[1m78/78\u001b[0m \u001b[32m━━━━━━━━━━━━━━━━━━━━\u001b[0m\u001b[37m\u001b[0m \u001b[1m0s\u001b[0m 5ms/step - fn: 29.5696 - fp: 7.1646 - loss: 0.0021 - precision: 0.9506 - recall: 0.7968 - tn: 81732.9609 - tp: 117.9747 - val_fn: 19.0000 - val_fp: 7.0000 - val_loss: 0.0043 - val_precision: 0.8871 - val_recall: 0.7432 - val_tn: 39792.0000 - val_tp: 55.0000\n",
      "Epoch 122/300\n",
      "\u001b[1m78/78\u001b[0m \u001b[32m━━━━━━━━━━━━━━━━━━━━\u001b[0m\u001b[37m\u001b[0m \u001b[1m0s\u001b[0m 5ms/step - fn: 32.9240 - fp: 13.0633 - loss: 0.0028 - precision: 0.8812 - recall: 0.7577 - tn: 81726.9375 - tp: 114.7468 - val_fn: 19.0000 - val_fp: 8.0000 - val_loss: 0.0043 - val_precision: 0.8730 - val_recall: 0.7432 - val_tn: 39791.0000 - val_tp: 55.0000\n",
      "Epoch 123/300\n",
      "\u001b[1m78/78\u001b[0m \u001b[32m━━━━━━━━━━━━━━━━━━━━\u001b[0m\u001b[37m\u001b[0m \u001b[1m0s\u001b[0m 5ms/step - fn: 29.7342 - fp: 8.0253 - loss: 0.0027 - precision: 0.9038 - recall: 0.7878 - tn: 81737.0156 - tp: 112.8987 - val_fn: 19.0000 - val_fp: 8.0000 - val_loss: 0.0043 - val_precision: 0.8730 - val_recall: 0.7432 - val_tn: 39791.0000 - val_tp: 55.0000\n",
      "Epoch 124/300\n",
      "\u001b[1m78/78\u001b[0m \u001b[32m━━━━━━━━━━━━━━━━━━━━\u001b[0m\u001b[37m\u001b[0m \u001b[1m0s\u001b[0m 5ms/step - fn: 32.3418 - fp: 11.9114 - loss: 0.0027 - precision: 0.9142 - recall: 0.7841 - tn: 81722.8594 - tp: 120.5570 - val_fn: 19.0000 - val_fp: 7.0000 - val_loss: 0.0042 - val_precision: 0.8871 - val_recall: 0.7432 - val_tn: 39792.0000 - val_tp: 55.0000\n",
      "Epoch 125/300\n",
      "\u001b[1m78/78\u001b[0m \u001b[32m━━━━━━━━━━━━━━━━━━━━\u001b[0m\u001b[37m\u001b[0m \u001b[1m0s\u001b[0m 5ms/step - fn: 28.1392 - fp: 9.0127 - loss: 0.0024 - precision: 0.9188 - recall: 0.8102 - tn: 81739.6797 - tp: 110.8354 - val_fn: 18.0000 - val_fp: 7.0000 - val_loss: 0.0043 - val_precision: 0.8889 - val_recall: 0.7568 - val_tn: 39792.0000 - val_tp: 56.0000\n",
      "Epoch 126/300\n",
      "\u001b[1m78/78\u001b[0m \u001b[32m━━━━━━━━━━━━━━━━━━━━\u001b[0m\u001b[37m\u001b[0m \u001b[1m0s\u001b[0m 5ms/step - fn: 31.1013 - fp: 11.3924 - loss: 0.0025 - precision: 0.9149 - recall: 0.7850 - tn: 81729.2188 - tp: 115.9620 - val_fn: 19.0000 - val_fp: 7.0000 - val_loss: 0.0042 - val_precision: 0.8871 - val_recall: 0.7432 - val_tn: 39792.0000 - val_tp: 55.0000\n",
      "Epoch 127/300\n",
      "\u001b[1m78/78\u001b[0m \u001b[32m━━━━━━━━━━━━━━━━━━━━\u001b[0m\u001b[37m\u001b[0m \u001b[1m0s\u001b[0m 5ms/step - fn: 29.9114 - fp: 7.8354 - loss: 0.0024 - precision: 0.9380 - recall: 0.8090 - tn: 81728.4062 - tp: 121.5190 - val_fn: 19.0000 - val_fp: 7.0000 - val_loss: 0.0042 - val_precision: 0.8871 - val_recall: 0.7432 - val_tn: 39792.0000 - val_tp: 55.0000\n",
      "Epoch 128/300\n",
      "\u001b[1m78/78\u001b[0m \u001b[32m━━━━━━━━━━━━━━━━━━━━\u001b[0m\u001b[37m\u001b[0m \u001b[1m0s\u001b[0m 5ms/step - fn: 34.0380 - fp: 7.8481 - loss: 0.0028 - precision: 0.9302 - recall: 0.7525 - tn: 81734.5078 - tp: 111.2785 - val_fn: 19.0000 - val_fp: 6.0000 - val_loss: 0.0042 - val_precision: 0.9016 - val_recall: 0.7432 - val_tn: 39793.0000 - val_tp: 55.0000\n",
      "Epoch 129/300\n",
      "\u001b[1m78/78\u001b[0m \u001b[32m━━━━━━━━━━━━━━━━━━━━\u001b[0m\u001b[37m\u001b[0m \u001b[1m0s\u001b[0m 5ms/step - fn: 36.1772 - fp: 9.1899 - loss: 0.0029 - precision: 0.9286 - recall: 0.7487 - tn: 81726.5156 - tp: 115.7848 - val_fn: 20.0000 - val_fp: 6.0000 - val_loss: 0.0040 - val_precision: 0.9000 - val_recall: 0.7297 - val_tn: 39793.0000 - val_tp: 54.0000\n",
      "Epoch 130/300\n",
      "\u001b[1m78/78\u001b[0m \u001b[32m━━━━━━━━━━━━━━━━━━━━\u001b[0m\u001b[37m\u001b[0m \u001b[1m0s\u001b[0m 5ms/step - fn: 37.6582 - fp: 8.3165 - loss: 0.0028 - precision: 0.9204 - recall: 0.7122 - tn: 81733.1484 - tp: 108.5443 - val_fn: 19.0000 - val_fp: 7.0000 - val_loss: 0.0043 - val_precision: 0.8871 - val_recall: 0.7432 - val_tn: 39792.0000 - val_tp: 55.0000\n",
      "Epoch 131/300\n",
      "\u001b[1m78/78\u001b[0m \u001b[32m━━━━━━━━━━━━━━━━━━━━\u001b[0m\u001b[37m\u001b[0m \u001b[1m0s\u001b[0m 5ms/step - fn: 31.3671 - fp: 4.1899 - loss: 0.0023 - precision: 0.9766 - recall: 0.8034 - tn: 81729.1406 - tp: 122.9747 - val_fn: 19.0000 - val_fp: 7.0000 - val_loss: 0.0041 - val_precision: 0.8871 - val_recall: 0.7432 - val_tn: 39792.0000 - val_tp: 55.0000\n",
      "Epoch 132/300\n",
      "\u001b[1m78/78\u001b[0m \u001b[32m━━━━━━━━━━━━━━━━━━━━\u001b[0m\u001b[37m\u001b[0m \u001b[1m1s\u001b[0m 5ms/step - fn: 28.7468 - fp: 7.6582 - loss: 0.0022 - precision: 0.9373 - recall: 0.7988 - tn: 81740.1172 - tp: 111.1519 - val_fn: 19.0000 - val_fp: 7.0000 - val_loss: 0.0041 - val_precision: 0.8871 - val_recall: 0.7432 - val_tn: 39792.0000 - val_tp: 55.0000\n",
      "Epoch 133/300\n",
      "\u001b[1m78/78\u001b[0m \u001b[32m━━━━━━━━━━━━━━━━━━━━\u001b[0m\u001b[37m\u001b[0m \u001b[1m0s\u001b[0m 4ms/step - fn: 29.2785 - fp: 5.7468 - loss: 0.0022 - precision: 0.9660 - recall: 0.7872 - tn: 81733.5312 - tp: 119.1139 - val_fn: 19.0000 - val_fp: 6.0000 - val_loss: 0.0041 - val_precision: 0.9016 - val_recall: 0.7432 - val_tn: 39793.0000 - val_tp: 55.0000\n",
      "Epoch 134/300\n",
      "\u001b[1m78/78\u001b[0m \u001b[32m━━━━━━━━━━━━━━━━━━━━\u001b[0m\u001b[37m\u001b[0m \u001b[1m0s\u001b[0m 5ms/step - fn: 29.2405 - fp: 8.1899 - loss: 0.0026 - precision: 0.9287 - recall: 0.7484 - tn: 81738.8203 - tp: 111.4177 - val_fn: 18.0000 - val_fp: 8.0000 - val_loss: 0.0044 - val_precision: 0.8750 - val_recall: 0.7568 - val_tn: 39791.0000 - val_tp: 56.0000\n",
      "Epoch 135/300\n",
      "\u001b[1m78/78\u001b[0m \u001b[32m━━━━━━━━━━━━━━━━━━━━\u001b[0m\u001b[37m\u001b[0m \u001b[1m0s\u001b[0m 4ms/step - fn: 31.4684 - fp: 7.4937 - loss: 0.0026 - precision: 0.9427 - recall: 0.7865 - tn: 81731.3906 - tp: 117.3165 - val_fn: 19.0000 - val_fp: 7.0000 - val_loss: 0.0042 - val_precision: 0.8871 - val_recall: 0.7432 - val_tn: 39792.0000 - val_tp: 55.0000\n",
      "Epoch 136/300\n",
      "\u001b[1m78/78\u001b[0m \u001b[32m━━━━━━━━━━━━━━━━━━━━\u001b[0m\u001b[37m\u001b[0m \u001b[1m0s\u001b[0m 4ms/step - fn: 29.9114 - fp: 10.8608 - loss: 0.0019 - precision: 0.8912 - recall: 0.7885 - tn: 81737.2812 - tp: 109.6203 - val_fn: 18.0000 - val_fp: 8.0000 - val_loss: 0.0044 - val_precision: 0.8750 - val_recall: 0.7568 - val_tn: 39791.0000 - val_tp: 56.0000\n",
      "Epoch 137/300\n",
      "\u001b[1m78/78\u001b[0m \u001b[32m━━━━━━━━━━━━━━━━━━━━\u001b[0m\u001b[37m\u001b[0m \u001b[1m0s\u001b[0m 4ms/step - fn: 30.6582 - fp: 7.2278 - loss: 0.0025 - precision: 0.9189 - recall: 0.7947 - tn: 81738.9141 - tp: 110.8734 - val_fn: 18.0000 - val_fp: 7.0000 - val_loss: 0.0044 - val_precision: 0.8889 - val_recall: 0.7568 - val_tn: 39792.0000 - val_tp: 56.0000\n",
      "Epoch 138/300\n",
      "\u001b[1m78/78\u001b[0m \u001b[32m━━━━━━━━━━━━━━━━━━━━\u001b[0m\u001b[37m\u001b[0m \u001b[1m0s\u001b[0m 4ms/step - fn: 29.4810 - fp: 8.9114 - loss: 0.0023 - precision: 0.9185 - recall: 0.8018 - tn: 81732.7734 - tp: 116.5063 - val_fn: 18.0000 - val_fp: 8.0000 - val_loss: 0.0044 - val_precision: 0.8750 - val_recall: 0.7568 - val_tn: 39791.0000 - val_tp: 56.0000\n",
      "Epoch 139/300\n",
      "\u001b[1m78/78\u001b[0m \u001b[32m━━━━━━━━━━━━━━━━━━━━\u001b[0m\u001b[37m\u001b[0m \u001b[1m0s\u001b[0m 5ms/step - fn: 26.5823 - fp: 10.5823 - loss: 0.0020 - precision: 0.9126 - recall: 0.8235 - tn: 81731.7188 - tp: 118.7848 - val_fn: 19.0000 - val_fp: 9.0000 - val_loss: 0.0044 - val_precision: 0.8594 - val_recall: 0.7432 - val_tn: 39790.0000 - val_tp: 55.0000\n",
      "Epoch 140/300\n",
      "\u001b[1m78/78\u001b[0m \u001b[32m━━━━━━━━━━━━━━━━━━━━\u001b[0m\u001b[37m\u001b[0m \u001b[1m0s\u001b[0m 4ms/step - fn: 28.0000 - fp: 7.4051 - loss: 0.0022 - precision: 0.9513 - recall: 0.7971 - tn: 81737.0156 - tp: 115.2532 - val_fn: 19.0000 - val_fp: 8.0000 - val_loss: 0.0043 - val_precision: 0.8730 - val_recall: 0.7432 - val_tn: 39791.0000 - val_tp: 55.0000\n",
      "Epoch 141/300\n",
      "\u001b[1m78/78\u001b[0m \u001b[32m━━━━━━━━━━━━━━━━━━━━\u001b[0m\u001b[37m\u001b[0m \u001b[1m0s\u001b[0m 5ms/step - fn: 28.5823 - fp: 9.0506 - loss: 0.0024 - precision: 0.9301 - recall: 0.7846 - tn: 81733.8984 - tp: 116.1392 - val_fn: 19.0000 - val_fp: 9.0000 - val_loss: 0.0044 - val_precision: 0.8594 - val_recall: 0.7432 - val_tn: 39790.0000 - val_tp: 55.0000\n",
      "Epoch 142/300\n",
      "\u001b[1m78/78\u001b[0m \u001b[32m━━━━━━━━━━━━━━━━━━━━\u001b[0m\u001b[37m\u001b[0m \u001b[1m0s\u001b[0m 5ms/step - fn: 25.3924 - fp: 12.1139 - loss: 0.0021 - precision: 0.8925 - recall: 0.8008 - tn: 81736.5703 - tp: 113.5949 - val_fn: 19.0000 - val_fp: 7.0000 - val_loss: 0.0042 - val_precision: 0.8871 - val_recall: 0.7432 - val_tn: 39792.0000 - val_tp: 55.0000\n",
      "Epoch 143/300\n",
      "\u001b[1m78/78\u001b[0m \u001b[32m━━━━━━━━━━━━━━━━━━━━\u001b[0m\u001b[37m\u001b[0m \u001b[1m0s\u001b[0m 5ms/step - fn: 29.7342 - fp: 5.7595 - loss: 0.0019 - precision: 0.9595 - recall: 0.7892 - tn: 81742.1484 - tp: 110.0253 - val_fn: 18.0000 - val_fp: 7.0000 - val_loss: 0.0043 - val_precision: 0.8889 - val_recall: 0.7568 - val_tn: 39792.0000 - val_tp: 56.0000\n",
      "Epoch 144/300\n",
      "\u001b[1m78/78\u001b[0m \u001b[32m━━━━━━━━━━━━━━━━━━━━\u001b[0m\u001b[37m\u001b[0m \u001b[1m0s\u001b[0m 5ms/step - fn: 22.7215 - fp: 6.3671 - loss: 0.0017 - precision: 0.9477 - recall: 0.8483 - tn: 81739.2031 - tp: 119.3797 - val_fn: 19.0000 - val_fp: 7.0000 - val_loss: 0.0043 - val_precision: 0.8871 - val_recall: 0.7432 - val_tn: 39792.0000 - val_tp: 55.0000\n",
      "Epoch 145/300\n",
      "\u001b[1m78/78\u001b[0m \u001b[32m━━━━━━━━━━━━━━━━━━━━\u001b[0m\u001b[37m\u001b[0m \u001b[1m0s\u001b[0m 4ms/step - fn: 28.0127 - fp: 8.2911 - loss: 0.0019 - precision: 0.9284 - recall: 0.7988 - tn: 81733.3203 - tp: 118.0506 - val_fn: 18.0000 - val_fp: 8.0000 - val_loss: 0.0044 - val_precision: 0.8750 - val_recall: 0.7568 - val_tn: 39791.0000 - val_tp: 56.0000\n",
      "Epoch 146/300\n",
      "\u001b[1m78/78\u001b[0m \u001b[32m━━━━━━━━━━━━━━━━━━━━\u001b[0m\u001b[37m\u001b[0m \u001b[1m0s\u001b[0m 4ms/step - fn: 24.9241 - fp: 6.5696 - loss: 0.0021 - precision: 0.9491 - recall: 0.8421 - tn: 81737.0781 - tp: 119.1013 - val_fn: 18.0000 - val_fp: 7.0000 - val_loss: 0.0043 - val_precision: 0.8889 - val_recall: 0.7568 - val_tn: 39792.0000 - val_tp: 56.0000\n",
      "Epoch 147/300\n",
      "\u001b[1m78/78\u001b[0m \u001b[32m━━━━━━━━━━━━━━━━━━━━\u001b[0m\u001b[37m\u001b[0m \u001b[1m0s\u001b[0m 5ms/step - fn: 29.3671 - fp: 8.3544 - loss: 0.0025 - precision: 0.9198 - recall: 0.7898 - tn: 81734.7188 - tp: 115.2279 - val_fn: 18.0000 - val_fp: 7.0000 - val_loss: 0.0043 - val_precision: 0.8889 - val_recall: 0.7568 - val_tn: 39792.0000 - val_tp: 56.0000\n",
      "Epoch 148/300\n",
      "\u001b[1m78/78\u001b[0m \u001b[32m━━━━━━━━━━━━━━━━━━━━\u001b[0m\u001b[37m\u001b[0m \u001b[1m0s\u001b[0m 4ms/step - fn: 26.5316 - fp: 10.1013 - loss: 0.0018 - precision: 0.9214 - recall: 0.8253 - tn: 81731.5078 - tp: 119.5316 - val_fn: 19.0000 - val_fp: 6.0000 - val_loss: 0.0043 - val_precision: 0.9016 - val_recall: 0.7432 - val_tn: 39793.0000 - val_tp: 55.0000\n",
      "Epoch 149/300\n",
      "\u001b[1m78/78\u001b[0m \u001b[32m━━━━━━━━━━━━━━━━━━━━\u001b[0m\u001b[37m\u001b[0m \u001b[1m0s\u001b[0m 5ms/step - fn: 27.5063 - fp: 4.9873 - loss: 0.0019 - precision: 0.9532 - recall: 0.7898 - tn: 81743.2422 - tp: 111.9367 - val_fn: 18.0000 - val_fp: 7.0000 - val_loss: 0.0043 - val_precision: 0.8889 - val_recall: 0.7568 - val_tn: 39792.0000 - val_tp: 56.0000\n",
      "Epoch 150/300\n",
      "\u001b[1m78/78\u001b[0m \u001b[32m━━━━━━━━━━━━━━━━━━━━\u001b[0m\u001b[37m\u001b[0m \u001b[1m0s\u001b[0m 4ms/step - fn: 20.1013 - fp: 6.1646 - loss: 0.0015 - precision: 0.9562 - recall: 0.8558 - tn: 81742.9141 - tp: 118.4937 - val_fn: 18.0000 - val_fp: 8.0000 - val_loss: 0.0044 - val_precision: 0.8750 - val_recall: 0.7568 - val_tn: 39791.0000 - val_tp: 56.0000\n",
      "Epoch 151/300\n",
      "\u001b[1m78/78\u001b[0m \u001b[32m━━━━━━━━━━━━━━━━━━━━\u001b[0m\u001b[37m\u001b[0m \u001b[1m0s\u001b[0m 4ms/step - fn: 26.1266 - fp: 6.9367 - loss: 0.0021 - precision: 0.9522 - recall: 0.8168 - tn: 81730.3516 - tp: 124.2532 - val_fn: 19.0000 - val_fp: 6.0000 - val_loss: 0.0042 - val_precision: 0.9016 - val_recall: 0.7432 - val_tn: 39793.0000 - val_tp: 55.0000\n",
      "Epoch 152/300\n",
      "\u001b[1m78/78\u001b[0m \u001b[32m━━━━━━━━━━━━━━━━━━━━\u001b[0m\u001b[37m\u001b[0m \u001b[1m0s\u001b[0m 5ms/step - fn: 28.7722 - fp: 8.6203 - loss: 0.0018 - precision: 0.9213 - recall: 0.7946 - tn: 81741.6094 - tp: 108.6709 - val_fn: 20.0000 - val_fp: 6.0000 - val_loss: 0.0042 - val_precision: 0.9000 - val_recall: 0.7297 - val_tn: 39793.0000 - val_tp: 54.0000\n",
      "Epoch 153/300\n",
      "\u001b[1m78/78\u001b[0m \u001b[32m━━━━━━━━━━━━━━━━━━━━\u001b[0m\u001b[37m\u001b[0m \u001b[1m0s\u001b[0m 5ms/step - fn: 26.8987 - fp: 7.0380 - loss: 0.0021 - precision: 0.9412 - recall: 0.8114 - tn: 81734.3672 - tp: 119.3671 - val_fn: 18.0000 - val_fp: 7.0000 - val_loss: 0.0044 - val_precision: 0.8889 - val_recall: 0.7568 - val_tn: 39792.0000 - val_tp: 56.0000\n",
      "Epoch 154/300\n",
      "\u001b[1m78/78\u001b[0m \u001b[32m━━━━━━━━━━━━━━━━━━━━\u001b[0m\u001b[37m\u001b[0m \u001b[1m0s\u001b[0m 5ms/step - fn: 23.9241 - fp: 8.5696 - loss: 0.0017 - precision: 0.9423 - recall: 0.8309 - tn: 81738.4062 - tp: 116.7721 - val_fn: 19.0000 - val_fp: 6.0000 - val_loss: 0.0042 - val_precision: 0.9016 - val_recall: 0.7432 - val_tn: 39793.0000 - val_tp: 55.0000\n",
      "Epoch 155/300\n",
      "\u001b[1m78/78\u001b[0m \u001b[32m━━━━━━━━━━━━━━━━━━━━\u001b[0m\u001b[37m\u001b[0m \u001b[1m0s\u001b[0m 5ms/step - fn: 25.5316 - fp: 6.8228 - loss: 0.0020 - precision: 0.9491 - recall: 0.8125 - tn: 81740.5078 - tp: 114.8101 - val_fn: 18.0000 - val_fp: 9.0000 - val_loss: 0.0046 - val_precision: 0.8615 - val_recall: 0.7568 - val_tn: 39790.0000 - val_tp: 56.0000\n",
      "Epoch 156/300\n",
      "\u001b[1m78/78\u001b[0m \u001b[32m━━━━━━━━━━━━━━━━━━━━\u001b[0m\u001b[37m\u001b[0m \u001b[1m0s\u001b[0m 4ms/step - fn: 25.3291 - fp: 7.2911 - loss: 0.0019 - precision: 0.9270 - recall: 0.8300 - tn: 81734.4141 - tp: 120.6329 - val_fn: 20.0000 - val_fp: 7.0000 - val_loss: 0.0042 - val_precision: 0.8852 - val_recall: 0.7297 - val_tn: 39792.0000 - val_tp: 54.0000\n",
      "Epoch 157/300\n",
      "\u001b[1m78/78\u001b[0m \u001b[32m━━━━━━━━━━━━━━━━━━━━\u001b[0m\u001b[37m\u001b[0m \u001b[1m0s\u001b[0m 5ms/step - fn: 28.7722 - fp: 7.0253 - loss: 0.0021 - precision: 0.9450 - recall: 0.8045 - tn: 81731.6797 - tp: 120.1899 - val_fn: 18.0000 - val_fp: 8.0000 - val_loss: 0.0045 - val_precision: 0.8750 - val_recall: 0.7568 - val_tn: 39791.0000 - val_tp: 56.0000\n",
      "Epoch 158/300\n",
      "\u001b[1m78/78\u001b[0m \u001b[32m━━━━━━━━━━━━━━━━━━━━\u001b[0m\u001b[37m\u001b[0m \u001b[1m0s\u001b[0m 5ms/step - fn: 28.6456 - fp: 7.0886 - loss: 0.0020 - precision: 0.9317 - recall: 0.8051 - tn: 81730.5703 - tp: 121.3671 - val_fn: 18.0000 - val_fp: 7.0000 - val_loss: 0.0044 - val_precision: 0.8889 - val_recall: 0.7568 - val_tn: 39792.0000 - val_tp: 56.0000\n",
      "Epoch 159/300\n",
      "\u001b[1m78/78\u001b[0m \u001b[32m━━━━━━━━━━━━━━━━━━━━\u001b[0m\u001b[37m\u001b[0m \u001b[1m0s\u001b[0m 5ms/step - fn: 29.6582 - fp: 8.0000 - loss: 0.0019 - precision: 0.9457 - recall: 0.7983 - tn: 81733.0859 - tp: 116.9240 - val_fn: 18.0000 - val_fp: 7.0000 - val_loss: 0.0046 - val_precision: 0.8889 - val_recall: 0.7568 - val_tn: 39792.0000 - val_tp: 56.0000\n",
      "Epoch 160/300\n",
      "\u001b[1m78/78\u001b[0m \u001b[32m━━━━━━━━━━━━━━━━━━━━\u001b[0m\u001b[37m\u001b[0m \u001b[1m0s\u001b[0m 5ms/step - fn: 22.7468 - fp: 6.4684 - loss: 0.0014 - precision: 0.9437 - recall: 0.8528 - tn: 81736.6953 - tp: 121.7595 - val_fn: 18.0000 - val_fp: 7.0000 - val_loss: 0.0045 - val_precision: 0.8889 - val_recall: 0.7568 - val_tn: 39792.0000 - val_tp: 56.0000\n",
      "Epoch 161/300\n",
      "\u001b[1m78/78\u001b[0m \u001b[32m━━━━━━━━━━━━━━━━━━━━\u001b[0m\u001b[37m\u001b[0m \u001b[1m0s\u001b[0m 5ms/step - fn: 20.7975 - fp: 5.5443 - loss: 0.0014 - precision: 0.9559 - recall: 0.8566 - tn: 81744.7812 - tp: 116.5443 - val_fn: 18.0000 - val_fp: 8.0000 - val_loss: 0.0045 - val_precision: 0.8750 - val_recall: 0.7568 - val_tn: 39791.0000 - val_tp: 56.0000\n",
      "Epoch 162/300\n",
      "\u001b[1m78/78\u001b[0m \u001b[32m━━━━━━━━━━━━━━━━━━━━\u001b[0m\u001b[37m\u001b[0m \u001b[1m0s\u001b[0m 5ms/step - fn: 21.7342 - fp: 6.1772 - loss: 0.0013 - precision: 0.9663 - recall: 0.8560 - tn: 81739.3047 - tp: 120.4557 - val_fn: 19.0000 - val_fp: 6.0000 - val_loss: 0.0044 - val_precision: 0.9016 - val_recall: 0.7432 - val_tn: 39793.0000 - val_tp: 55.0000\n",
      "Epoch 163/300\n",
      "\u001b[1m78/78\u001b[0m \u001b[32m━━━━━━━━━━━━━━━━━━━━\u001b[0m\u001b[37m\u001b[0m \u001b[1m0s\u001b[0m 5ms/step - fn: 27.1266 - fp: 7.1392 - loss: 0.0016 - precision: 0.9559 - recall: 0.8319 - tn: 81729.5312 - tp: 123.8734 - val_fn: 18.0000 - val_fp: 9.0000 - val_loss: 0.0047 - val_precision: 0.8615 - val_recall: 0.7568 - val_tn: 39790.0000 - val_tp: 56.0000\n",
      "Epoch 164/300\n",
      "\u001b[1m78/78\u001b[0m \u001b[32m━━━━━━━━━━━━━━━━━━━━\u001b[0m\u001b[37m\u001b[0m \u001b[1m0s\u001b[0m 5ms/step - fn: 18.6456 - fp: 7.2785 - loss: 0.0014 - precision: 0.9537 - recall: 0.8958 - tn: 81739.5469 - tp: 122.2025 - val_fn: 18.0000 - val_fp: 7.0000 - val_loss: 0.0045 - val_precision: 0.8889 - val_recall: 0.7568 - val_tn: 39792.0000 - val_tp: 56.0000\n",
      "Epoch 165/300\n",
      "\u001b[1m78/78\u001b[0m \u001b[32m━━━━━━━━━━━━━━━━━━━━\u001b[0m\u001b[37m\u001b[0m \u001b[1m0s\u001b[0m 5ms/step - fn: 25.0127 - fp: 6.5949 - loss: 0.0019 - precision: 0.9537 - recall: 0.8306 - tn: 81734.5469 - tp: 121.5190 - val_fn: 18.0000 - val_fp: 7.0000 - val_loss: 0.0043 - val_precision: 0.8889 - val_recall: 0.7568 - val_tn: 39792.0000 - val_tp: 56.0000\n",
      "Epoch 166/300\n",
      "\u001b[1m78/78\u001b[0m \u001b[32m━━━━━━━━━━━━━━━━━━━━\u001b[0m\u001b[37m\u001b[0m \u001b[1m0s\u001b[0m 4ms/step - fn: 25.7848 - fp: 7.9241 - loss: 0.0016 - precision: 0.9423 - recall: 0.8236 - tn: 81736.5938 - tp: 117.3671 - val_fn: 18.0000 - val_fp: 8.0000 - val_loss: 0.0044 - val_precision: 0.8750 - val_recall: 0.7568 - val_tn: 39791.0000 - val_tp: 56.0000\n",
      "Epoch 167/300\n",
      "\u001b[1m78/78\u001b[0m \u001b[32m━━━━━━━━━━━━━━━━━━━━\u001b[0m\u001b[37m\u001b[0m \u001b[1m0s\u001b[0m 5ms/step - fn: 25.8354 - fp: 5.3544 - loss: 0.0016 - precision: 0.9613 - recall: 0.8197 - tn: 81735.6719 - tp: 120.8101 - val_fn: 18.0000 - val_fp: 6.0000 - val_loss: 0.0042 - val_precision: 0.9032 - val_recall: 0.7568 - val_tn: 39793.0000 - val_tp: 56.0000\n",
      "Epoch 168/300\n",
      "\u001b[1m78/78\u001b[0m \u001b[32m━━━━━━━━━━━━━━━━━━━━\u001b[0m\u001b[37m\u001b[0m \u001b[1m0s\u001b[0m 5ms/step - fn: 23.5949 - fp: 5.7975 - loss: 0.0017 - precision: 0.9320 - recall: 0.8257 - tn: 81744.7344 - tp: 113.5443 - val_fn: 18.0000 - val_fp: 7.0000 - val_loss: 0.0042 - val_precision: 0.8889 - val_recall: 0.7568 - val_tn: 39792.0000 - val_tp: 56.0000\n",
      "Epoch 169/300\n",
      "\u001b[1m78/78\u001b[0m \u001b[32m━━━━━━━━━━━━━━━━━━━━\u001b[0m\u001b[37m\u001b[0m \u001b[1m0s\u001b[0m 5ms/step - fn: 25.6076 - fp: 5.4051 - loss: 0.0014 - precision: 0.9601 - recall: 0.8227 - tn: 81744.4922 - tp: 112.1646 - val_fn: 18.0000 - val_fp: 8.0000 - val_loss: 0.0044 - val_precision: 0.8750 - val_recall: 0.7568 - val_tn: 39791.0000 - val_tp: 56.0000\n",
      "Epoch 170/300\n",
      "\u001b[1m78/78\u001b[0m \u001b[32m━━━━━━━━━━━━━━━━━━━━\u001b[0m\u001b[37m\u001b[0m \u001b[1m0s\u001b[0m 5ms/step - fn: 24.7342 - fp: 7.3797 - loss: 0.0016 - precision: 0.9381 - recall: 0.8361 - tn: 81742.1875 - tp: 113.3671 - val_fn: 18.0000 - val_fp: 9.0000 - val_loss: 0.0044 - val_precision: 0.8615 - val_recall: 0.7568 - val_tn: 39790.0000 - val_tp: 56.0000\n",
      "Epoch 171/300\n",
      "\u001b[1m78/78\u001b[0m \u001b[32m━━━━━━━━━━━━━━━━━━━━\u001b[0m\u001b[37m\u001b[0m \u001b[1m0s\u001b[0m 5ms/step - fn: 19.8987 - fp: 7.4937 - loss: 0.0011 - precision: 0.9116 - recall: 0.8657 - tn: 81739.8359 - tp: 120.4430 - val_fn: 18.0000 - val_fp: 8.0000 - val_loss: 0.0045 - val_precision: 0.8750 - val_recall: 0.7568 - val_tn: 39791.0000 - val_tp: 56.0000\n",
      "Epoch 172/300\n",
      "\u001b[1m78/78\u001b[0m \u001b[32m━━━━━━━━━━━━━━━━━━━━\u001b[0m\u001b[37m\u001b[0m \u001b[1m0s\u001b[0m 5ms/step - fn: 24.6835 - fp: 8.0886 - loss: 0.0019 - precision: 0.9457 - recall: 0.8109 - tn: 81734.3438 - tp: 120.5570 - val_fn: 18.0000 - val_fp: 6.0000 - val_loss: 0.0042 - val_precision: 0.9032 - val_recall: 0.7568 - val_tn: 39793.0000 - val_tp: 56.0000\n",
      "Epoch 173/300\n",
      "\u001b[1m78/78\u001b[0m \u001b[32m━━━━━━━━━━━━━━━━━━━━\u001b[0m\u001b[37m\u001b[0m \u001b[1m0s\u001b[0m 5ms/step - fn: 23.6962 - fp: 4.2405 - loss: 0.0013 - precision: 0.9520 - recall: 0.8171 - tn: 81745.6562 - tp: 114.0760 - val_fn: 18.0000 - val_fp: 6.0000 - val_loss: 0.0044 - val_precision: 0.9032 - val_recall: 0.7568 - val_tn: 39793.0000 - val_tp: 56.0000\n",
      "Epoch 174/300\n",
      "\u001b[1m78/78\u001b[0m \u001b[32m━━━━━━━━━━━━━━━━━━━━\u001b[0m\u001b[37m\u001b[0m \u001b[1m0s\u001b[0m 5ms/step - fn: 28.8608 - fp: 8.0127 - loss: 0.0022 - precision: 0.9500 - recall: 0.7962 - tn: 81728.3047 - tp: 122.4937 - val_fn: 18.0000 - val_fp: 6.0000 - val_loss: 0.0045 - val_precision: 0.9032 - val_recall: 0.7568 - val_tn: 39793.0000 - val_tp: 56.0000\n",
      "Epoch 175/300\n",
      "\u001b[1m78/78\u001b[0m \u001b[32m━━━━━━━━━━━━━━━━━━━━\u001b[0m\u001b[37m\u001b[0m \u001b[1m0s\u001b[0m 5ms/step - fn: 22.7342 - fp: 4.8861 - loss: 0.0014 - precision: 0.9530 - recall: 0.8199 - tn: 81747.2266 - tp: 112.8228 - val_fn: 18.0000 - val_fp: 8.0000 - val_loss: 0.0044 - val_precision: 0.8750 - val_recall: 0.7568 - val_tn: 39791.0000 - val_tp: 56.0000\n",
      "Epoch 176/300\n",
      "\u001b[1m78/78\u001b[0m \u001b[32m━━━━━━━━━━━━━━━━━━━━\u001b[0m\u001b[37m\u001b[0m \u001b[1m0s\u001b[0m 5ms/step - fn: 22.5190 - fp: 6.2785 - loss: 0.0015 - precision: 0.9587 - recall: 0.8441 - tn: 81739.4297 - tp: 119.4430 - val_fn: 18.0000 - val_fp: 8.0000 - val_loss: 0.0046 - val_precision: 0.8750 - val_recall: 0.7568 - val_tn: 39791.0000 - val_tp: 56.0000\n",
      "Epoch 177/300\n",
      "\u001b[1m78/78\u001b[0m \u001b[32m━━━━━━━━━━━━━━━━━━━━\u001b[0m\u001b[37m\u001b[0m \u001b[1m0s\u001b[0m 5ms/step - fn: 24.4684 - fp: 6.8354 - loss: 0.0017 - precision: 0.9594 - recall: 0.8231 - tn: 81730.0000 - tp: 126.3671 - val_fn: 18.0000 - val_fp: 6.0000 - val_loss: 0.0045 - val_precision: 0.9032 - val_recall: 0.7568 - val_tn: 39793.0000 - val_tp: 56.0000\n",
      "Epoch 178/300\n",
      "\u001b[1m78/78\u001b[0m \u001b[32m━━━━━━━━━━━━━━━━━━━━\u001b[0m\u001b[37m\u001b[0m \u001b[1m0s\u001b[0m 5ms/step - fn: 27.3544 - fp: 8.8608 - loss: 0.0018 - precision: 0.9258 - recall: 0.7920 - tn: 81732.6719 - tp: 118.7848 - val_fn: 18.0000 - val_fp: 6.0000 - val_loss: 0.0042 - val_precision: 0.9032 - val_recall: 0.7568 - val_tn: 39793.0000 - val_tp: 56.0000\n",
      "Epoch 179/300\n",
      "\u001b[1m78/78\u001b[0m \u001b[32m━━━━━━━━━━━━━━━━━━━━\u001b[0m\u001b[37m\u001b[0m \u001b[1m0s\u001b[0m 5ms/step - fn: 23.6835 - fp: 7.1899 - loss: 0.0017 - precision: 0.9538 - recall: 0.8309 - tn: 81726.4062 - tp: 130.3924 - val_fn: 18.0000 - val_fp: 7.0000 - val_loss: 0.0045 - val_precision: 0.8889 - val_recall: 0.7568 - val_tn: 39792.0000 - val_tp: 56.0000\n",
      "Epoch 180/300\n",
      "\u001b[1m78/78\u001b[0m \u001b[32m━━━━━━━━━━━━━━━━━━━━\u001b[0m\u001b[37m\u001b[0m \u001b[1m0s\u001b[0m 5ms/step - fn: 20.1519 - fp: 4.2911 - loss: 0.0012 - precision: 0.9597 - recall: 0.8598 - tn: 81737.8828 - tp: 125.3418 - val_fn: 18.0000 - val_fp: 8.0000 - val_loss: 0.0045 - val_precision: 0.8750 - val_recall: 0.7568 - val_tn: 39791.0000 - val_tp: 56.0000\n",
      "Epoch 181/300\n",
      "\u001b[1m78/78\u001b[0m \u001b[32m━━━━━━━━━━━━━━━━━━━━\u001b[0m\u001b[37m\u001b[0m \u001b[1m0s\u001b[0m 5ms/step - fn: 22.0253 - fp: 11.2658 - loss: 0.0015 - precision: 0.9133 - recall: 0.8588 - tn: 81731.8594 - tp: 122.5190 - val_fn: 18.0000 - val_fp: 7.0000 - val_loss: 0.0045 - val_precision: 0.8889 - val_recall: 0.7568 - val_tn: 39792.0000 - val_tp: 56.0000\n",
      "Epoch 182/300\n",
      "\u001b[1m78/78\u001b[0m \u001b[32m━━━━━━━━━━━━━━━━━━━━\u001b[0m\u001b[37m\u001b[0m \u001b[1m0s\u001b[0m 5ms/step - fn: 20.5696 - fp: 7.1139 - loss: 0.0012 - precision: 0.9541 - recall: 0.8757 - tn: 81734.0469 - tp: 125.9367 - val_fn: 18.0000 - val_fp: 7.0000 - val_loss: 0.0045 - val_precision: 0.8889 - val_recall: 0.7568 - val_tn: 39792.0000 - val_tp: 56.0000\n",
      "Epoch 183/300\n",
      "\u001b[1m78/78\u001b[0m \u001b[32m━━━━━━━━━━━━━━━━━━━━\u001b[0m\u001b[37m\u001b[0m \u001b[1m0s\u001b[0m 5ms/step - fn: 18.1646 - fp: 5.6329 - loss: 0.0011 - precision: 0.9567 - recall: 0.8759 - tn: 81746.6484 - tp: 117.2279 - val_fn: 18.0000 - val_fp: 6.0000 - val_loss: 0.0043 - val_precision: 0.9032 - val_recall: 0.7568 - val_tn: 39793.0000 - val_tp: 56.0000\n",
      "Epoch 184/300\n",
      "\u001b[1m78/78\u001b[0m \u001b[32m━━━━━━━━━━━━━━━━━━━━\u001b[0m\u001b[37m\u001b[0m \u001b[1m0s\u001b[0m 5ms/step - fn: 20.9620 - fp: 6.7089 - loss: 0.0016 - precision: 0.9504 - recall: 0.8467 - tn: 81736.2500 - tp: 123.7468 - val_fn: 18.0000 - val_fp: 9.0000 - val_loss: 0.0047 - val_precision: 0.8615 - val_recall: 0.7568 - val_tn: 39790.0000 - val_tp: 56.0000\n",
      "Epoch 185/300\n",
      "\u001b[1m78/78\u001b[0m \u001b[32m━━━━━━━━━━━━━━━━━━━━\u001b[0m\u001b[37m\u001b[0m \u001b[1m0s\u001b[0m 5ms/step - fn: 22.6456 - fp: 7.7215 - loss: 0.0016 - precision: 0.9463 - recall: 0.8322 - tn: 81728.5938 - tp: 128.7089 - val_fn: 18.0000 - val_fp: 9.0000 - val_loss: 0.0048 - val_precision: 0.8615 - val_recall: 0.7568 - val_tn: 39790.0000 - val_tp: 56.0000\n",
      "Epoch 186/300\n",
      "\u001b[1m78/78\u001b[0m \u001b[32m━━━━━━━━━━━━━━━━━━━━\u001b[0m\u001b[37m\u001b[0m \u001b[1m0s\u001b[0m 5ms/step - fn: 20.7848 - fp: 6.7215 - loss: 0.0017 - precision: 0.9552 - recall: 0.8353 - tn: 81732.4688 - tp: 127.6962 - val_fn: 18.0000 - val_fp: 7.0000 - val_loss: 0.0047 - val_precision: 0.8889 - val_recall: 0.7568 - val_tn: 39792.0000 - val_tp: 56.0000\n",
      "Epoch 187/300\n",
      "\u001b[1m78/78\u001b[0m \u001b[32m━━━━━━━━━━━━━━━━━━━━\u001b[0m\u001b[37m\u001b[0m \u001b[1m0s\u001b[0m 5ms/step - fn: 21.5443 - fp: 7.6582 - loss: 0.0015 - precision: 0.9329 - recall: 0.8380 - tn: 81737.7500 - tp: 120.7215 - val_fn: 18.0000 - val_fp: 7.0000 - val_loss: 0.0048 - val_precision: 0.8889 - val_recall: 0.7568 - val_tn: 39792.0000 - val_tp: 56.0000\n",
      "Epoch 188/300\n",
      "\u001b[1m78/78\u001b[0m \u001b[32m━━━━━━━━━━━━━━━━━━━━\u001b[0m\u001b[37m\u001b[0m \u001b[1m0s\u001b[0m 5ms/step - fn: 27.0886 - fp: 7.4177 - loss: 0.0018 - precision: 0.9404 - recall: 0.8109 - tn: 81729.5547 - tp: 123.6076 - val_fn: 18.0000 - val_fp: 7.0000 - val_loss: 0.0046 - val_precision: 0.8889 - val_recall: 0.7568 - val_tn: 39792.0000 - val_tp: 56.0000\n",
      "Epoch 189/300\n",
      "\u001b[1m78/78\u001b[0m \u001b[32m━━━━━━━━━━━━━━━━━━━━\u001b[0m\u001b[37m\u001b[0m \u001b[1m0s\u001b[0m 5ms/step - fn: 18.0886 - fp: 7.7468 - loss: 0.0012 - precision: 0.9519 - recall: 0.8764 - tn: 81736.9219 - tp: 124.9114 - val_fn: 18.0000 - val_fp: 6.0000 - val_loss: 0.0045 - val_precision: 0.9032 - val_recall: 0.7568 - val_tn: 39793.0000 - val_tp: 56.0000\n",
      "Epoch 190/300\n",
      "\u001b[1m78/78\u001b[0m \u001b[32m━━━━━━━━━━━━━━━━━━━━\u001b[0m\u001b[37m\u001b[0m \u001b[1m0s\u001b[0m 5ms/step - fn: 15.9367 - fp: 1.8228 - loss: 0.0011 - precision: 0.9918 - recall: 0.8920 - tn: 81741.6562 - tp: 128.2532 - val_fn: 18.0000 - val_fp: 6.0000 - val_loss: 0.0046 - val_precision: 0.9032 - val_recall: 0.7568 - val_tn: 39793.0000 - val_tp: 56.0000\n",
      "Epoch 191/300\n",
      "\u001b[1m78/78\u001b[0m \u001b[32m━━━━━━━━━━━━━━━━━━━━\u001b[0m\u001b[37m\u001b[0m \u001b[1m0s\u001b[0m 5ms/step - fn: 21.3418 - fp: 4.7848 - loss: 0.0015 - precision: 0.9649 - recall: 0.8487 - tn: 81737.6719 - tp: 123.8734 - val_fn: 18.0000 - val_fp: 7.0000 - val_loss: 0.0047 - val_precision: 0.8889 - val_recall: 0.7568 - val_tn: 39792.0000 - val_tp: 56.0000\n",
      "Epoch 192/300\n",
      "\u001b[1m78/78\u001b[0m \u001b[32m━━━━━━━━━━━━━━━━━━━━\u001b[0m\u001b[37m\u001b[0m \u001b[1m0s\u001b[0m 5ms/step - fn: 20.2152 - fp: 6.0886 - loss: 0.0010 - precision: 0.9551 - recall: 0.8751 - tn: 81731.8359 - tp: 129.5316 - val_fn: 18.0000 - val_fp: 8.0000 - val_loss: 0.0046 - val_precision: 0.8750 - val_recall: 0.7568 - val_tn: 39791.0000 - val_tp: 56.0000\n",
      "Epoch 193/300\n",
      "\u001b[1m78/78\u001b[0m \u001b[32m━━━━━━━━━━━━━━━━━━━━\u001b[0m\u001b[37m\u001b[0m \u001b[1m0s\u001b[0m 5ms/step - fn: 24.4937 - fp: 6.2911 - loss: 0.0014 - precision: 0.9535 - recall: 0.8238 - tn: 81730.7734 - tp: 126.1139 - val_fn: 18.0000 - val_fp: 6.0000 - val_loss: 0.0045 - val_precision: 0.9032 - val_recall: 0.7568 - val_tn: 39793.0000 - val_tp: 56.0000\n",
      "Epoch 194/300\n",
      "\u001b[1m78/78\u001b[0m \u001b[32m━━━━━━━━━━━━━━━━━━━━\u001b[0m\u001b[37m\u001b[0m \u001b[1m0s\u001b[0m 5ms/step - fn: 18.9114 - fp: 8.0886 - loss: 0.0012 - precision: 0.9364 - recall: 0.8769 - tn: 81731.5859 - tp: 129.0886 - val_fn: 18.0000 - val_fp: 10.0000 - val_loss: 0.0049 - val_precision: 0.8485 - val_recall: 0.7568 - val_tn: 39789.0000 - val_tp: 56.0000\n",
      "Epoch 195/300\n",
      "\u001b[1m78/78\u001b[0m \u001b[32m━━━━━━━━━━━━━━━━━━━━\u001b[0m\u001b[37m\u001b[0m \u001b[1m0s\u001b[0m 5ms/step - fn: 18.3418 - fp: 8.2911 - loss: 0.0013 - precision: 0.9405 - recall: 0.8932 - tn: 81734.9766 - tp: 126.0633 - val_fn: 18.0000 - val_fp: 6.0000 - val_loss: 0.0047 - val_precision: 0.9032 - val_recall: 0.7568 - val_tn: 39793.0000 - val_tp: 56.0000\n",
      "Epoch 196/300\n",
      "\u001b[1m78/78\u001b[0m \u001b[32m━━━━━━━━━━━━━━━━━━━━\u001b[0m\u001b[37m\u001b[0m \u001b[1m0s\u001b[0m 5ms/step - fn: 23.1772 - fp: 2.9620 - loss: 0.0011 - precision: 0.9788 - recall: 0.8451 - tn: 81743.6094 - tp: 117.9240 - val_fn: 18.0000 - val_fp: 9.0000 - val_loss: 0.0048 - val_precision: 0.8615 - val_recall: 0.7568 - val_tn: 39790.0000 - val_tp: 56.0000\n",
      "Epoch 197/300\n",
      "\u001b[1m78/78\u001b[0m \u001b[32m━━━━━━━━━━━━━━━━━━━━\u001b[0m\u001b[37m\u001b[0m \u001b[1m0s\u001b[0m 5ms/step - fn: 17.0000 - fp: 4.9873 - loss: 0.0012 - precision: 0.9645 - recall: 0.8973 - tn: 81737.7500 - tp: 127.9367 - val_fn: 18.0000 - val_fp: 6.0000 - val_loss: 0.0047 - val_precision: 0.9032 - val_recall: 0.7568 - val_tn: 39793.0000 - val_tp: 56.0000\n",
      "Epoch 198/300\n",
      "\u001b[1m78/78\u001b[0m \u001b[32m━━━━━━━━━━━━━━━━━━━━\u001b[0m\u001b[37m\u001b[0m \u001b[1m0s\u001b[0m 5ms/step - fn: 23.8228 - fp: 7.7595 - loss: 0.0017 - precision: 0.9387 - recall: 0.8256 - tn: 81735.0859 - tp: 121.0000 - val_fn: 18.0000 - val_fp: 6.0000 - val_loss: 0.0046 - val_precision: 0.9032 - val_recall: 0.7568 - val_tn: 39793.0000 - val_tp: 56.0000\n",
      "Epoch 199/300\n",
      "\u001b[1m78/78\u001b[0m \u001b[32m━━━━━━━━━━━━━━━━━━━━\u001b[0m\u001b[37m\u001b[0m \u001b[1m0s\u001b[0m 5ms/step - fn: 20.2785 - fp: 6.5696 - loss: 0.0013 - precision: 0.9564 - recall: 0.8508 - tn: 81731.1172 - tp: 129.7089 - val_fn: 18.0000 - val_fp: 7.0000 - val_loss: 0.0046 - val_precision: 0.8889 - val_recall: 0.7568 - val_tn: 39792.0000 - val_tp: 56.0000\n",
      "Epoch 200/300\n",
      "\u001b[1m78/78\u001b[0m \u001b[32m━━━━━━━━━━━━━━━━━━━━\u001b[0m\u001b[37m\u001b[0m \u001b[1m0s\u001b[0m 5ms/step - fn: 21.0633 - fp: 8.2911 - loss: 0.0014 - precision: 0.9351 - recall: 0.8544 - tn: 81736.8750 - tp: 121.4430 - val_fn: 18.0000 - val_fp: 9.0000 - val_loss: 0.0047 - val_precision: 0.8615 - val_recall: 0.7568 - val_tn: 39790.0000 - val_tp: 56.0000\n",
      "Epoch 201/300\n",
      "\u001b[1m78/78\u001b[0m \u001b[32m━━━━━━━━━━━━━━━━━━━━\u001b[0m\u001b[37m\u001b[0m \u001b[1m0s\u001b[0m 5ms/step - fn: 18.7468 - fp: 4.3165 - loss: 9.7840e-04 - precision: 0.9526 - recall: 0.8546 - tn: 81745.6328 - tp: 118.9747 - val_fn: 18.0000 - val_fp: 7.0000 - val_loss: 0.0047 - val_precision: 0.8889 - val_recall: 0.7568 - val_tn: 39792.0000 - val_tp: 56.0000\n",
      "Epoch 202/300\n",
      "\u001b[1m78/78\u001b[0m \u001b[32m━━━━━━━━━━━━━━━━━━━━\u001b[0m\u001b[37m\u001b[0m \u001b[1m0s\u001b[0m 5ms/step - fn: 21.0506 - fp: 6.6329 - loss: 0.0013 - precision: 0.9523 - recall: 0.8672 - tn: 81732.8516 - tp: 127.1392 - val_fn: 18.0000 - val_fp: 8.0000 - val_loss: 0.0049 - val_precision: 0.8750 - val_recall: 0.7568 - val_tn: 39791.0000 - val_tp: 56.0000\n",
      "Epoch 203/300\n",
      "\u001b[1m78/78\u001b[0m \u001b[32m━━━━━━━━━━━━━━━━━━━━\u001b[0m\u001b[37m\u001b[0m \u001b[1m0s\u001b[0m 5ms/step - fn: 17.4937 - fp: 6.3165 - loss: 8.6065e-04 - precision: 0.9522 - recall: 0.9003 - tn: 81736.1484 - tp: 127.7089 - val_fn: 18.0000 - val_fp: 10.0000 - val_loss: 0.0048 - val_precision: 0.8485 - val_recall: 0.7568 - val_tn: 39789.0000 - val_tp: 56.0000\n",
      "Epoch 204/300\n",
      "\u001b[1m78/78\u001b[0m \u001b[32m━━━━━━━━━━━━━━━━━━━━\u001b[0m\u001b[37m\u001b[0m \u001b[1m0s\u001b[0m 5ms/step - fn: 20.6582 - fp: 7.9114 - loss: 0.0014 - precision: 0.9326 - recall: 0.8456 - tn: 81733.2422 - tp: 125.8608 - val_fn: 18.0000 - val_fp: 8.0000 - val_loss: 0.0049 - val_precision: 0.8750 - val_recall: 0.7568 - val_tn: 39791.0000 - val_tp: 56.0000\n",
      "Epoch 205/300\n",
      "\u001b[1m78/78\u001b[0m \u001b[32m━━━━━━━━━━━━━━━━━━━━\u001b[0m\u001b[37m\u001b[0m \u001b[1m0s\u001b[0m 5ms/step - fn: 24.0886 - fp: 6.1139 - loss: 0.0011 - precision: 0.9521 - recall: 0.8404 - tn: 81739.4297 - tp: 118.0380 - val_fn: 18.0000 - val_fp: 9.0000 - val_loss: 0.0051 - val_precision: 0.8615 - val_recall: 0.7568 - val_tn: 39790.0000 - val_tp: 56.0000\n",
      "Epoch 206/300\n",
      "\u001b[1m78/78\u001b[0m \u001b[32m━━━━━━━━━━━━━━━━━━━━\u001b[0m\u001b[37m\u001b[0m \u001b[1m0s\u001b[0m 5ms/step - fn: 22.0253 - fp: 6.7848 - loss: 0.0017 - precision: 0.9435 - recall: 0.8562 - tn: 81738.8594 - tp: 120.0000 - val_fn: 18.0000 - val_fp: 7.0000 - val_loss: 0.0049 - val_precision: 0.8889 - val_recall: 0.7568 - val_tn: 39792.0000 - val_tp: 56.0000\n",
      "Epoch 207/300\n",
      "\u001b[1m78/78\u001b[0m \u001b[32m━━━━━━━━━━━━━━━━━━━━\u001b[0m\u001b[37m\u001b[0m \u001b[1m0s\u001b[0m 5ms/step - fn: 19.9367 - fp: 3.5190 - loss: 9.5111e-04 - precision: 0.9712 - recall: 0.8615 - tn: 81746.9219 - tp: 117.2911 - val_fn: 18.0000 - val_fp: 7.0000 - val_loss: 0.0049 - val_precision: 0.8889 - val_recall: 0.7568 - val_tn: 39792.0000 - val_tp: 56.0000\n",
      "Epoch 208/300\n",
      "\u001b[1m78/78\u001b[0m \u001b[32m━━━━━━━━━━━━━━━━━━━━\u001b[0m\u001b[37m\u001b[0m \u001b[1m0s\u001b[0m 5ms/step - fn: 18.7848 - fp: 5.4684 - loss: 0.0012 - precision: 0.9601 - recall: 0.8826 - tn: 81735.6172 - tp: 127.7975 - val_fn: 18.0000 - val_fp: 6.0000 - val_loss: 0.0047 - val_precision: 0.9032 - val_recall: 0.7568 - val_tn: 39793.0000 - val_tp: 56.0000\n",
      "Epoch 209/300\n",
      "\u001b[1m78/78\u001b[0m \u001b[32m━━━━━━━━━━━━━━━━━━━━\u001b[0m\u001b[37m\u001b[0m \u001b[1m0s\u001b[0m 5ms/step - fn: 16.8354 - fp: 3.6962 - loss: 8.9554e-04 - precision: 0.9776 - recall: 0.8871 - tn: 81750.1016 - tp: 117.0380 - val_fn: 18.0000 - val_fp: 8.0000 - val_loss: 0.0047 - val_precision: 0.8750 - val_recall: 0.7568 - val_tn: 39791.0000 - val_tp: 56.0000\n",
      "Epoch 210/300\n",
      "\u001b[1m78/78\u001b[0m \u001b[32m━━━━━━━━━━━━━━━━━━━━\u001b[0m\u001b[37m\u001b[0m \u001b[1m0s\u001b[0m 5ms/step - fn: 17.4304 - fp: 5.8228 - loss: 0.0012 - precision: 0.9512 - recall: 0.8741 - tn: 81732.7344 - tp: 131.6835 - val_fn: 18.0000 - val_fp: 8.0000 - val_loss: 0.0048 - val_precision: 0.8750 - val_recall: 0.7568 - val_tn: 39791.0000 - val_tp: 56.0000\n",
      "Epoch 211/300\n",
      "\u001b[1m78/78\u001b[0m \u001b[32m━━━━━━━━━━━━━━━━━━━━\u001b[0m\u001b[37m\u001b[0m \u001b[1m1s\u001b[0m 5ms/step - fn: 18.0506 - fp: 3.1266 - loss: 0.0012 - precision: 0.9775 - recall: 0.8907 - tn: 81735.5859 - tp: 130.9114 - val_fn: 18.0000 - val_fp: 8.0000 - val_loss: 0.0049 - val_precision: 0.8750 - val_recall: 0.7568 - val_tn: 39791.0000 - val_tp: 56.0000\n",
      "Epoch 212/300\n",
      "\u001b[1m78/78\u001b[0m \u001b[32m━━━━━━━━━━━━━━━━━━━━\u001b[0m\u001b[37m\u001b[0m \u001b[1m0s\u001b[0m 5ms/step - fn: 20.1772 - fp: 10.9241 - loss: 0.0014 - precision: 0.9102 - recall: 0.8525 - tn: 81734.9219 - tp: 121.6456 - val_fn: 18.0000 - val_fp: 8.0000 - val_loss: 0.0050 - val_precision: 0.8750 - val_recall: 0.7568 - val_tn: 39791.0000 - val_tp: 56.0000\n",
      "Epoch 213/300\n",
      "\u001b[1m78/78\u001b[0m \u001b[32m━━━━━━━━━━━━━━━━━━━━\u001b[0m\u001b[37m\u001b[0m \u001b[1m0s\u001b[0m 5ms/step - fn: 18.9114 - fp: 5.6456 - loss: 0.0010 - precision: 0.9680 - recall: 0.8779 - tn: 81739.0000 - tp: 124.1139 - val_fn: 18.0000 - val_fp: 8.0000 - val_loss: 0.0050 - val_precision: 0.8750 - val_recall: 0.7568 - val_tn: 39791.0000 - val_tp: 56.0000\n",
      "Epoch 214/300\n",
      "\u001b[1m78/78\u001b[0m \u001b[32m━━━━━━━━━━━━━━━━━━━━\u001b[0m\u001b[37m\u001b[0m \u001b[1m0s\u001b[0m 5ms/step - fn: 18.7722 - fp: 3.4304 - loss: 0.0011 - precision: 0.9756 - recall: 0.8743 - tn: 81737.2031 - tp: 128.2658 - val_fn: 18.0000 - val_fp: 9.0000 - val_loss: 0.0050 - val_precision: 0.8615 - val_recall: 0.7568 - val_tn: 39790.0000 - val_tp: 56.0000\n",
      "Epoch 215/300\n",
      "\u001b[1m78/78\u001b[0m \u001b[32m━━━━━━━━━━━━━━━━━━━━\u001b[0m\u001b[37m\u001b[0m \u001b[1m0s\u001b[0m 5ms/step - fn: 24.3038 - fp: 7.2278 - loss: 0.0014 - precision: 0.9414 - recall: 0.8274 - tn: 81737.4141 - tp: 118.7215 - val_fn: 18.0000 - val_fp: 8.0000 - val_loss: 0.0048 - val_precision: 0.8750 - val_recall: 0.7568 - val_tn: 39791.0000 - val_tp: 56.0000\n",
      "Epoch 216/300\n",
      "\u001b[1m78/78\u001b[0m \u001b[32m━━━━━━━━━━━━━━━━━━━━\u001b[0m\u001b[37m\u001b[0m \u001b[1m0s\u001b[0m 5ms/step - fn: 16.9873 - fp: 4.5696 - loss: 9.6602e-04 - precision: 0.9720 - recall: 0.8912 - tn: 81733.2500 - tp: 132.8608 - val_fn: 18.0000 - val_fp: 8.0000 - val_loss: 0.0050 - val_precision: 0.8750 - val_recall: 0.7568 - val_tn: 39791.0000 - val_tp: 56.0000\n",
      "Epoch 217/300\n",
      "\u001b[1m78/78\u001b[0m \u001b[32m━━━━━━━━━━━━━━━━━━━━\u001b[0m\u001b[37m\u001b[0m \u001b[1m0s\u001b[0m 5ms/step - fn: 19.3165 - fp: 7.6962 - loss: 0.0014 - precision: 0.9464 - recall: 0.8666 - tn: 81721.1875 - tp: 139.4684 - val_fn: 18.0000 - val_fp: 6.0000 - val_loss: 0.0050 - val_precision: 0.9032 - val_recall: 0.7568 - val_tn: 39793.0000 - val_tp: 56.0000\n",
      "Epoch 218/300\n",
      "\u001b[1m78/78\u001b[0m \u001b[32m━━━━━━━━━━━━━━━━━━━━\u001b[0m\u001b[37m\u001b[0m \u001b[1m0s\u001b[0m 5ms/step - fn: 17.1266 - fp: 4.9241 - loss: 8.3920e-04 - precision: 0.9705 - recall: 0.8886 - tn: 81737.1172 - tp: 128.5063 - val_fn: 18.0000 - val_fp: 9.0000 - val_loss: 0.0052 - val_precision: 0.8615 - val_recall: 0.7568 - val_tn: 39790.0000 - val_tp: 56.0000\n",
      "Epoch 219/300\n",
      "\u001b[1m78/78\u001b[0m \u001b[32m━━━━━━━━━━━━━━━━━━━━\u001b[0m\u001b[37m\u001b[0m \u001b[1m0s\u001b[0m 5ms/step - fn: 19.5443 - fp: 6.7089 - loss: 0.0011 - precision: 0.9548 - recall: 0.8665 - tn: 81734.2188 - tp: 127.2025 - val_fn: 18.0000 - val_fp: 8.0000 - val_loss: 0.0049 - val_precision: 0.8750 - val_recall: 0.7568 - val_tn: 39791.0000 - val_tp: 56.0000\n",
      "Epoch 220/300\n",
      "\u001b[1m78/78\u001b[0m \u001b[32m━━━━━━━━━━━━━━━━━━━━\u001b[0m\u001b[37m\u001b[0m \u001b[1m0s\u001b[0m 5ms/step - fn: 18.5316 - fp: 3.8987 - loss: 0.0010 - precision: 0.9743 - recall: 0.8669 - tn: 81742.8828 - tp: 122.3544 - val_fn: 18.0000 - val_fp: 7.0000 - val_loss: 0.0049 - val_precision: 0.8889 - val_recall: 0.7568 - val_tn: 39792.0000 - val_tp: 56.0000\n",
      "Epoch 221/300\n",
      "\u001b[1m78/78\u001b[0m \u001b[32m━━━━━━━━━━━━━━━━━━━━\u001b[0m\u001b[37m\u001b[0m \u001b[1m0s\u001b[0m 5ms/step - fn: 21.9873 - fp: 7.5190 - loss: 0.0012 - precision: 0.9500 - recall: 0.8517 - tn: 81736.0859 - tp: 122.0760 - val_fn: 18.0000 - val_fp: 9.0000 - val_loss: 0.0051 - val_precision: 0.8615 - val_recall: 0.7568 - val_tn: 39790.0000 - val_tp: 56.0000\n",
      "Epoch 222/300\n",
      "\u001b[1m78/78\u001b[0m \u001b[32m━━━━━━━━━━━━━━━━━━━━\u001b[0m\u001b[37m\u001b[0m \u001b[1m0s\u001b[0m 5ms/step - fn: 17.3671 - fp: 7.8481 - loss: 0.0012 - precision: 0.9497 - recall: 0.8829 - tn: 81733.4531 - tp: 129.0000 - val_fn: 18.0000 - val_fp: 6.0000 - val_loss: 0.0048 - val_precision: 0.9032 - val_recall: 0.7568 - val_tn: 39793.0000 - val_tp: 56.0000\n",
      "Epoch 223/300\n",
      "\u001b[1m78/78\u001b[0m \u001b[32m━━━━━━━━━━━━━━━━━━━━\u001b[0m\u001b[37m\u001b[0m \u001b[1m0s\u001b[0m 5ms/step - fn: 18.2911 - fp: 5.6835 - loss: 0.0012 - precision: 0.9586 - recall: 0.8746 - tn: 81735.0000 - tp: 128.6962 - val_fn: 18.0000 - val_fp: 6.0000 - val_loss: 0.0049 - val_precision: 0.9032 - val_recall: 0.7568 - val_tn: 39793.0000 - val_tp: 56.0000\n",
      "Epoch 224/300\n",
      "\u001b[1m78/78\u001b[0m \u001b[32m━━━━━━━━━━━━━━━━━━━━\u001b[0m\u001b[37m\u001b[0m \u001b[1m0s\u001b[0m 5ms/step - fn: 18.8987 - fp: 6.0886 - loss: 0.0011 - precision: 0.9597 - recall: 0.8526 - tn: 81741.1875 - tp: 121.4937 - val_fn: 18.0000 - val_fp: 8.0000 - val_loss: 0.0051 - val_precision: 0.8750 - val_recall: 0.7568 - val_tn: 39791.0000 - val_tp: 56.0000\n",
      "Epoch 225/300\n",
      "\u001b[1m78/78\u001b[0m \u001b[32m━━━━━━━━━━━━━━━━━━━━\u001b[0m\u001b[37m\u001b[0m \u001b[1m0s\u001b[0m 5ms/step - fn: 15.2785 - fp: 2.2278 - loss: 8.8986e-04 - precision: 0.9810 - recall: 0.9033 - tn: 81738.6172 - tp: 131.5443 - val_fn: 18.0000 - val_fp: 7.0000 - val_loss: 0.0050 - val_precision: 0.8889 - val_recall: 0.7568 - val_tn: 39792.0000 - val_tp: 56.0000\n",
      "Epoch 226/300\n",
      "\u001b[1m78/78\u001b[0m \u001b[32m━━━━━━━━━━━━━━━━━━━━\u001b[0m\u001b[37m\u001b[0m \u001b[1m0s\u001b[0m 5ms/step - fn: 15.4177 - fp: 7.2025 - loss: 9.3289e-04 - precision: 0.9416 - recall: 0.8979 - tn: 81741.8125 - tp: 123.2405 - val_fn: 18.0000 - val_fp: 7.0000 - val_loss: 0.0049 - val_precision: 0.8889 - val_recall: 0.7568 - val_tn: 39792.0000 - val_tp: 56.0000\n",
      "Epoch 227/300\n",
      "\u001b[1m78/78\u001b[0m \u001b[32m━━━━━━━━━━━━━━━━━━━━\u001b[0m\u001b[37m\u001b[0m \u001b[1m0s\u001b[0m 5ms/step - fn: 16.6709 - fp: 8.4051 - loss: 8.4997e-04 - precision: 0.9398 - recall: 0.8882 - tn: 81742.6172 - tp: 119.9747 - val_fn: 18.0000 - val_fp: 7.0000 - val_loss: 0.0050 - val_precision: 0.8889 - val_recall: 0.7568 - val_tn: 39792.0000 - val_tp: 56.0000\n",
      "Epoch 228/300\n",
      "\u001b[1m78/78\u001b[0m \u001b[32m━━━━━━━━━━━━━━━━━━━━\u001b[0m\u001b[37m\u001b[0m \u001b[1m0s\u001b[0m 5ms/step - fn: 16.7342 - fp: 1.7975 - loss: 7.7496e-04 - precision: 0.9912 - recall: 0.8859 - tn: 81743.1406 - tp: 126.0000 - val_fn: 18.0000 - val_fp: 10.0000 - val_loss: 0.0056 - val_precision: 0.8485 - val_recall: 0.7568 - val_tn: 39789.0000 - val_tp: 56.0000\n",
      "Epoch 229/300\n",
      "\u001b[1m78/78\u001b[0m \u001b[32m━━━━━━━━━━━━━━━━━━━━\u001b[0m\u001b[37m\u001b[0m \u001b[1m0s\u001b[0m 5ms/step - fn: 18.5570 - fp: 8.6203 - loss: 0.0012 - precision: 0.9380 - recall: 0.8797 - tn: 81723.2422 - tp: 137.2532 - val_fn: 18.0000 - val_fp: 6.0000 - val_loss: 0.0049 - val_precision: 0.9032 - val_recall: 0.7568 - val_tn: 39793.0000 - val_tp: 56.0000\n",
      "Epoch 230/300\n",
      "\u001b[1m78/78\u001b[0m \u001b[32m━━━━━━━━━━━━━━━━━━━━\u001b[0m\u001b[37m\u001b[0m \u001b[1m0s\u001b[0m 5ms/step - fn: 17.9241 - fp: 1.6709 - loss: 8.4239e-04 - precision: 0.9912 - recall: 0.8771 - tn: 81744.2812 - tp: 123.7975 - val_fn: 18.0000 - val_fp: 7.0000 - val_loss: 0.0050 - val_precision: 0.8889 - val_recall: 0.7568 - val_tn: 39792.0000 - val_tp: 56.0000\n",
      "Epoch 231/300\n",
      "\u001b[1m78/78\u001b[0m \u001b[32m━━━━━━━━━━━━━━━━━━━━\u001b[0m\u001b[37m\u001b[0m \u001b[1m0s\u001b[0m 5ms/step - fn: 15.2532 - fp: 4.6456 - loss: 0.0010 - precision: 0.9649 - recall: 0.9032 - tn: 81731.5156 - tp: 136.2532 - val_fn: 18.0000 - val_fp: 7.0000 - val_loss: 0.0051 - val_precision: 0.8889 - val_recall: 0.7568 - val_tn: 39792.0000 - val_tp: 56.0000\n",
      "Epoch 232/300\n",
      "\u001b[1m78/78\u001b[0m \u001b[32m━━━━━━━━━━━━━━━━━━━━\u001b[0m\u001b[37m\u001b[0m \u001b[1m0s\u001b[0m 5ms/step - fn: 16.8861 - fp: 8.2785 - loss: 0.0010 - precision: 0.9439 - recall: 0.8916 - tn: 81725.4688 - tp: 137.0380 - val_fn: 18.0000 - val_fp: 6.0000 - val_loss: 0.0050 - val_precision: 0.9032 - val_recall: 0.7568 - val_tn: 39793.0000 - val_tp: 56.0000\n",
      "Epoch 233/300\n",
      "\u001b[1m78/78\u001b[0m \u001b[32m━━━━━━━━━━━━━━━━━━━━\u001b[0m\u001b[37m\u001b[0m \u001b[1m0s\u001b[0m 5ms/step - fn: 15.5696 - fp: 5.4810 - loss: 8.2794e-04 - precision: 0.9435 - recall: 0.8854 - tn: 81736.7969 - tp: 129.8228 - val_fn: 18.0000 - val_fp: 7.0000 - val_loss: 0.0050 - val_precision: 0.8889 - val_recall: 0.7568 - val_tn: 39792.0000 - val_tp: 56.0000\n",
      "Epoch 234/300\n",
      "\u001b[1m78/78\u001b[0m \u001b[32m━━━━━━━━━━━━━━━━━━━━\u001b[0m\u001b[37m\u001b[0m \u001b[1m0s\u001b[0m 5ms/step - fn: 15.6962 - fp: 5.1772 - loss: 9.6734e-04 - precision: 0.9598 - recall: 0.8901 - tn: 81749.4062 - tp: 117.3924 - val_fn: 18.0000 - val_fp: 7.0000 - val_loss: 0.0052 - val_precision: 0.8889 - val_recall: 0.7568 - val_tn: 39792.0000 - val_tp: 56.0000\n",
      "Epoch 235/300\n",
      "\u001b[1m78/78\u001b[0m \u001b[32m━━━━━━━━━━━━━━━━━━━━\u001b[0m\u001b[37m\u001b[0m \u001b[1m0s\u001b[0m 5ms/step - fn: 17.5696 - fp: 4.3797 - loss: 9.7511e-04 - precision: 0.9719 - recall: 0.8873 - tn: 81735.5938 - tp: 130.1266 - val_fn: 18.0000 - val_fp: 7.0000 - val_loss: 0.0053 - val_precision: 0.8889 - val_recall: 0.7568 - val_tn: 39792.0000 - val_tp: 56.0000\n",
      "Epoch 236/300\n",
      "\u001b[1m78/78\u001b[0m \u001b[32m━━━━━━━━━━━━━━━━━━━━\u001b[0m\u001b[37m\u001b[0m \u001b[1m0s\u001b[0m 5ms/step - fn: 13.8228 - fp: 7.5316 - loss: 9.8222e-04 - precision: 0.9494 - recall: 0.9148 - tn: 81734.2422 - tp: 132.0759 - val_fn: 18.0000 - val_fp: 7.0000 - val_loss: 0.0052 - val_precision: 0.8889 - val_recall: 0.7568 - val_tn: 39792.0000 - val_tp: 56.0000\n",
      "Epoch 237/300\n",
      "\u001b[1m78/78\u001b[0m \u001b[32m━━━━━━━━━━━━━━━━━━━━\u001b[0m\u001b[37m\u001b[0m \u001b[1m0s\u001b[0m 5ms/step - fn: 18.8101 - fp: 4.8608 - loss: 9.4140e-04 - precision: 0.9678 - recall: 0.8827 - tn: 81734.7344 - tp: 129.2658 - val_fn: 18.0000 - val_fp: 6.0000 - val_loss: 0.0051 - val_precision: 0.9032 - val_recall: 0.7568 - val_tn: 39793.0000 - val_tp: 56.0000\n",
      "Epoch 238/300\n",
      "\u001b[1m78/78\u001b[0m \u001b[32m━━━━━━━━━━━━━━━━━━━━\u001b[0m\u001b[37m\u001b[0m \u001b[1m0s\u001b[0m 5ms/step - fn: 16.7342 - fp: 5.6203 - loss: 0.0012 - precision: 0.9425 - recall: 0.8548 - tn: 81740.0859 - tp: 125.2279 - val_fn: 18.0000 - val_fp: 8.0000 - val_loss: 0.0052 - val_precision: 0.8750 - val_recall: 0.7568 - val_tn: 39791.0000 - val_tp: 56.0000\n",
      "Epoch 239/300\n",
      "\u001b[1m78/78\u001b[0m \u001b[32m━━━━━━━━━━━━━━━━━━━━\u001b[0m\u001b[37m\u001b[0m \u001b[1m0s\u001b[0m 5ms/step - fn: 13.3797 - fp: 2.9494 - loss: 7.7742e-04 - precision: 0.9849 - recall: 0.9159 - tn: 81738.1172 - tp: 133.2278 - val_fn: 18.0000 - val_fp: 8.0000 - val_loss: 0.0051 - val_precision: 0.8750 - val_recall: 0.7568 - val_tn: 39791.0000 - val_tp: 56.0000\n",
      "Epoch 240/300\n",
      "\u001b[1m78/78\u001b[0m \u001b[32m━━━━━━━━━━━━━━━━━━━━\u001b[0m\u001b[37m\u001b[0m \u001b[1m0s\u001b[0m 5ms/step - fn: 11.3291 - fp: 6.4430 - loss: 9.3706e-04 - precision: 0.9584 - recall: 0.9354 - tn: 81732.2656 - tp: 137.6329 - val_fn: 18.0000 - val_fp: 7.0000 - val_loss: 0.0052 - val_precision: 0.8889 - val_recall: 0.7568 - val_tn: 39792.0000 - val_tp: 56.0000\n",
      "Epoch 241/300\n",
      "\u001b[1m78/78\u001b[0m \u001b[32m━━━━━━━━━━━━━━━━━━━━\u001b[0m\u001b[37m\u001b[0m \u001b[1m0s\u001b[0m 5ms/step - fn: 19.9114 - fp: 7.0253 - loss: 0.0011 - precision: 0.9480 - recall: 0.8598 - tn: 81736.2812 - tp: 124.4557 - val_fn: 18.0000 - val_fp: 8.0000 - val_loss: 0.0054 - val_precision: 0.8750 - val_recall: 0.7568 - val_tn: 39791.0000 - val_tp: 56.0000\n",
      "Epoch 242/300\n",
      "\u001b[1m78/78\u001b[0m \u001b[32m━━━━━━━━━━━━━━━━━━━━\u001b[0m\u001b[37m\u001b[0m \u001b[1m0s\u001b[0m 5ms/step - fn: 16.0380 - fp: 7.2532 - loss: 0.0013 - precision: 0.9488 - recall: 0.8945 - tn: 81730.1016 - tp: 134.2785 - val_fn: 18.0000 - val_fp: 6.0000 - val_loss: 0.0052 - val_precision: 0.9032 - val_recall: 0.7568 - val_tn: 39793.0000 - val_tp: 56.0000\n",
      "Epoch 243/300\n",
      "\u001b[1m78/78\u001b[0m \u001b[32m━━━━━━━━━━━━━━━━━━━━\u001b[0m\u001b[37m\u001b[0m \u001b[1m0s\u001b[0m 5ms/step - fn: 15.2152 - fp: 6.3544 - loss: 0.0011 - precision: 0.9408 - recall: 0.8885 - tn: 81739.7969 - tp: 126.3038 - val_fn: 18.0000 - val_fp: 6.0000 - val_loss: 0.0052 - val_precision: 0.9032 - val_recall: 0.7568 - val_tn: 39793.0000 - val_tp: 56.0000\n",
      "Epoch 244/300\n",
      "\u001b[1m78/78\u001b[0m \u001b[32m━━━━━━━━━━━━━━━━━━━━\u001b[0m\u001b[37m\u001b[0m \u001b[1m0s\u001b[0m 5ms/step - fn: 16.6076 - fp: 4.6076 - loss: 6.9736e-04 - precision: 0.9721 - recall: 0.8966 - tn: 81743.4297 - tp: 123.0253 - val_fn: 18.0000 - val_fp: 7.0000 - val_loss: 0.0051 - val_precision: 0.8889 - val_recall: 0.7568 - val_tn: 39792.0000 - val_tp: 56.0000\n",
      "Epoch 245/300\n",
      "\u001b[1m78/78\u001b[0m \u001b[32m━━━━━━━━━━━━━━━━━━━━\u001b[0m\u001b[37m\u001b[0m \u001b[1m0s\u001b[0m 5ms/step - fn: 14.5316 - fp: 6.3797 - loss: 9.6690e-04 - precision: 0.9552 - recall: 0.8983 - tn: 81728.2656 - tp: 138.4937 - val_fn: 18.0000 - val_fp: 6.0000 - val_loss: 0.0051 - val_precision: 0.9032 - val_recall: 0.7568 - val_tn: 39793.0000 - val_tp: 56.0000\n",
      "Epoch 246/300\n",
      "\u001b[1m78/78\u001b[0m \u001b[32m━━━━━━━━━━━━━━━━━━━━\u001b[0m\u001b[37m\u001b[0m \u001b[1m0s\u001b[0m 5ms/step - fn: 13.1646 - fp: 5.0253 - loss: 7.8196e-04 - precision: 0.9702 - recall: 0.9178 - tn: 81739.8203 - tp: 129.6582 - val_fn: 18.0000 - val_fp: 6.0000 - val_loss: 0.0052 - val_precision: 0.9032 - val_recall: 0.7568 - val_tn: 39793.0000 - val_tp: 56.0000\n",
      "Epoch 247/300\n",
      "\u001b[1m78/78\u001b[0m \u001b[32m━━━━━━━━━━━━━━━━━━━━\u001b[0m\u001b[37m\u001b[0m \u001b[1m0s\u001b[0m 5ms/step - fn: 14.9494 - fp: 6.7215 - loss: 8.8439e-04 - precision: 0.9534 - recall: 0.9062 - tn: 81736.1641 - tp: 129.8354 - val_fn: 18.0000 - val_fp: 9.0000 - val_loss: 0.0053 - val_precision: 0.8615 - val_recall: 0.7568 - val_tn: 39790.0000 - val_tp: 56.0000\n",
      "Epoch 248/300\n",
      "\u001b[1m78/78\u001b[0m \u001b[32m━━━━━━━━━━━━━━━━━━━━\u001b[0m\u001b[37m\u001b[0m \u001b[1m0s\u001b[0m 5ms/step - fn: 14.4051 - fp: 6.0127 - loss: 8.9673e-04 - precision: 0.9548 - recall: 0.8960 - tn: 81737.4922 - tp: 129.7595 - val_fn: 18.0000 - val_fp: 7.0000 - val_loss: 0.0053 - val_precision: 0.8889 - val_recall: 0.7568 - val_tn: 39792.0000 - val_tp: 56.0000\n",
      "Epoch 249/300\n",
      "\u001b[1m78/78\u001b[0m \u001b[32m━━━━━━━━━━━━━━━━━━━━\u001b[0m\u001b[37m\u001b[0m \u001b[1m0s\u001b[0m 5ms/step - fn: 17.3924 - fp: 4.0000 - loss: 9.6737e-04 - precision: 0.9729 - recall: 0.8837 - tn: 81730.7109 - tp: 135.5696 - val_fn: 18.0000 - val_fp: 6.0000 - val_loss: 0.0050 - val_precision: 0.9032 - val_recall: 0.7568 - val_tn: 39793.0000 - val_tp: 56.0000\n",
      "Epoch 250/300\n",
      "\u001b[1m78/78\u001b[0m \u001b[32m━━━━━━━━━━━━━━━━━━━━\u001b[0m\u001b[37m\u001b[0m \u001b[1m0s\u001b[0m 5ms/step - fn: 18.4684 - fp: 4.1519 - loss: 0.0010 - precision: 0.9786 - recall: 0.8689 - tn: 81734.4453 - tp: 130.6076 - val_fn: 18.0000 - val_fp: 7.0000 - val_loss: 0.0052 - val_precision: 0.8889 - val_recall: 0.7568 - val_tn: 39792.0000 - val_tp: 56.0000\n",
      "Epoch 251/300\n",
      "\u001b[1m78/78\u001b[0m \u001b[32m━━━━━━━━━━━━━━━━━━━━\u001b[0m\u001b[37m\u001b[0m \u001b[1m0s\u001b[0m 5ms/step - fn: 17.1013 - fp: 4.7722 - loss: 8.9436e-04 - precision: 0.9707 - recall: 0.8694 - tn: 81740.9219 - tp: 124.8734 - val_fn: 18.0000 - val_fp: 7.0000 - val_loss: 0.0052 - val_precision: 0.8889 - val_recall: 0.7568 - val_tn: 39792.0000 - val_tp: 56.0000\n",
      "Epoch 252/300\n",
      "\u001b[1m78/78\u001b[0m \u001b[32m━━━━━━━━━━━━━━━━━━━━\u001b[0m\u001b[37m\u001b[0m \u001b[1m0s\u001b[0m 5ms/step - fn: 12.2405 - fp: 7.0886 - loss: 7.6303e-04 - precision: 0.9479 - recall: 0.9254 - tn: 81738.0625 - tp: 130.2785 - val_fn: 18.0000 - val_fp: 7.0000 - val_loss: 0.0053 - val_precision: 0.8889 - val_recall: 0.7568 - val_tn: 39792.0000 - val_tp: 56.0000\n",
      "Epoch 253/300\n",
      "\u001b[1m78/78\u001b[0m \u001b[32m━━━━━━━━━━━━━━━━━━━━\u001b[0m\u001b[37m\u001b[0m \u001b[1m0s\u001b[0m 4ms/step - fn: 20.2152 - fp: 5.4430 - loss: 0.0015 - precision: 0.9646 - recall: 0.8548 - tn: 81729.2031 - tp: 132.8101 - val_fn: 18.0000 - val_fp: 7.0000 - val_loss: 0.0051 - val_precision: 0.8889 - val_recall: 0.7568 - val_tn: 39792.0000 - val_tp: 56.0000\n",
      "Epoch 254/300\n",
      "\u001b[1m78/78\u001b[0m \u001b[32m━━━━━━━━━━━━━━━━━━━━\u001b[0m\u001b[37m\u001b[0m \u001b[1m0s\u001b[0m 5ms/step - fn: 13.2658 - fp: 4.4810 - loss: 7.4776e-04 - precision: 0.9626 - recall: 0.9133 - tn: 81734.9609 - tp: 134.9620 - val_fn: 18.0000 - val_fp: 7.0000 - val_loss: 0.0053 - val_precision: 0.8889 - val_recall: 0.7568 - val_tn: 39792.0000 - val_tp: 56.0000\n",
      "Epoch 255/300\n",
      "\u001b[1m78/78\u001b[0m \u001b[32m━━━━━━━━━━━━━━━━━━━━\u001b[0m\u001b[37m\u001b[0m \u001b[1m0s\u001b[0m 5ms/step - fn: 16.0127 - fp: 5.0127 - loss: 8.1052e-04 - precision: 0.9698 - recall: 0.8947 - tn: 81729.6797 - tp: 136.9620 - val_fn: 18.0000 - val_fp: 8.0000 - val_loss: 0.0053 - val_precision: 0.8750 - val_recall: 0.7568 - val_tn: 39791.0000 - val_tp: 56.0000\n",
      "Epoch 256/300\n",
      "\u001b[1m78/78\u001b[0m \u001b[32m━━━━━━━━━━━━━━━━━━━━\u001b[0m\u001b[37m\u001b[0m \u001b[1m0s\u001b[0m 5ms/step - fn: 12.8734 - fp: 3.4177 - loss: 8.7275e-04 - precision: 0.9701 - recall: 0.8954 - tn: 81748.0859 - tp: 123.2911 - val_fn: 18.0000 - val_fp: 9.0000 - val_loss: 0.0055 - val_precision: 0.8615 - val_recall: 0.7568 - val_tn: 39790.0000 - val_tp: 56.0000\n",
      "Epoch 257/300\n",
      "\u001b[1m78/78\u001b[0m \u001b[32m━━━━━━━━━━━━━━━━━━━━\u001b[0m\u001b[37m\u001b[0m \u001b[1m0s\u001b[0m 5ms/step - fn: 12.5443 - fp: 4.5316 - loss: 8.9223e-04 - precision: 0.9604 - recall: 0.8969 - tn: 81738.1406 - tp: 132.4557 - val_fn: 18.0000 - val_fp: 7.0000 - val_loss: 0.0053 - val_precision: 0.8889 - val_recall: 0.7568 - val_tn: 39792.0000 - val_tp: 56.0000\n",
      "Epoch 258/300\n",
      "\u001b[1m78/78\u001b[0m \u001b[32m━━━━━━━━━━━━━━━━━━━━\u001b[0m\u001b[37m\u001b[0m \u001b[1m0s\u001b[0m 5ms/step - fn: 18.0886 - fp: 4.6456 - loss: 0.0010 - precision: 0.9609 - recall: 0.8560 - tn: 81741.8516 - tp: 123.0886 - val_fn: 18.0000 - val_fp: 7.0000 - val_loss: 0.0052 - val_precision: 0.8889 - val_recall: 0.7568 - val_tn: 39792.0000 - val_tp: 56.0000\n",
      "Epoch 259/300\n",
      "\u001b[1m78/78\u001b[0m \u001b[32m━━━━━━━━━━━━━━━━━━━━\u001b[0m\u001b[37m\u001b[0m \u001b[1m0s\u001b[0m 5ms/step - fn: 13.3038 - fp: 6.1013 - loss: 7.8793e-04 - precision: 0.9517 - recall: 0.9215 - tn: 81737.6484 - tp: 130.6203 - val_fn: 18.0000 - val_fp: 8.0000 - val_loss: 0.0052 - val_precision: 0.8750 - val_recall: 0.7568 - val_tn: 39791.0000 - val_tp: 56.0000\n",
      "Epoch 260/300\n",
      "\u001b[1m78/78\u001b[0m \u001b[32m━━━━━━━━━━━━━━━━━━━━\u001b[0m\u001b[37m\u001b[0m \u001b[1m0s\u001b[0m 5ms/step - fn: 16.1013 - fp: 8.8987 - loss: 9.7993e-04 - precision: 0.9368 - recall: 0.8867 - tn: 81727.5156 - tp: 135.1519 - val_fn: 18.0000 - val_fp: 7.0000 - val_loss: 0.0052 - val_precision: 0.8889 - val_recall: 0.7568 - val_tn: 39792.0000 - val_tp: 56.0000\n",
      "Epoch 261/300\n",
      "\u001b[1m78/78\u001b[0m \u001b[32m━━━━━━━━━━━━━━━━━━━━\u001b[0m\u001b[37m\u001b[0m \u001b[1m0s\u001b[0m 5ms/step - fn: 15.2785 - fp: 2.2152 - loss: 9.9968e-04 - precision: 0.9842 - recall: 0.8931 - tn: 81728.9844 - tp: 141.1899 - val_fn: 18.0000 - val_fp: 8.0000 - val_loss: 0.0053 - val_precision: 0.8750 - val_recall: 0.7568 - val_tn: 39791.0000 - val_tp: 56.0000\n",
      "Epoch 262/300\n",
      "\u001b[1m78/78\u001b[0m \u001b[32m━━━━━━━━━━━━━━━━━━━━\u001b[0m\u001b[37m\u001b[0m \u001b[1m0s\u001b[0m 5ms/step - fn: 14.7215 - fp: 4.4557 - loss: 6.3497e-04 - precision: 0.9680 - recall: 0.8991 - tn: 81739.1172 - tp: 129.3797 - val_fn: 18.0000 - val_fp: 7.0000 - val_loss: 0.0052 - val_precision: 0.8889 - val_recall: 0.7568 - val_tn: 39792.0000 - val_tp: 56.0000\n",
      "Epoch 263/300\n",
      "\u001b[1m78/78\u001b[0m \u001b[32m━━━━━━━━━━━━━━━━━━━━\u001b[0m\u001b[37m\u001b[0m \u001b[1m0s\u001b[0m 5ms/step - fn: 17.7722 - fp: 5.8481 - loss: 0.0011 - precision: 0.9575 - recall: 0.8572 - tn: 81741.0156 - tp: 123.0380 - val_fn: 18.0000 - val_fp: 10.0000 - val_loss: 0.0055 - val_precision: 0.8485 - val_recall: 0.7568 - val_tn: 39789.0000 - val_tp: 56.0000\n",
      "Epoch 264/300\n",
      "\u001b[1m78/78\u001b[0m \u001b[32m━━━━━━━━━━━━━━━━━━━━\u001b[0m\u001b[37m\u001b[0m \u001b[1m0s\u001b[0m 5ms/step - fn: 16.3797 - fp: 5.6835 - loss: 7.2678e-04 - precision: 0.9602 - recall: 0.8884 - tn: 81741.1875 - tp: 124.4177 - val_fn: 18.0000 - val_fp: 10.0000 - val_loss: 0.0056 - val_precision: 0.8485 - val_recall: 0.7568 - val_tn: 39789.0000 - val_tp: 56.0000\n",
      "Epoch 265/300\n",
      "\u001b[1m78/78\u001b[0m \u001b[32m━━━━━━━━━━━━━━━━━━━━\u001b[0m\u001b[37m\u001b[0m \u001b[1m0s\u001b[0m 5ms/step - fn: 14.2278 - fp: 5.4810 - loss: 9.6700e-04 - precision: 0.9495 - recall: 0.8854 - tn: 81746.7109 - tp: 121.2532 - val_fn: 18.0000 - val_fp: 8.0000 - val_loss: 0.0053 - val_precision: 0.8750 - val_recall: 0.7568 - val_tn: 39791.0000 - val_tp: 56.0000\n",
      "Epoch 266/300\n",
      "\u001b[1m78/78\u001b[0m \u001b[32m━━━━━━━━━━━━━━━━━━━━\u001b[0m\u001b[37m\u001b[0m \u001b[1m0s\u001b[0m 5ms/step - fn: 16.7215 - fp: 6.7215 - loss: 0.0011 - precision: 0.9620 - recall: 0.8768 - tn: 81733.9766 - tp: 130.2532 - val_fn: 18.0000 - val_fp: 8.0000 - val_loss: 0.0051 - val_precision: 0.8750 - val_recall: 0.7568 - val_tn: 39791.0000 - val_tp: 56.0000\n",
      "Epoch 267/300\n",
      "\u001b[1m78/78\u001b[0m \u001b[32m━━━━━━━━━━━━━━━━━━━━\u001b[0m\u001b[37m\u001b[0m \u001b[1m0s\u001b[0m 5ms/step - fn: 20.9367 - fp: 6.6582 - loss: 0.0011 - precision: 0.9340 - recall: 0.8328 - tn: 81737.4062 - tp: 122.6709 - val_fn: 18.0000 - val_fp: 10.0000 - val_loss: 0.0054 - val_precision: 0.8485 - val_recall: 0.7568 - val_tn: 39789.0000 - val_tp: 56.0000\n",
      "Epoch 268/300\n",
      "\u001b[1m78/78\u001b[0m \u001b[32m━━━━━━━━━━━━━━━━━━━━\u001b[0m\u001b[37m\u001b[0m \u001b[1m0s\u001b[0m 4ms/step - fn: 13.5823 - fp: 7.1899 - loss: 8.4501e-04 - precision: 0.9473 - recall: 0.9020 - tn: 81739.9219 - tp: 126.9747 - val_fn: 18.0000 - val_fp: 7.0000 - val_loss: 0.0052 - val_precision: 0.8889 - val_recall: 0.7568 - val_tn: 39792.0000 - val_tp: 56.0000\n",
      "Epoch 269/300\n",
      "\u001b[1m78/78\u001b[0m \u001b[32m━━━━━━━━━━━━━━━━━━━━\u001b[0m\u001b[37m\u001b[0m \u001b[1m0s\u001b[0m 5ms/step - fn: 12.0759 - fp: 2.8354 - loss: 6.0737e-04 - precision: 0.9851 - recall: 0.9145 - tn: 81741.2656 - tp: 131.4937 - val_fn: 18.0000 - val_fp: 7.0000 - val_loss: 0.0052 - val_precision: 0.8889 - val_recall: 0.7568 - val_tn: 39792.0000 - val_tp: 56.0000\n",
      "Epoch 270/300\n",
      "\u001b[1m78/78\u001b[0m \u001b[32m━━━━━━━━━━━━━━━━━━━━\u001b[0m\u001b[37m\u001b[0m \u001b[1m0s\u001b[0m 5ms/step - fn: 17.4937 - fp: 4.9873 - loss: 9.1562e-04 - precision: 0.9674 - recall: 0.8681 - tn: 81733.7578 - tp: 131.4304 - val_fn: 18.0000 - val_fp: 9.0000 - val_loss: 0.0054 - val_precision: 0.8615 - val_recall: 0.7568 - val_tn: 39790.0000 - val_tp: 56.0000\n",
      "Epoch 271/300\n",
      "\u001b[1m78/78\u001b[0m \u001b[32m━━━━━━━━━━━━━━━━━━━━\u001b[0m\u001b[37m\u001b[0m \u001b[1m0s\u001b[0m 5ms/step - fn: 13.2278 - fp: 2.3671 - loss: 6.5181e-04 - precision: 0.9875 - recall: 0.9187 - tn: 81746.1484 - tp: 125.9240 - val_fn: 18.0000 - val_fp: 10.0000 - val_loss: 0.0054 - val_precision: 0.8485 - val_recall: 0.7568 - val_tn: 39789.0000 - val_tp: 56.0000\n",
      "Epoch 272/300\n",
      "\u001b[1m78/78\u001b[0m \u001b[32m━━━━━━━━━━━━━━━━━━━━\u001b[0m\u001b[37m\u001b[0m \u001b[1m0s\u001b[0m 5ms/step - fn: 15.2278 - fp: 9.1266 - loss: 9.0059e-04 - precision: 0.9372 - recall: 0.8976 - tn: 81731.1797 - tp: 132.1392 - val_fn: 18.0000 - val_fp: 9.0000 - val_loss: 0.0055 - val_precision: 0.8615 - val_recall: 0.7568 - val_tn: 39790.0000 - val_tp: 56.0000\n",
      "Epoch 273/300\n",
      "\u001b[1m78/78\u001b[0m \u001b[32m━━━━━━━━━━━━━━━━━━━━\u001b[0m\u001b[37m\u001b[0m \u001b[1m0s\u001b[0m 5ms/step - fn: 15.1013 - fp: 6.4177 - loss: 9.0379e-04 - precision: 0.9600 - recall: 0.8991 - tn: 81732.6172 - tp: 133.5316 - val_fn: 18.0000 - val_fp: 7.0000 - val_loss: 0.0053 - val_precision: 0.8889 - val_recall: 0.7568 - val_tn: 39792.0000 - val_tp: 56.0000\n",
      "Epoch 274/300\n",
      "\u001b[1m78/78\u001b[0m \u001b[32m━━━━━━━━━━━━━━━━━━━━\u001b[0m\u001b[37m\u001b[0m \u001b[1m0s\u001b[0m 5ms/step - fn: 14.8608 - fp: 3.7342 - loss: 7.0755e-04 - precision: 0.9730 - recall: 0.9037 - tn: 81733.1484 - tp: 135.9241 - val_fn: 18.0000 - val_fp: 9.0000 - val_loss: 0.0058 - val_precision: 0.8615 - val_recall: 0.7568 - val_tn: 39790.0000 - val_tp: 56.0000\n",
      "Epoch 275/300\n",
      "\u001b[1m78/78\u001b[0m \u001b[32m━━━━━━━━━━━━━━━━━━━━\u001b[0m\u001b[37m\u001b[0m \u001b[1m0s\u001b[0m 5ms/step - fn: 12.4430 - fp: 3.4937 - loss: 7.5334e-04 - precision: 0.9729 - recall: 0.9183 - tn: 81743.8203 - tp: 127.9114 - val_fn: 18.0000 - val_fp: 8.0000 - val_loss: 0.0052 - val_precision: 0.8750 - val_recall: 0.7568 - val_tn: 39791.0000 - val_tp: 56.0000\n",
      "Epoch 276/300\n",
      "\u001b[1m78/78\u001b[0m \u001b[32m━━━━━━━━━━━━━━━━━━━━\u001b[0m\u001b[37m\u001b[0m \u001b[1m0s\u001b[0m 5ms/step - fn: 11.0886 - fp: 4.6076 - loss: 6.7721e-04 - precision: 0.9700 - recall: 0.9253 - tn: 81738.8516 - tp: 133.1266 - val_fn: 18.0000 - val_fp: 10.0000 - val_loss: 0.0055 - val_precision: 0.8485 - val_recall: 0.7568 - val_tn: 39789.0000 - val_tp: 56.0000\n",
      "Epoch 277/300\n",
      "\u001b[1m78/78\u001b[0m \u001b[32m━━━━━━━━━━━━━━━━━━━━\u001b[0m\u001b[37m\u001b[0m \u001b[1m0s\u001b[0m 5ms/step - fn: 12.6709 - fp: 4.7468 - loss: 7.6104e-04 - precision: 0.9713 - recall: 0.9154 - tn: 81737.4844 - tp: 132.7722 - val_fn: 18.0000 - val_fp: 10.0000 - val_loss: 0.0055 - val_precision: 0.8485 - val_recall: 0.7568 - val_tn: 39789.0000 - val_tp: 56.0000\n",
      "Epoch 278/300\n",
      "\u001b[1m78/78\u001b[0m \u001b[32m━━━━━━━━━━━━━━━━━━━━\u001b[0m\u001b[37m\u001b[0m \u001b[1m0s\u001b[0m 5ms/step - fn: 17.7215 - fp: 6.7975 - loss: 7.0644e-04 - precision: 0.9552 - recall: 0.8902 - tn: 81726.9141 - tp: 136.2405 - val_fn: 18.0000 - val_fp: 8.0000 - val_loss: 0.0054 - val_precision: 0.8750 - val_recall: 0.7568 - val_tn: 39791.0000 - val_tp: 56.0000\n",
      "Epoch 279/300\n",
      "\u001b[1m78/78\u001b[0m \u001b[32m━━━━━━━━━━━━━━━━━━━━\u001b[0m\u001b[37m\u001b[0m \u001b[1m0s\u001b[0m 5ms/step - fn: 14.6582 - fp: 4.2785 - loss: 8.6325e-04 - precision: 0.9734 - recall: 0.9018 - tn: 81738.9531 - tp: 129.7848 - val_fn: 18.0000 - val_fp: 8.0000 - val_loss: 0.0057 - val_precision: 0.8750 - val_recall: 0.7568 - val_tn: 39791.0000 - val_tp: 56.0000\n",
      "Epoch 280/300\n",
      "\u001b[1m78/78\u001b[0m \u001b[32m━━━━━━━━━━━━━━━━━━━━\u001b[0m\u001b[37m\u001b[0m \u001b[1m0s\u001b[0m 5ms/step - fn: 14.2658 - fp: 5.4557 - loss: 6.7274e-04 - precision: 0.9496 - recall: 0.9110 - tn: 81739.6797 - tp: 128.2658 - val_fn: 18.0000 - val_fp: 9.0000 - val_loss: 0.0056 - val_precision: 0.8615 - val_recall: 0.7568 - val_tn: 39790.0000 - val_tp: 56.0000\n",
      "Epoch 281/300\n",
      "\u001b[1m78/78\u001b[0m \u001b[32m━━━━━━━━━━━━━━━━━━━━\u001b[0m\u001b[37m\u001b[0m \u001b[1m0s\u001b[0m 5ms/step - fn: 11.1139 - fp: 5.9873 - loss: 6.9347e-04 - precision: 0.9382 - recall: 0.9387 - tn: 81730.0859 - tp: 140.4810 - val_fn: 18.0000 - val_fp: 9.0000 - val_loss: 0.0056 - val_precision: 0.8615 - val_recall: 0.7568 - val_tn: 39790.0000 - val_tp: 56.0000\n",
      "Epoch 282/300\n",
      "\u001b[1m78/78\u001b[0m \u001b[32m━━━━━━━━━━━━━━━━━━━━\u001b[0m\u001b[37m\u001b[0m \u001b[1m0s\u001b[0m 5ms/step - fn: 12.6203 - fp: 3.1392 - loss: 6.1845e-04 - precision: 0.9832 - recall: 0.9139 - tn: 81734.7969 - tp: 137.1139 - val_fn: 18.0000 - val_fp: 10.0000 - val_loss: 0.0059 - val_precision: 0.8485 - val_recall: 0.7568 - val_tn: 39789.0000 - val_tp: 56.0000\n",
      "Epoch 283/300\n",
      "\u001b[1m78/78\u001b[0m \u001b[32m━━━━━━━━━━━━━━━━━━━━\u001b[0m\u001b[37m\u001b[0m \u001b[1m0s\u001b[0m 5ms/step - fn: 12.9241 - fp: 4.8861 - loss: 7.4760e-04 - precision: 0.9622 - recall: 0.9029 - tn: 81739.7578 - tp: 130.1013 - val_fn: 18.0000 - val_fp: 7.0000 - val_loss: 0.0054 - val_precision: 0.8889 - val_recall: 0.7568 - val_tn: 39792.0000 - val_tp: 56.0000\n",
      "Epoch 284/300\n",
      "\u001b[1m78/78\u001b[0m \u001b[32m━━━━━━━━━━━━━━━━━━━━\u001b[0m\u001b[37m\u001b[0m \u001b[1m0s\u001b[0m 5ms/step - fn: 10.5443 - fp: 2.5190 - loss: 5.3300e-04 - precision: 0.9864 - recall: 0.9195 - tn: 81739.0156 - tp: 135.5949 - val_fn: 18.0000 - val_fp: 8.0000 - val_loss: 0.0056 - val_precision: 0.8750 - val_recall: 0.7568 - val_tn: 39791.0000 - val_tp: 56.0000\n",
      "Epoch 285/300\n",
      "\u001b[1m78/78\u001b[0m \u001b[32m━━━━━━━━━━━━━━━━━━━━\u001b[0m\u001b[37m\u001b[0m \u001b[1m0s\u001b[0m 5ms/step - fn: 14.2405 - fp: 3.8354 - loss: 8.0635e-04 - precision: 0.9704 - recall: 0.8876 - tn: 81747.0625 - tp: 122.5316 - val_fn: 18.0000 - val_fp: 9.0000 - val_loss: 0.0056 - val_precision: 0.8615 - val_recall: 0.7568 - val_tn: 39790.0000 - val_tp: 56.0000\n",
      "Epoch 286/300\n",
      "\u001b[1m78/78\u001b[0m \u001b[32m━━━━━━━━━━━━━━━━━━━━\u001b[0m\u001b[37m\u001b[0m \u001b[1m0s\u001b[0m 5ms/step - fn: 14.0759 - fp: 4.9114 - loss: 8.0873e-04 - precision: 0.9595 - recall: 0.9018 - tn: 81741.9844 - tp: 126.6962 - val_fn: 18.0000 - val_fp: 8.0000 - val_loss: 0.0054 - val_precision: 0.8750 - val_recall: 0.7568 - val_tn: 39791.0000 - val_tp: 56.0000\n",
      "Epoch 287/300\n",
      "\u001b[1m78/78\u001b[0m \u001b[32m━━━━━━━━━━━━━━━━━━━━\u001b[0m\u001b[37m\u001b[0m \u001b[1m0s\u001b[0m 5ms/step - fn: 13.4557 - fp: 3.6076 - loss: 7.0062e-04 - precision: 0.9795 - recall: 0.9111 - tn: 81743.2500 - tp: 127.3544 - val_fn: 18.0000 - val_fp: 9.0000 - val_loss: 0.0055 - val_precision: 0.8615 - val_recall: 0.7568 - val_tn: 39790.0000 - val_tp: 56.0000\n",
      "Epoch 288/300\n",
      "\u001b[1m78/78\u001b[0m \u001b[32m━━━━━━━━━━━━━━━━━━━━\u001b[0m\u001b[37m\u001b[0m \u001b[1m0s\u001b[0m 5ms/step - fn: 15.0253 - fp: 3.7215 - loss: 8.0999e-04 - precision: 0.9783 - recall: 0.8982 - tn: 81738.3906 - tp: 130.5316 - val_fn: 18.0000 - val_fp: 9.0000 - val_loss: 0.0056 - val_precision: 0.8615 - val_recall: 0.7568 - val_tn: 39790.0000 - val_tp: 56.0000\n",
      "Epoch 289/300\n",
      "\u001b[1m78/78\u001b[0m \u001b[32m━━━━━━━━━━━━━━━━━━━━\u001b[0m\u001b[37m\u001b[0m \u001b[1m1s\u001b[0m 5ms/step - fn: 9.3544 - fp: 5.2405 - loss: 5.3766e-04 - precision: 0.9632 - recall: 0.9468 - tn: 81739.8203 - tp: 133.2532 - val_fn: 18.0000 - val_fp: 10.0000 - val_loss: 0.0057 - val_precision: 0.8485 - val_recall: 0.7568 - val_tn: 39789.0000 - val_tp: 56.0000\n",
      "Epoch 290/300\n",
      "\u001b[1m78/78\u001b[0m \u001b[32m━━━━━━━━━━━━━━━━━━━━\u001b[0m\u001b[37m\u001b[0m \u001b[1m0s\u001b[0m 5ms/step - fn: 14.9114 - fp: 4.9114 - loss: 0.0010 - precision: 0.9677 - recall: 0.8892 - tn: 81733.1641 - tp: 134.6835 - val_fn: 18.0000 - val_fp: 10.0000 - val_loss: 0.0059 - val_precision: 0.8485 - val_recall: 0.7568 - val_tn: 39789.0000 - val_tp: 56.0000\n",
      "Epoch 291/300\n",
      "\u001b[1m78/78\u001b[0m \u001b[32m━━━━━━━━━━━━━━━━━━━━\u001b[0m\u001b[37m\u001b[0m \u001b[1m0s\u001b[0m 5ms/step - fn: 12.3671 - fp: 5.3797 - loss: 7.1107e-04 - precision: 0.9567 - recall: 0.8965 - tn: 81733.6484 - tp: 136.2785 - val_fn: 18.0000 - val_fp: 9.0000 - val_loss: 0.0056 - val_precision: 0.8615 - val_recall: 0.7568 - val_tn: 39790.0000 - val_tp: 56.0000\n",
      "Epoch 292/300\n",
      "\u001b[1m78/78\u001b[0m \u001b[32m━━━━━━━━━━━━━━━━━━━━\u001b[0m\u001b[37m\u001b[0m \u001b[1m0s\u001b[0m 5ms/step - fn: 10.7848 - fp: 3.8861 - loss: 6.5097e-04 - precision: 0.9722 - recall: 0.9277 - tn: 81749.0391 - tp: 123.9620 - val_fn: 18.0000 - val_fp: 10.0000 - val_loss: 0.0056 - val_precision: 0.8485 - val_recall: 0.7568 - val_tn: 39789.0000 - val_tp: 56.0000\n",
      "Epoch 293/300\n",
      "\u001b[1m78/78\u001b[0m \u001b[32m━━━━━━━━━━━━━━━━━━━━\u001b[0m\u001b[37m\u001b[0m \u001b[1m0s\u001b[0m 5ms/step - fn: 9.2152 - fp: 3.0633 - loss: 5.6793e-04 - precision: 0.9640 - recall: 0.9526 - tn: 81740.2422 - tp: 135.1519 - val_fn: 18.0000 - val_fp: 9.0000 - val_loss: 0.0055 - val_precision: 0.8615 - val_recall: 0.7568 - val_tn: 39790.0000 - val_tp: 56.0000\n",
      "Epoch 294/300\n",
      "\u001b[1m78/78\u001b[0m \u001b[32m━━━━━━━━━━━━━━━━━━━━\u001b[0m\u001b[37m\u001b[0m \u001b[1m0s\u001b[0m 5ms/step - fn: 9.4557 - fp: 2.9241 - loss: 4.4483e-04 - precision: 0.9767 - recall: 0.9402 - tn: 81743.8125 - tp: 131.4810 - val_fn: 18.0000 - val_fp: 11.0000 - val_loss: 0.0060 - val_precision: 0.8358 - val_recall: 0.7568 - val_tn: 39788.0000 - val_tp: 56.0000\n",
      "Epoch 295/300\n",
      "\u001b[1m78/78\u001b[0m \u001b[32m━━━━━━━━━━━━━━━━━━━━\u001b[0m\u001b[37m\u001b[0m \u001b[1m0s\u001b[0m 5ms/step - fn: 8.3165 - fp: 5.0000 - loss: 4.9867e-04 - precision: 0.9595 - recall: 0.9584 - tn: 81739.5156 - tp: 134.8354 - val_fn: 18.0000 - val_fp: 9.0000 - val_loss: 0.0055 - val_precision: 0.8615 - val_recall: 0.7568 - val_tn: 39790.0000 - val_tp: 56.0000\n",
      "Epoch 296/300\n",
      "\u001b[1m78/78\u001b[0m \u001b[32m━━━━━━━━━━━━━━━━━━━━\u001b[0m\u001b[37m\u001b[0m \u001b[1m0s\u001b[0m 5ms/step - fn: 14.9367 - fp: 6.6456 - loss: 0.0011 - precision: 0.9460 - recall: 0.8855 - tn: 81736.0391 - tp: 130.0506 - val_fn: 18.0000 - val_fp: 9.0000 - val_loss: 0.0055 - val_precision: 0.8615 - val_recall: 0.7568 - val_tn: 39790.0000 - val_tp: 56.0000\n",
      "Epoch 297/300\n",
      "\u001b[1m78/78\u001b[0m \u001b[32m━━━━━━━━━━━━━━━━━━━━\u001b[0m\u001b[37m\u001b[0m \u001b[1m0s\u001b[0m 5ms/step - fn: 9.3165 - fp: 2.6962 - loss: 4.0182e-04 - precision: 0.9847 - recall: 0.9480 - tn: 81740.6719 - tp: 134.9873 - val_fn: 18.0000 - val_fp: 10.0000 - val_loss: 0.0059 - val_precision: 0.8485 - val_recall: 0.7568 - val_tn: 39789.0000 - val_tp: 56.0000\n",
      "Epoch 298/300\n",
      "\u001b[1m78/78\u001b[0m \u001b[32m━━━━━━━━━━━━━━━━━━━━\u001b[0m\u001b[37m\u001b[0m \u001b[1m0s\u001b[0m 5ms/step - fn: 11.0633 - fp: 4.5570 - loss: 6.3426e-04 - precision: 0.9699 - recall: 0.9240 - tn: 81729.9844 - tp: 142.0633 - val_fn: 18.0000 - val_fp: 10.0000 - val_loss: 0.0058 - val_precision: 0.8485 - val_recall: 0.7568 - val_tn: 39789.0000 - val_tp: 56.0000\n",
      "Epoch 299/300\n",
      "\u001b[1m78/78\u001b[0m \u001b[32m━━━━━━━━━━━━━━━━━━━━\u001b[0m\u001b[37m\u001b[0m \u001b[1m0s\u001b[0m 5ms/step - fn: 9.5696 - fp: 2.8608 - loss: 4.7568e-04 - precision: 0.9728 - recall: 0.9442 - tn: 81744.4297 - tp: 130.8101 - val_fn: 18.0000 - val_fp: 10.0000 - val_loss: 0.0059 - val_precision: 0.8485 - val_recall: 0.7568 - val_tn: 39789.0000 - val_tp: 56.0000\n",
      "Epoch 300/300\n",
      "\u001b[1m78/78\u001b[0m \u001b[32m━━━━━━━━━━━━━━━━━━━━\u001b[0m\u001b[37m\u001b[0m \u001b[1m0s\u001b[0m 5ms/step - fn: 13.4430 - fp: 4.1519 - loss: 9.1149e-04 - precision: 0.9726 - recall: 0.9010 - tn: 81735.9375 - tp: 134.1392 - val_fn: 18.0000 - val_fp: 9.0000 - val_loss: 0.0060 - val_precision: 0.8615 - val_recall: 0.7568 - val_tn: 39790.0000 - val_tp: 56.0000\n"
     ]
    }
   ],
   "source": [
    "METRICS = [\n",
    "#     keras.metrics.Accuracy(name='accuracy'),\n",
    "    keras.metrics.FalseNegatives(name='fn'),\n",
    "    keras.metrics.FalsePositives(name='fp'),\n",
    "    keras.metrics.TrueNegatives(name='tn'),\n",
    "    keras.metrics.TruePositives(name='tp'),\n",
    "    keras.metrics.Precision(name='precision'),\n",
    "    keras.metrics.Recall(name='recall')\n",
    "]\n",
    "\n",
    "model.compile(optimizer=keras.optimizers.Adam(1e-4), loss='binary_crossentropy', metrics=METRICS)\n",
    "\n",
    "callbacks = [keras.callbacks.ModelCheckpoint('fraud_model_at_epoch_{epoch}.keras')]\n",
    "class_weight = {0:w_p, 1:w_n}\n",
    "\n",
    "r = model.fit(\n",
    "    X_train, y_train, \n",
    "    validation_data=(X_validate, y_validate),\n",
    "    batch_size=2048, \n",
    "    epochs=300, \n",
    "#     class_weight=class_weight,\n",
    "    callbacks=callbacks,\n",
    ")"
   ]
  },
  {
   "cell_type": "markdown",
   "id": "b685c772",
   "metadata": {
    "papermill": {
     "duration": 0.183779,
     "end_time": "2024-04-29T12:01:31.410206",
     "exception": false,
     "start_time": "2024-04-29T12:01:31.226427",
     "status": "completed"
    },
    "tags": []
   },
   "source": [
    "Then we can have a quick evaluation of the model."
   ]
  },
  {
   "cell_type": "markdown",
   "id": "86065c50",
   "metadata": {
    "papermill": {
     "duration": 0.186639,
     "end_time": "2024-04-29T12:01:31.782236",
     "exception": false,
     "start_time": "2024-04-29T12:01:31.595597",
     "status": "completed"
    },
    "tags": []
   },
   "source": [
    "### Model Evaluation"
   ]
  },
  {
   "cell_type": "code",
   "execution_count": 19,
   "id": "4f3e434d",
   "metadata": {
    "execution": {
     "iopub.execute_input": "2024-04-29T12:01:32.151292Z",
     "iopub.status.busy": "2024-04-29T12:01:32.150926Z",
     "iopub.status.idle": "2024-04-29T12:01:38.954504Z",
     "shell.execute_reply": "2024-04-29T12:01:38.953587Z"
    },
    "papermill": {
     "duration": 6.991815,
     "end_time": "2024-04-29T12:01:38.957648",
     "exception": false,
     "start_time": "2024-04-29T12:01:31.965833",
     "status": "completed"
    },
    "tags": []
   },
   "outputs": [
    {
     "name": "stdout",
     "output_type": "stream",
     "text": [
      "\u001b[1m2671/2671\u001b[0m \u001b[32m━━━━━━━━━━━━━━━━━━━━\u001b[0m\u001b[37m\u001b[0m \u001b[1m6s\u001b[0m 2ms/step - fn: 15.9779 - fp: 8.3226 - loss: 0.0055 - precision: 0.8685 - recall: 0.7744 - tn: 42690.9648 - tp: 52.7002\n",
      "[0.004637403879314661, 29.0, 18.0, 85288.0, 107.0, 0.8560000061988831, 0.7867646813392639]\n"
     ]
    },
    {
     "data": {
      "text/plain": [
       "<matplotlib.legend.Legend at 0x7f13dc5345e0>"
      ]
     },
     "execution_count": 19,
     "metadata": {},
     "output_type": "execute_result"
    },
    {
     "data": {
      "image/png": "[encoded data removed]",
      "text/plain": [
       "<Figure size 1200x1600 with 4 Axes>"
      ]
     },
     "metadata": {},
     "output_type": "display_data"
    }
   ],
   "source": [
    "score = model.evaluate(X_test, y_test)\n",
    "print(score)\n",
    "\n",
    "plt.figure(figsize=(12, 16))\n",
    "\n",
    "plt.subplot(4, 2, 1)\n",
    "plt.plot(r.history['loss'], label='Loss')\n",
    "plt.plot(r.history['val_loss'], label='val_Loss')\n",
    "plt.title('Loss Function evolution during training')\n",
    "plt.legend()\n",
    "\n",
    "plt.subplot(4, 2, 2)\n",
    "plt.plot(r.history['fn'], label='fn')\n",
    "plt.plot(r.history['val_fn'], label='val_fn')\n",
    "plt.title('Accuracy evolution during training')\n",
    "plt.legend()\n",
    "\n",
    "plt.subplot(4, 2, 3)\n",
    "plt.plot(r.history['precision'], label='precision')\n",
    "plt.plot(r.history['val_precision'], label='val_precision')\n",
    "plt.title('Precision evolution during training')\n",
    "plt.legend()\n",
    "\n",
    "plt.subplot(4, 2, 4)\n",
    "plt.plot(r.history['recall'], label='recall')\n",
    "plt.plot(r.history['val_recall'], label='val_recall')\n",
    "plt.title('Recall evolution during training')\n",
    "plt.legend()"
   ]
  },
  {
   "cell_type": "markdown",
   "id": "b9d5c6cd",
   "metadata": {
    "papermill": {
     "duration": 0.196,
     "end_time": "2024-04-29T12:01:39.349443",
     "exception": false,
     "start_time": "2024-04-29T12:01:39.153443",
     "status": "completed"
    },
    "tags": []
   },
   "source": [
    "And we can see the training results."
   ]
  },
  {
   "cell_type": "code",
   "execution_count": 20,
   "id": "ee1fe632",
   "metadata": {
    "execution": {
     "iopub.execute_input": "2024-04-29T12:01:39.770130Z",
     "iopub.status.busy": "2024-04-29T12:01:39.769733Z",
     "iopub.status.idle": "2024-04-29T12:01:54.972373Z",
     "shell.execute_reply": "2024-04-29T12:01:54.971369Z"
    },
    "papermill": {
     "duration": 15.431942,
     "end_time": "2024-04-29T12:01:54.974797",
     "exception": false,
     "start_time": "2024-04-29T12:01:39.542855",
     "status": "completed"
    },
    "tags": []
   },
   "outputs": [
    {
     "name": "stdout",
     "output_type": "stream",
     "text": [
      "\u001b[1m4985/4985\u001b[0m \u001b[32m━━━━━━━━━━━━━━━━━━━━\u001b[0m\u001b[37m\u001b[0m \u001b[1m7s\u001b[0m 1ms/step\n",
      "\u001b[1m2671/2671\u001b[0m \u001b[32m━━━━━━━━━━━━━━━━━━━━\u001b[0m\u001b[37m\u001b[0m \u001b[1m3s\u001b[0m 1ms/step\n",
      "Train Result:\n",
      " Accuracy Score: 99.99%\n",
      "_______________________________________________\n",
      "Classification Report:\n",
      "                  0      1  accuracy  macro avg  weighted avg\n",
      "precision      1.00   1.00      1.00       1.00          1.00\n",
      "recall         1.00   0.96      1.00       0.98          1.00\n",
      "f1-score       1.00   0.98      1.00       0.99          1.00\n",
      "support   159209.00 282.00      1.00  159491.00     159491.00\n",
      "_______________________________________________\n",
      "Confusion Matrix: \n",
      " [[159208      1]\n",
      " [    11    271]]\n",
      "\n",
      "Test Result:\n",
      " Accuracy Score: 99.94%\n",
      "_______________________________________________\n",
      "Classification Report:\n",
      "                 0      1  accuracy  macro avg  weighted avg\n",
      "precision     1.00   0.86      1.00       0.93          1.00\n",
      "recall        1.00   0.79      1.00       0.89          1.00\n",
      "f1-score      1.00   0.82      1.00       0.91          1.00\n",
      "support   85306.00 136.00      1.00   85442.00      85442.00\n",
      "_______________________________________________\n",
      "Confusion Matrix: \n",
      " [[85288    18]\n",
      " [   29   107]]\n",
      "\n"
     ]
    }
   ],
   "source": [
    "y_train_pred = model.predict(X_train)\n",
    "y_test_pred = model.predict(X_test)\n",
    "\n",
    "print_score(y_train, y_train_pred.round(), train=True)\n",
    "print_score(y_test, y_test_pred.round(), train=False)\n",
    "\n",
    "scores_dict = {\n",
    "    'ANNs': {\n",
    "        'Train': f1_score(y_train, y_train_pred.round()),\n",
    "        'Test': f1_score(y_test, y_test_pred.round()),\n",
    "    },\n",
    "}\n"
   ]
  },
  {
   "cell_type": "code",
   "execution_count": 21,
   "id": "f2bf8154",
   "metadata": {
    "execution": {
     "iopub.execute_input": "2024-04-29T12:01:55.396801Z",
     "iopub.status.busy": "2024-04-29T12:01:55.396455Z",
     "iopub.status.idle": "2024-04-29T12:01:55.402518Z",
     "shell.execute_reply": "2024-04-29T12:01:55.401573Z"
    },
    "papermill": {
     "duration": 0.217951,
     "end_time": "2024-04-29T12:01:55.404514",
     "exception": false,
     "start_time": "2024-04-29T12:01:55.186563",
     "status": "completed"
    },
    "tags": []
   },
   "outputs": [
    {
     "data": {
      "text/plain": [
       "{'ANNs': {'Train': 0.9783393501805054, 'Test': 0.8199233716475095}}"
      ]
     },
     "execution_count": 21,
     "metadata": {},
     "output_type": "execute_result"
    }
   ],
   "source": [
    "scores_dict"
   ]
  },
  {
   "cell_type": "markdown",
   "id": "0ac15bf0",
   "metadata": {
    "papermill": {
     "duration": 0.256466,
     "end_time": "2024-04-29T12:01:55.873611",
     "exception": false,
     "start_time": "2024-04-29T12:01:55.617145",
     "status": "completed"
    },
    "tags": []
   },
   "source": [
    "## Conclusion\n",
    "\n",
    "This notebook demonstrates the use of Artificial Neural Networks (ANNs) to build a predictive model for credit card fraud detection. From EDA to Evaluation, we have covered the key steps of a machine learning project, including data preprocessing, category imbalance handling, model building, and evaluation. The model achieves a high Accuracy Score of 99.99% on the training set and 99.96% on the test set, with a high F1 Score of 0.86 on the test set. The model is able to detect most of the fraudulent transactions while minimizing false fraud classification."
   ]
  },
  {
   "cell_type": "markdown",
   "id": "8eb6948f",
   "metadata": {
    "papermill": {
     "duration": 0.21129,
     "end_time": "2024-04-29T12:01:56.298890",
     "exception": false,
     "start_time": "2024-04-29T12:01:56.087600",
     "status": "completed"
    },
    "tags": []
   },
   "source": [
    "### Summary of existing work:\n",
    "\n",
    "- Data preprocessing: including data cleaning, feature selection, data normalization, and handling unbalanced datasets.\n",
    "- Model construction: a deep learning model was constructed, using multiple fully connected layers, batch normalization and Dropout techniques to improve model performance and generalization.\n",
    "- Model training and evaluation: binary cross entropy was used as the loss function, Adam optimizer, and several evaluation metrics were introduced to comprehensively evaluate the model performance.\n",
    "\n",
    "### Current shortcomings:\n",
    "- Data imbalance treatment: although the concept of category weights is mentioned, it is not applied in actual training, which may affect the model's ability to recognize a few classes.\n",
    "- Feature processing: the current feature selection and processing is relatively basic, and the possible performance enhancement brought by feature engineering is not further explored.\n",
    "- Model complexity: the current model structure is relatively simple and may not capture all the complex relationships in the data.\n",
    "\n",
    "### Future Directions for Improvement:\n",
    "- Improve data imbalance processing: more techniques such as SMOTE (Synthetic Minority Oversampling Technique) can be tried to generate more minority class samples, or different class weighting strategies can be tried.\n",
    "- Deeper feature engineering: further explore the relationship between features and try more feature combinations and transformations to extract more useful information.\n",
    "- Model optimization: try more complex model architectures such as deep networks, residual networks, etc., as well as different activation functions and regularization techniques to improve model performance.\n",
    "- Hyperparameter tuning: Use techniques such as Grid Search or Random Search to optimize the hyperparameters of the model and find the optimal model configuration.\n",
    "- Model Interpretation: Introduce model interpretation tools and techniques, such as SHAP or LIME, to improve the interpretability of the model and help understand how the model makes predictions.\n",
    "\n",
    "By improving these aspects, the performance and usability of the model can be further improved to better address the challenge of credit card fraud detection."
   ]
  }
 ],
 "metadata": {
  "kaggle": {
   "accelerator": "gpu",
   "dataSources": [
    {
     "datasetId": 237051,
     "sourceId": 503800,
     "sourceType": "datasetVersion"
    }
   ],
   "dockerImageVersionId": 30699,
   "isGpuEnabled": true,
   "isInternetEnabled": true,
   "language": "python",
   "sourceType": "notebook"
  },
  "kernelspec": {
   "display_name": "Python 3",
   "language": "python",
   "name": "python3"
  },
  "language_info": {
   "codemirror_mode": {
    "name": "ipython",
    "version": 3
   },
   "file_extension": ".py",
   "mimetype": "text/x-python",
   "name": "python",
   "nbconvert_exporter": "python",
   "pygments_lexer": "ipython3",
   "version": "3.10.13"
  },
  "papermill": {
   "default_parameters": {},
   "duration": 188.363553,
   "end_time": "2024-04-29T12:01:59.333626",
   "environment_variables": {},
   "exception": null,
   "input_path": "__notebook__.ipynb",
   "output_path": "__notebook__.ipynb",
   "parameters": {},
   "start_time": "2024-04-29T11:58:50.970073",
   "version": "2.5.0"
  }
 },
 "nbformat": 4,
 "nbformat_minor": 5
}
